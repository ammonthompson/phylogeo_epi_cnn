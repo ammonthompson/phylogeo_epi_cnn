{
 "cells": [
  {
   "cell_type": "code",
   "execution_count": 1,
   "id": "f4c44607",
   "metadata": {},
   "outputs": [
    {
     "name": "stderr",
     "output_type": "stream",
     "text": [
      "Using TensorFlow backend.\n"
     ]
    }
   ],
   "source": [
    "import os, shutil\n",
    "from keras import models\n",
    "from keras import layers\n",
    "import numpy as np\n",
    "import pandas as pd"
   ]
  },
  {
   "cell_type": "code",
   "execution_count": 93,
   "id": "652fa988",
   "metadata": {},
   "outputs": [],
   "source": [
    "fulldata = pd.read_csv(\"../../data/cblv_files/ML_15nov2021/cnn_training_simulations_15_nov_2021.cblv.csv\", \n",
    "                   header =None, error_bad_lines = False).to_numpy()\n"
   ]
  },
  {
   "cell_type": "code",
   "execution_count": 94,
   "id": "26a287c7",
   "metadata": {},
   "outputs": [],
   "source": [
    "#labels = pd.read_csv(\"../../data/cblv_files/ML_10oct2021/sim_root_states.csv\", \n",
    "#                     header = None, error_bad_lines = False).to_numpy()\n",
    "#random_labels = pd.read_csv(\"../../data/cblv_files/ML_10oct2021random_root_labels.csv\", \n",
    "#                            header = None, error_bad_lines = False).to_numpy()\n",
    "\n",
    "labels = pd.read_csv(\"../../data/cblv_files/ML_15nov2021/sim_root_location_labels_15nov2021.csv\",\n",
    "                    header = None, error_bad_lines = False).to_numpy()\n",
    "\n"
   ]
  },
  {
   "cell_type": "code",
   "execution_count": 95,
   "id": "9ca8c96b",
   "metadata": {},
   "outputs": [],
   "source": [
    "\n",
    "num_data_to_use = fulldata.shape[0]\n",
    "data = fulldata[0:num_data_to_use,:]"
   ]
  },
  {
   "cell_type": "code",
   "execution_count": 6,
   "id": "44b653ae",
   "metadata": {},
   "outputs": [],
   "source": [
    "# make training tensors\n",
    "num_test = 500\n",
    "num_sample = data.shape[0]\n",
    "\n",
    "train_data_tensor = data[num_test:,].reshape((num_sample - num_test, 501, 12), order = 'C')\n",
    "train_data_noGeo_tensor = train_data_tensor[:,:,0:2]\n",
    "train_data_noTree_tensor = train_data_tensor[:,:,2:]\n",
    "\n",
    "#train_data_reverseGeoOrder_tensor = np.copy(train_data_tensor)\n",
    "#for i in range(0, train_data_tensor.shape[0]):\n",
    "#    for j in range(0, train_data_tensor.shape[1]):\n",
    "#        for k in range(2,12):\n",
    "#            train_data_reverseGeoOrder_tensor[i,j,k] = train_data_tensor[i,500-j,k]\n",
    "\n",
    " \n",
    "#train_data_noTreeRandomizedTips_tensor = np.copy(train_data_tensor[:,:,2:])\n",
    "#for i in range(0,train_data_tensor.shape[0]):\n",
    "#    rand_idx = np.random.permutation(501)\n",
    "#    train_data_noTreeRandomizedTips_tensor[i,:,:] = train_data_tensor[i,rand_idx,2:]\n"
   ]
  },
  {
   "cell_type": "code",
   "execution_count": 7,
   "id": "820594e0",
   "metadata": {},
   "outputs": [],
   "source": [
    "# make testing tensors\n",
    "test_data_tensor = data[:num_test,].reshape((num_test, 501, 12), order = 'C')\n",
    "test_data_noGeo_tensor = test_data_tensor[:,:,0:2]\n",
    "test_data_noTree_tensor = test_data_tensor[:,:,2:]\n",
    "\n",
    "#test_data_reverseGeoOrder_tensor = np.copy(test_data_tensor)\n",
    "#for i in range(0, test_data_tensor.shape[0]):\n",
    "#    for j in range(0, test_data_tensor.shape[1]):\n",
    "#        for k in range(2,12):\n",
    "#            test_data_reverseGeoOrder_tensor[i,j,k] = test_data_tensor[i,500-j,k]\n",
    "\n",
    "\n",
    "#test_data_noTreeRandomizedTips_tensor = np.copy(test_data_noTree_tensor)\n",
    "#for i in range(0,test_data_noTree_tensor.shape[0]):\n",
    "#    rand_idx = np.random.permutation(501)\n",
    "#    test_data_noTreeRandomizedTips_tensor[i,:,:] = test_data_noTree_tensor[i,rand_idx,:]   "
   ]
  },
  {
   "cell_type": "code",
   "execution_count": 8,
   "id": "f97d4b48",
   "metadata": {},
   "outputs": [],
   "source": [
    "### checking that trees line up with labels using. PASSED!\n",
    "#tip_loc_counts = np.zeros((train_data_tensor.shape[0],5))\n",
    "#tip_loc_distro = np.zeros((train_data_tensor.shape[0],5))\n",
    "\n",
    "#for i in range(0, train_data_tensor.shape[0]):    \n",
    "#    tip_loc_counts[i,:] = sum(train_data_tensor[i,:,2:7] ==  1)\n",
    "#    tip_loc_distro[i,:] = tip_loc_counts[i,:] / sum(tip_loc_counts[i,:])\n",
    "    \n",
    "#tip_loc_counts[[15009,16999,17999,18009, 18099,18999,19009,19999,21009],:]"
   ]
  },
  {
   "cell_type": "code",
   "execution_count": 9,
   "id": "7edf841c",
   "metadata": {},
   "outputs": [],
   "source": [
    "# training, validation, and testing tensors\n",
    "####################################\n",
    "\n",
    "num_validation = 500\n",
    "\n",
    "test_data_tensor = data[:num_test,].reshape((num_test, 501, 12))\n",
    "train_data_tensor_minus_val = train_data_tensor[num_validation:,:,:]\n",
    "train_data_tensor_val = train_data_tensor[:num_validation,:,:]\n",
    "\n",
    "#test_data_tensor = test_data_tensor[:,:,:2]\n",
    "#train_data_tensor_minus_val = train_data_noGeo_tensor[num_validation:,:,:]\n",
    "#train_data_tensor_val = train_data_noGeo_tensor[:num_validation,:,:]\n",
    "\n",
    "#test_data_tensor = test_data_tensor[:,:,2:]\n",
    "#train_data_tensor_minus_val = train_data_noTree_tensor[num_validation:,:,:]\n",
    "#train_data_tensor_val = train_data_noTree_tensor[:num_validation,:,:]\n",
    "\n",
    "#test_data_tensor = test_data_noTreeRandomizedTips_tensor\n",
    "#train_data_tensor_minus_val = train_data_noTreeRandomizedTips_tensor[num_validation:,:,:]\n",
    "#train_data_tensor_val = train_data_noTreeRandomizedTips_tensor[:num_validation,:,:]\n",
    "\n",
    "#test_data_tensor = test_data_noTreeRandomizedTips_tensor\n",
    "#train_data_tensor_minus_val = train_data_noTreeRandomizedTips_tensor[num_validation:,:,:]\n",
    "#train_data_tensor_val = train_data_noTreeRandomizedTips_tensor[:num_validation,:,:]\n"
   ]
  },
  {
   "cell_type": "code",
   "execution_count": 10,
   "id": "99d0561d",
   "metadata": {},
   "outputs": [
    {
     "data": {
      "text/plain": [
       "(500, 501, 12)"
      ]
     },
     "execution_count": 10,
     "metadata": {},
     "output_type": "execute_result"
    }
   ],
   "source": [
    "test_data_tensor.shape"
   ]
  },
  {
   "cell_type": "code",
   "execution_count": 11,
   "id": "662afd01",
   "metadata": {},
   "outputs": [
    {
     "data": {
      "text/plain": [
       "(9769, 501, 12)"
      ]
     },
     "execution_count": 11,
     "metadata": {},
     "output_type": "execute_result"
    }
   ],
   "source": [
    "train_data_tensor_minus_val.shape"
   ]
  },
  {
   "cell_type": "code",
   "execution_count": 12,
   "id": "b717cc7b",
   "metadata": {},
   "outputs": [],
   "source": [
    "\n",
    "# training and validation labels\n",
    "##################################\n",
    "labels = labels[0:num_data_to_use,:]\n",
    "\n",
    "train_labels = labels[num_test:,]\n",
    "test_labels = labels[:num_test,]\n",
    "\n",
    "\n",
    "#train_labels = random_labels[num_test:,]\n",
    "#test_labels = random_labels[:num_test,]\n",
    "\n",
    "\n",
    "train_labels_minus_val = train_labels[num_validation:,:]\n",
    "train_labels_val = train_labels[:num_validation,:]"
   ]
  },
  {
   "cell_type": "code",
   "execution_count": 13,
   "id": "ec29d630",
   "metadata": {},
   "outputs": [
    {
     "data": {
      "text/plain": [
       "(500, 10)"
      ]
     },
     "execution_count": 13,
     "metadata": {},
     "output_type": "execute_result"
    }
   ],
   "source": [
    "test_labels.shape"
   ]
  },
  {
   "cell_type": "code",
   "execution_count": 14,
   "id": "573bc16a",
   "metadata": {},
   "outputs": [
    {
     "data": {
      "text/plain": [
       "(9769, 10)"
      ]
     },
     "execution_count": 14,
     "metadata": {},
     "output_type": "execute_result"
    }
   ],
   "source": [
    "train_labels_minus_val.shape"
   ]
  },
  {
   "cell_type": "code",
   "execution_count": 15,
   "id": "06d5b5d2",
   "metadata": {},
   "outputs": [
    {
     "name": "stderr",
     "output_type": "stream",
     "text": [
      "C:\\Users\\ammon_work\\Anaconda3\\envs\\tf-keras-gpu\\lib\\site-packages\\ipykernel_launcher.py:4: UserWarning: Update your `MaxPooling1D` call to the Keras 2 API: `MaxPooling1D(pool_size=5, strides=1)`\n",
      "  after removing the cwd from sys.path.\n",
      "C:\\Users\\ammon_work\\Anaconda3\\envs\\tf-keras-gpu\\lib\\site-packages\\ipykernel_launcher.py:7: UserWarning: Update your `MaxPooling1D` call to the Keras 2 API: `MaxPooling1D(pool_size=5, strides=1)`\n",
      "  import sys\n"
     ]
    }
   ],
   "source": [
    "mymodel = models.Sequential()\n",
    "#mymodel.add(layers.Conv1D(10, 3, activation = 'elu'))\n",
    "mymodel.add(layers.Conv1D(40, 10, activation = 'elu'))\n",
    "mymodel.add(layers.MaxPooling1D(pool_size = 5, stride = 1))\n",
    "#mymodel.add(layers.Conv1D(40, 5, activation = 'elu'))\n",
    "mymodel.add(layers.Conv1D(80, 10, activation = 'elu'))\n",
    "mymodel.add(layers.MaxPooling1D(pool_size = 5, stride = 1))\n",
    "mymodel.add(layers.Conv1D(100, 20, activation = 'elu'))\n",
    "#mymodel.add(layers.Dropout(0.1))\n",
    "mymodel.add(layers.GlobalAveragePooling1D())\n",
    "mymodel.add(layers.Dense(120, activation = 'elu', kernel_initializer = 'VarianceScaling'))\n",
    "mymodel.add(layers.Dense(60, activation = 'elu', kernel_initializer = 'VarianceScaling'))\n",
    "mymodel.add(layers.Dense(20, activation = 'elu', kernel_initializer = 'VarianceScaling'))\n",
    "mymodel.add(layers.Dense(10, activation = 'softmax'))\n"
   ]
  },
  {
   "cell_type": "code",
   "execution_count": 59,
   "id": "4dce9437",
   "metadata": {},
   "outputs": [],
   "source": [
    "mymodel.compile(optimizer = 'rmsprop', loss = 'categorical_crossentropy', metrics = ['binary_accuracy','categorical_accuracy'])"
   ]
  },
  {
   "cell_type": "code",
   "execution_count": 60,
   "id": "8cf3c7be",
   "metadata": {
    "scrolled": true
   },
   "outputs": [
    {
     "name": "stdout",
     "output_type": "stream",
     "text": [
      "Train on 9769 samples, validate on 500 samples\n",
      "Epoch 1/5\n",
      "9769/9769 [==============================] - 35s 4ms/step - loss: 1.5026 - binary_accuracy: 0.9205 - categorical_accuracy: 0.5070 - val_loss: 2.3427 - val_binary_accuracy: 0.8944 - val_categorical_accuracy: 0.3140\n",
      "Epoch 2/5\n",
      "9769/9769 [==============================] - 35s 4ms/step - loss: 1.4765 - binary_accuracy: 0.9215 - categorical_accuracy: 0.5181 - val_loss: 2.4231 - val_binary_accuracy: 0.8908 - val_categorical_accuracy: 0.3260\n",
      "Epoch 3/5\n",
      "9769/9769 [==============================] - 34s 4ms/step - loss: 1.4499 - binary_accuracy: 0.9227 - categorical_accuracy: 0.5250 - val_loss: 2.4020 - val_binary_accuracy: 0.8912 - val_categorical_accuracy: 0.3060\n",
      "Epoch 4/5\n",
      "9769/9769 [==============================] - 34s 4ms/step - loss: 1.4244 - binary_accuracy: 0.9237 - categorical_accuracy: 0.5368 - val_loss: 2.4673 - val_binary_accuracy: 0.8952 - val_categorical_accuracy: 0.3140\n",
      "Epoch 5/5\n",
      "9769/9769 [==============================] - 35s 4ms/step - loss: 1.3934 - binary_accuracy: 0.9252 - categorical_accuracy: 0.5444 - val_loss: 2.3465 - val_binary_accuracy: 0.8956 - val_categorical_accuracy: 0.3280\n",
      "Train on 9769 samples, validate on 500 samples\n",
      "Epoch 1/5\n",
      "9769/9769 [==============================] - 32s 3ms/step - loss: 1.2953 - binary_accuracy: 0.9289 - categorical_accuracy: 0.5764 - val_loss: 2.4914 - val_binary_accuracy: 0.8926 - val_categorical_accuracy: 0.3340\n",
      "Epoch 2/5\n",
      "9769/9769 [==============================] - 32s 3ms/step - loss: 1.2616 - binary_accuracy: 0.9302 - categorical_accuracy: 0.5826 - val_loss: 2.5731 - val_binary_accuracy: 0.8910 - val_categorical_accuracy: 0.3580\n",
      "Epoch 3/5\n",
      "9769/9769 [==============================] - 32s 3ms/step - loss: 1.2341 - binary_accuracy: 0.9316 - categorical_accuracy: 0.5919 - val_loss: 2.7010 - val_binary_accuracy: 0.8884 - val_categorical_accuracy: 0.3300\n",
      "Epoch 4/5\n",
      "9769/9769 [==============================] - 32s 3ms/step - loss: 1.2061 - binary_accuracy: 0.9328 - categorical_accuracy: 0.5997 - val_loss: 2.7468 - val_binary_accuracy: 0.8908 - val_categorical_accuracy: 0.3280\n",
      "Epoch 5/5\n",
      "9769/9769 [==============================] - 32s 3ms/step - loss: 1.1808 - binary_accuracy: 0.9335 - categorical_accuracy: 0.6094 - val_loss: 2.6757 - val_binary_accuracy: 0.8858 - val_categorical_accuracy: 0.2900\n"
     ]
    }
   ],
   "source": [
    "mymodel.fit(train_data_tensor_minus_val, train_labels_minus_val,\n",
    "                     epochs =5, batch_size = 32, \n",
    "                     validation_data = (train_data_tensor_val, train_labels_val))\n",
    "\n",
    "history = mymodel.fit(train_data_tensor_minus_val, train_labels_minus_val,\n",
    "                     epochs =5, batch_size = 64, \n",
    "                     validation_data = (train_data_tensor_val, train_labels_val))\n"
   ]
  },
  {
   "cell_type": "code",
   "execution_count": 18,
   "id": "fe56aedb",
   "metadata": {},
   "outputs": [],
   "source": [
    "#mymodel.summary()"
   ]
  },
  {
   "cell_type": "code",
   "execution_count": 61,
   "id": "d500b797",
   "metadata": {},
   "outputs": [
    {
     "data": {
      "text/plain": [
       "dict_keys(['val_loss', 'val_binary_accuracy', 'val_categorical_accuracy', 'loss', 'binary_accuracy', 'categorical_accuracy'])"
      ]
     },
     "execution_count": 61,
     "metadata": {},
     "output_type": "execute_result"
    }
   ],
   "source": [
    "history.history.keys()"
   ]
  },
  {
   "cell_type": "code",
   "execution_count": 62,
   "id": "0ebcd33b",
   "metadata": {},
   "outputs": [],
   "source": [
    "import matplotlib.pyplot as plt\n",
    "acc = history.history['categorical_accuracy']\n",
    "val_acc = history.history['val_categorical_accuracy']\n",
    "epochs =range(1, len(acc) + 1)\n",
    " "
   ]
  },
  {
   "cell_type": "code",
   "execution_count": 63,
   "id": "6d102658",
   "metadata": {
    "scrolled": true
   },
   "outputs": [
    {
     "data": {
      "image/png": "[encoded data removed]",
      "text/plain": [
       "<Figure size 432x288 with 1 Axes>"
      ]
     },
     "metadata": {
      "needs_background": "light"
     },
     "output_type": "display_data"
    }
   ],
   "source": [
    "plt.plot(epochs, acc, 'bo', label = 'Training acc')\n",
    "plt.plot(epochs, val_acc, 'b', label = 'Validation acc')\n",
    "plt.title('Training and val accuracy')\n",
    "plt.xlabel('Epochs')\n",
    "plt.ylabel('accuracy')\n",
    "plt.legend()\n",
    "plt.show()"
   ]
  },
  {
   "cell_type": "code",
   "execution_count": 64,
   "id": "6f813fae",
   "metadata": {},
   "outputs": [
    {
     "name": "stdout",
     "output_type": "stream",
     "text": [
      "500/500 [==============================] - 1s 1ms/step\n"
     ]
    },
    {
     "data": {
      "text/plain": [
       "[2.4599190731048584, 0.8968000411987305, 0.34599998593330383]"
      ]
     },
     "execution_count": 64,
     "metadata": {},
     "output_type": "execute_result"
    }
   ],
   "source": [
    "test = mymodel.evaluate(test_data_tensor, test_labels)\n",
    "test"
   ]
  },
  {
   "cell_type": "code",
   "execution_count": 65,
   "id": "49121b88",
   "metadata": {},
   "outputs": [
    {
     "data": {
      "text/plain": [
       "array([0.03319017, 0.24510178, 0.01953422, 0.00999155, 0.00821326,\n",
       "       0.06996072, 0.43099627, 0.02740717, 0.01247585, 0.14312904],\n",
       "      dtype=float32)"
      ]
     },
     "execution_count": 65,
     "metadata": {},
     "output_type": "execute_result"
    }
   ],
   "source": [
    "preds = mymodel.predict(test_data_tensor)\n",
    "preds[1,:]"
   ]
  },
  {
   "cell_type": "code",
   "execution_count": 66,
   "id": "44989a54",
   "metadata": {
    "scrolled": false
   },
   "outputs": [
    {
     "data": {
      "text/html": [
       "<style>div.output_scroll { height: 30em; }</style>"
      ],
      "text/plain": [
       "<IPython.core.display.HTML object>"
      ]
     },
     "metadata": {},
     "output_type": "display_data"
    },
    {
     "data": {
      "image/png": "[encoded data removed]",
      "text/plain": [
       "<Figure size 864x72 with 1 Axes>"
      ]
     },
     "metadata": {
      "needs_background": "light"
     },
     "output_type": "display_data"
    },
    {
     "data": {
      "image/png": "[encoded data removed]",
      "text/plain": [
       "<Figure size 864x72 with 1 Axes>"
      ]
     },
     "metadata": {
      "needs_background": "light"
     },
     "output_type": "display_data"
    }
   ],
   "source": [
    "\n",
    "from IPython.core.display import display, HTML\n",
    "display(HTML(\"<style>div.output_scroll { height: 30em; }</style>\"))\n",
    "\n",
    "# plot some prediction examples\n",
    "cats = np.arange(10)\n",
    "\n",
    "barwidth = 0.2\n",
    "\n",
    "random_idx = np.random.randint(0, test_data_tensor.shape[0], 3)\n",
    "for i in random_idx:\n",
    "    plt.figure(figsize=(12, 1))\n",
    "    plt.bar(cats, preds[i,:], barwidth, label = \"prediction\")\n",
    "    plt.bar(cats+barwidth, test_labels[i,:], barwidth, label = \"truth\")\n",
    "#plt.savefig('prediction_examples.png')\n",
    "\n",
    "plt.close()\n",
    "    \n"
   ]
  },
  {
   "cell_type": "code",
   "execution_count": 73,
   "id": "71cddb58",
   "metadata": {},
   "outputs": [
    {
     "data": {
      "text/plain": [
       "1.0000001415610313"
      ]
     },
     "execution_count": 73,
     "metadata": {},
     "output_type": "execute_result"
    }
   ],
   "source": [
    "sum(sum(preds)/500)"
   ]
  },
  {
   "cell_type": "code",
   "execution_count": 89,
   "id": "8d50e9e4",
   "metadata": {},
   "outputs": [
    {
     "name": "stdout",
     "output_type": "stream",
     "text": [
      "[0.03035651 0.39720455 0.07546782 0.29889637 0.02674476 0.05025951\n",
      " 0.01018393 0.01051083 0.05451523 0.0458604 ]\n"
     ]
    },
    {
     "data": {
      "text/plain": [
       "1"
      ]
     },
     "execution_count": 89,
     "metadata": {},
     "output_type": "execute_result"
    }
   ],
   "source": [
    "print(preds[2])\n",
    "np.argmax(preds[2])"
   ]
  },
  {
   "cell_type": "code",
   "execution_count": 90,
   "id": "e418a24f",
   "metadata": {},
   "outputs": [
    {
     "name": "stdout",
     "output_type": "stream",
     "text": [
      "tip frequency accuracy:  0.15599641488958388\n",
      "cnn prediction accuracy:  0.26048887403903065\n",
      "top tip prediction accuracy:  0.178\n",
      "top cnn prediction accuracy:  0.346\n",
      "243\n"
     ]
    },
    {
     "data": {
      "image/png": "[encoded data removed]",
      "text/plain": [
       "<Figure size 864x72 with 1 Axes>"
      ]
     },
     "metadata": {
      "needs_background": "light"
     },
     "output_type": "display_data"
    },
    {
     "name": "stdout",
     "output_type": "stream",
     "text": [
      "349\n"
     ]
    },
    {
     "data": {
      "image/png": "[encoded data removed]",
      "text/plain": [
       "<Figure size 864x72 with 1 Axes>"
      ]
     },
     "metadata": {
      "needs_background": "light"
     },
     "output_type": "display_data"
    }
   ],
   "source": [
    "# how predictive are just counts without any phylo info?\n",
    "tip_loc_counts = np.zeros((test_data_tensor.shape[0],10))\n",
    "tip_loc_distro = np.zeros((test_data_tensor.shape[0],10))\n",
    "accuracy_tipfreq = np.zeros((test_data_tensor.shape[0]))\n",
    "accuracy_pred = np.zeros((test_data_tensor.shape[0]))\n",
    "acc_top_pred = np.zeros((test_data_tensor.shape[0]))\n",
    "acc_top_tipfreq = np.zeros((test_data_tensor.shape[0]))\n",
    "\n",
    "for i in range(0, test_data_tensor.shape[0]):    \n",
    "    tip_loc_counts[i,:] = sum(test_data_tensor[i,:,2:12])\n",
    "    tip_loc_distro[i,:] = tip_loc_counts[i,:] / sum(tip_loc_counts[i,:])\n",
    "    accuracy_tipfreq[i] = sum(tip_loc_distro[i,:] * test_labels[i,:])\n",
    "    accuracy_pred[i] = sum(preds[i,:] * test_labels[i,:])\n",
    "    acc_top_tipfreq[i] = 1 * (np.argmax(tip_loc_distro[i,:]) == np.argmax(test_labels[i,:]))\n",
    "    acc_top_pred[i] = 1 * (np.argmax(preds[i,:]) == np.argmax(test_labels[i,:]))\n",
    "\n",
    "print(\"tip frequency accuracy: \", np.mean(accuracy_tipfreq))\n",
    "print(\"cnn prediction accuracy: \", np.mean(accuracy_pred))\n",
    "print(\"top tip prediction accuracy: \", np.mean(acc_top_tipfreq))\n",
    "print(\"top cnn prediction accuracy: \", np.mean(acc_top_pred))\n",
    "\n",
    "    # plot\n",
    "random_idx = np.random.randint(0, test_data_tensor.shape[0], 2)\n",
    "count=0\n",
    "for i in random_idx:\n",
    "    print(i)\n",
    "    plt.figure(figsize=(12, 1))\n",
    "    plt.bar(cats+barwidth, preds[i,:], barwidth, label = \"prediction\")\n",
    "    plt.bar(cats, test_labels[i,:], barwidth, label = \"truth\")\n",
    "    plt.bar(cats+2*barwidth, tip_loc_distro[i,:], barwidth)\n",
    "    count+=1\n",
    "    #plt.bar(cats+2*barwidth, tip_loc_distro[i,:], barwidth)\n",
    "    plt.show()\n",
    "#plt.savefig('prediction_examples.png')\n",
    "\n",
    "plt.close()"
   ]
  },
  {
   "cell_type": "code",
   "execution_count": 57,
   "id": "e3c60686",
   "metadata": {},
   "outputs": [
    {
     "data": {
      "text/plain": [
       "array([3.53016257e-02, 5.14760092e-02, 6.94019273e-02, 9.30667296e-02,\n",
       "       8.42202455e-02, 3.11715305e-01, 3.36092472e-01, 9.12949800e-01,\n",
       "       3.28513384e-02, 7.18581602e-02, 2.37169266e-02, 1.71707594e-03,\n",
       "       4.32682157e-01, 1.18556228e-02, 2.00993448e-01, 8.98485482e-01,\n",
       "       1.18533871e-03, 7.57105127e-02, 1.39922220e-02, 4.39840227e-01,\n",
       "       6.66345209e-02, 1.16999649e-01, 4.27656919e-02, 1.82124022e-02,\n",
       "       3.77031639e-02, 6.47490323e-02, 7.32673407e-02, 1.20084956e-02,\n",
       "       7.63067156e-02, 1.07875735e-01, 1.99389458e-01, 6.72807768e-02,\n",
       "       1.61122337e-01, 4.93817106e-02, 7.89151788e-02, 5.02794757e-02,\n",
       "       3.39340493e-02, 1.46275898e-02, 7.27856234e-02, 3.98125406e-03,\n",
       "       8.50694120e-01, 1.55123407e-02, 1.07570246e-01, 2.54929606e-02,\n",
       "       2.21870318e-01, 1.35258719e-01, 7.07816243e-01, 1.39809370e-01,\n",
       "       8.76555964e-02, 5.12366891e-01, 6.96289092e-02, 1.89181771e-02,\n",
       "       6.27026320e-01, 8.20049420e-02, 2.57947505e-01, 9.45749786e-03,\n",
       "       2.26783729e-03, 7.60804266e-02, 5.86805165e-01, 4.69043165e-01,\n",
       "       7.28147030e-01, 1.98292255e-01, 2.63461601e-02, 1.67745292e-01,\n",
       "       2.35952623e-02, 6.70489371e-02, 1.39264956e-01, 1.20428599e-01,\n",
       "       8.82377982e-01, 1.02794036e-01, 8.18283390e-03, 3.62263843e-02,\n",
       "       9.58327651e-02, 1.87097445e-01, 7.16350451e-02, 2.46748641e-01,\n",
       "       1.20297950e-02, 3.74975316e-02, 6.93773180e-02, 8.64874572e-02,\n",
       "       2.63284426e-02, 4.55244724e-03, 4.54548188e-02, 8.19730833e-02,\n",
       "       3.35371383e-02, 1.51912332e-01, 7.85666034e-02, 7.37008527e-02,\n",
       "       6.62198186e-01, 1.12069160e-01, 7.17082769e-02, 4.14009094e-02,\n",
       "       4.16325659e-01, 6.67508781e-01, 2.12136045e-01, 8.08333382e-02,\n",
       "       4.85341698e-01, 2.43396506e-01, 7.09956527e-01, 4.41262946e-02,\n",
       "       8.20792019e-02, 3.59434843e-01, 2.92558461e-01, 8.97304296e-01,\n",
       "       5.62597588e-02, 8.34657788e-01, 1.14083335e-01, 8.25840652e-01,\n",
       "       9.82573807e-01, 3.96879800e-02, 3.05779632e-02, 6.37360737e-02,\n",
       "       7.45246336e-02, 4.08795513e-02, 5.11020757e-02, 7.98733011e-02,\n",
       "       1.70871168e-01, 4.21858281e-02, 2.47481927e-01, 8.87994990e-02,\n",
       "       6.22357093e-02, 4.40227166e-02, 6.05287077e-03, 4.98628542e-02,\n",
       "       8.20793986e-01, 3.05033624e-01, 9.11122188e-03, 2.97863763e-02,\n",
       "       7.17764437e-01, 4.07069325e-01, 1.56997237e-02, 4.11114335e-01,\n",
       "       5.19420803e-01, 5.62224209e-01, 3.52591902e-01, 7.00048685e-01,\n",
       "       6.68766379e-01, 8.03507492e-02, 1.31341899e-02, 1.17522804e-02,\n",
       "       3.51958275e-02, 5.98920941e-01, 3.90128717e-02, 7.66392648e-01,\n",
       "       9.49986100e-01, 2.04556696e-02, 1.17571265e-01, 9.18571092e-03,\n",
       "       1.18783720e-01, 8.96799099e-03, 8.27092677e-03, 1.97095964e-02,\n",
       "       5.21468043e-01, 1.31572541e-02, 4.38787043e-01, 3.57813984e-01,\n",
       "       4.09092873e-01, 7.11947560e-01, 1.64746806e-01, 1.72560140e-02,\n",
       "       3.62099856e-02, 7.10572064e-01, 6.31938696e-01, 1.53678209e-01,\n",
       "       6.32580444e-02, 4.00845587e-01, 7.81138837e-02, 4.51619536e-01,\n",
       "       1.47114128e-01, 6.23992920e-01, 9.65628207e-01, 8.23643804e-01,\n",
       "       7.15459362e-02, 2.57156998e-01, 4.94455956e-02, 9.15234089e-01,\n",
       "       3.02722126e-01, 9.40852687e-02, 4.73852128e-01, 9.40571576e-02,\n",
       "       2.56000847e-01, 2.95604855e-01, 7.04806969e-02, 4.39523011e-01,\n",
       "       8.57104421e-01, 9.92783546e-01, 6.44534305e-02, 4.20080483e-01,\n",
       "       6.45945966e-01, 5.00238359e-01, 2.41258517e-02, 5.16051278e-02,\n",
       "       9.81480330e-02, 9.81248170e-03, 9.45812821e-01, 2.91633941e-02,\n",
       "       1.41181186e-01, 2.95499235e-01, 3.92236590e-01, 3.46141607e-02,\n",
       "       3.82845923e-02, 8.11227858e-02, 6.85403794e-02, 9.61289853e-02,\n",
       "       3.34413573e-02, 8.16248059e-01, 1.32867903e-01, 2.48388201e-01,\n",
       "       7.15217173e-01, 9.19885099e-01, 1.51488945e-01, 5.67189269e-02,\n",
       "       8.06378666e-03, 3.14174265e-01, 3.58899944e-02, 6.30350053e-01,\n",
       "       2.72283047e-01, 4.30432297e-02, 1.24527015e-01, 6.18403219e-03,\n",
       "       1.20746538e-01, 9.34456944e-01, 3.23732123e-02, 1.18767232e-01,\n",
       "       4.90481108e-01, 9.22694728e-02, 8.57493095e-03, 7.28945136e-02,\n",
       "       5.74397683e-01, 8.99117589e-02, 6.93465322e-02, 7.11166680e-01,\n",
       "       4.36622202e-02, 1.86424389e-01, 3.89864296e-02, 1.25117347e-01,\n",
       "       5.41137904e-02, 7.13849306e-01, 1.68663152e-02, 1.23601787e-01,\n",
       "       2.47451037e-01, 3.12760711e-01, 8.74449089e-02, 4.05920267e-01,\n",
       "       4.43824500e-01, 7.88803101e-02, 3.70319575e-01, 1.75239488e-01,\n",
       "       2.05202904e-02, 4.81652200e-01, 8.26358795e-02, 1.58008963e-01,\n",
       "       8.48455075e-03, 7.15738773e-01, 1.76992826e-02, 1.94709584e-01,\n",
       "       5.31023443e-01, 8.02841187e-02, 1.40895033e-02, 1.23075536e-02,\n",
       "       5.00873215e-02, 8.90879929e-01, 3.00537139e-01, 9.31453891e-03,\n",
       "       4.76295561e-01, 7.62294352e-01, 1.13106556e-01, 1.46739418e-02,\n",
       "       2.87438095e-01, 4.58778925e-02, 8.69482011e-02, 5.36965877e-02,\n",
       "       9.98659849e-01, 7.80875981e-01, 2.42687076e-01, 1.31337687e-01,\n",
       "       8.43872353e-02, 7.13871717e-01, 2.99992249e-03, 4.29072112e-01,\n",
       "       2.25704666e-02, 8.93929660e-01, 2.46092584e-02, 8.25862586e-02,\n",
       "       2.98226085e-02, 1.64298311e-01, 1.03240483e-01, 5.13435341e-03,\n",
       "       1.63487680e-02, 8.79487514e-01, 3.78610909e-01, 2.78832883e-01,\n",
       "       5.45662045e-01, 1.37442276e-01, 9.35218751e-01, 8.36716667e-02,\n",
       "       3.49174112e-01, 1.32910639e-01, 5.24269156e-02, 1.56339575e-02,\n",
       "       4.67935540e-02, 4.84497815e-01, 5.86940162e-02, 7.30059087e-01,\n",
       "       2.69991845e-01, 6.17449701e-01, 7.08160937e-01, 6.73628226e-02,\n",
       "       4.58432100e-04, 2.21851543e-01, 1.25160739e-01, 5.03715158e-01,\n",
       "       4.92564179e-02, 8.79595935e-01, 3.49647433e-01, 4.90284637e-02,\n",
       "       1.66258991e-01, 5.18876970e-01, 1.09378695e-01, 1.06248297e-02,\n",
       "       2.56204456e-01, 5.86871147e-01, 2.42175132e-01, 1.41174924e-02,\n",
       "       2.27620807e-02, 9.49558020e-01, 3.07446957e-01, 6.98117197e-01,\n",
       "       5.32373525e-02, 1.01867273e-01, 2.79299438e-01, 9.06770527e-02,\n",
       "       6.64795637e-01, 2.01318875e-01, 4.28082734e-01, 2.94935316e-01,\n",
       "       1.35327265e-01, 1.29283503e-01, 1.00813389e-01, 2.47169975e-02,\n",
       "       5.97609989e-02, 4.12021846e-01, 2.70342171e-01, 9.10618246e-01,\n",
       "       3.66677344e-02, 5.32958448e-01, 8.58819336e-02, 3.72555442e-02,\n",
       "       8.10077414e-03, 3.90307575e-01, 3.87541088e-03, 1.55459553e-01,\n",
       "       3.77222560e-02, 4.75919396e-02, 6.59372285e-03, 1.56155583e-02,\n",
       "       8.54462907e-02, 1.95978507e-01, 5.70181906e-01, 8.34829926e-01,\n",
       "       4.87559527e-01, 1.08403638e-01, 8.85760784e-01, 1.36041522e-01,\n",
       "       2.34088257e-01, 2.88313646e-02, 5.30507684e-01, 2.49276593e-01,\n",
       "       1.27218962e-01, 3.70284230e-01, 7.17023090e-02, 3.51215415e-02,\n",
       "       5.12679331e-02, 1.71412528e-01, 6.48593247e-01, 7.86596060e-01,\n",
       "       8.22524801e-02, 4.98818576e-01, 4.62832674e-02, 5.50261661e-02,\n",
       "       3.30733024e-02, 5.97524904e-02, 2.10761920e-01, 1.86805353e-01,\n",
       "       5.52703261e-01, 2.58281380e-02, 1.83078106e-02, 7.12177336e-01,\n",
       "       5.65502271e-02, 4.98785824e-03, 2.81289816e-01, 1.03291430e-01,\n",
       "       2.05139704e-02, 1.71158817e-02, 6.76688612e-01, 5.27464896e-02,\n",
       "       2.58711070e-01, 1.35747641e-01, 1.34023294e-01, 3.88230570e-02,\n",
       "       7.41234943e-02, 5.58827110e-02, 5.50262272e-01, 2.10124999e-01,\n",
       "       1.58142019e-02, 6.69553936e-01, 3.97107936e-02, 3.69847625e-01,\n",
       "       7.46411085e-01, 8.09675574e-01, 7.20171258e-02, 7.14706957e-01,\n",
       "       2.84989066e-02, 1.99147642e-01, 1.45543933e-01, 3.79915535e-02,\n",
       "       1.16002090e-01, 5.02940357e-01, 8.32937956e-01, 3.09465919e-02,\n",
       "       2.48772018e-02, 2.13684365e-01, 1.79875940e-01, 7.16233030e-02,\n",
       "       2.91031357e-02, 2.68793944e-02, 7.47895986e-02, 8.65113914e-01,\n",
       "       4.89538023e-03, 1.25110954e-01, 1.31673321e-01, 4.28735673e-01,\n",
       "       8.89547110e-01, 8.49064216e-02, 1.26659915e-01, 3.67894143e-01,\n",
       "       1.81294568e-02, 4.29805294e-02, 3.64385396e-02, 3.80029112e-01,\n",
       "       1.37925848e-01, 7.00706467e-02, 1.02306619e-01, 3.41894627e-02,\n",
       "       2.25906655e-01, 3.41909438e-01, 9.30880662e-03, 8.60490859e-01,\n",
       "       7.85919547e-01, 8.60284865e-02, 9.45499957e-01, 5.29358923e-01,\n",
       "       7.67007992e-02, 2.20757220e-02, 2.91689843e-01, 9.87830921e-04,\n",
       "       9.74118896e-03, 1.37114991e-02, 2.78244447e-02, 2.36191582e-02,\n",
       "       3.27947959e-02, 1.67273488e-02, 2.90452633e-02, 1.03972763e-01,\n",
       "       1.65067151e-01, 2.46646896e-01, 5.27452901e-02, 3.06728512e-01,\n",
       "       8.20992768e-01, 1.09017603e-02, 3.34980562e-02, 7.15821385e-01,\n",
       "       1.30132183e-01, 3.40267792e-02, 6.63505541e-03, 3.09652742e-02,\n",
       "       7.93375552e-01, 3.40202630e-01, 6.56844527e-02, 1.79523453e-02,\n",
       "       2.44997546e-01, 1.54642671e-01, 1.56461164e-01, 3.85857016e-01,\n",
       "       4.05587330e-02, 6.06297016e-01, 7.62097001e-01, 1.61960587e-01,\n",
       "       5.96729338e-01, 8.01426917e-02, 1.07773662e-01, 1.29733831e-02,\n",
       "       6.44955635e-01, 8.66678417e-01, 1.05994986e-02, 9.18589979e-02,\n",
       "       2.82093324e-02, 3.01371217e-01, 1.82903465e-02, 2.25682452e-01])"
      ]
     },
     "execution_count": 57,
     "metadata": {},
     "output_type": "execute_result"
    }
   ],
   "source": [
    "accuracy_pred"
   ]
  },
  {
   "cell_type": "code",
   "execution_count": 79,
   "id": "3477c911",
   "metadata": {},
   "outputs": [
    {
     "data": {
      "image/png": "[encoded data removed]",
      "text/plain": [
       "<Figure size 432x288 with 1 Axes>"
      ]
     },
     "metadata": {
      "needs_background": "light"
     },
     "output_type": "display_data"
    }
   ],
   "source": [
    "plt.figure()\n",
    "plt.hist(accuracy_pred, bins = 100)\n",
    "plt.show()"
   ]
  },
  {
   "cell_type": "code",
   "execution_count": 48,
   "id": "289f2bf6",
   "metadata": {},
   "outputs": [
    {
     "data": {
      "text/plain": [
       "array([15.,  0., 34., 43., 10.,  2.,  2.,  1.,  0.,  2.])"
      ]
     },
     "execution_count": 48,
     "metadata": {},
     "output_type": "execute_result"
    }
   ],
   "source": [
    "tip_loc_counts[0,:]"
   ]
  },
  {
   "cell_type": "code",
   "execution_count": 104,
   "id": "69d31ed5",
   "metadata": {},
   "outputs": [
    {
     "data": {
      "text/plain": [
       "['T',\n",
       " '__abs__',\n",
       " '__add__',\n",
       " '__and__',\n",
       " '__array__',\n",
       " '__array_finalize__',\n",
       " '__array_function__',\n",
       " '__array_interface__',\n",
       " '__array_prepare__',\n",
       " '__array_priority__',\n",
       " '__array_struct__',\n",
       " '__array_ufunc__',\n",
       " '__array_wrap__',\n",
       " '__bool__',\n",
       " '__class__',\n",
       " '__complex__',\n",
       " '__contains__',\n",
       " '__copy__',\n",
       " '__deepcopy__',\n",
       " '__delattr__',\n",
       " '__delitem__',\n",
       " '__dir__',\n",
       " '__divmod__',\n",
       " '__doc__',\n",
       " '__eq__',\n",
       " '__float__',\n",
       " '__floordiv__',\n",
       " '__format__',\n",
       " '__ge__',\n",
       " '__getattribute__',\n",
       " '__getitem__',\n",
       " '__gt__',\n",
       " '__hash__',\n",
       " '__iadd__',\n",
       " '__iand__',\n",
       " '__ifloordiv__',\n",
       " '__ilshift__',\n",
       " '__imatmul__',\n",
       " '__imod__',\n",
       " '__imul__',\n",
       " '__index__',\n",
       " '__init__',\n",
       " '__init_subclass__',\n",
       " '__int__',\n",
       " '__invert__',\n",
       " '__ior__',\n",
       " '__ipow__',\n",
       " '__irshift__',\n",
       " '__isub__',\n",
       " '__iter__',\n",
       " '__itruediv__',\n",
       " '__ixor__',\n",
       " '__le__',\n",
       " '__len__',\n",
       " '__lshift__',\n",
       " '__lt__',\n",
       " '__matmul__',\n",
       " '__mod__',\n",
       " '__mul__',\n",
       " '__ne__',\n",
       " '__neg__',\n",
       " '__new__',\n",
       " '__or__',\n",
       " '__pos__',\n",
       " '__pow__',\n",
       " '__radd__',\n",
       " '__rand__',\n",
       " '__rdivmod__',\n",
       " '__reduce__',\n",
       " '__reduce_ex__',\n",
       " '__repr__',\n",
       " '__rfloordiv__',\n",
       " '__rlshift__',\n",
       " '__rmatmul__',\n",
       " '__rmod__',\n",
       " '__rmul__',\n",
       " '__ror__',\n",
       " '__rpow__',\n",
       " '__rrshift__',\n",
       " '__rshift__',\n",
       " '__rsub__',\n",
       " '__rtruediv__',\n",
       " '__rxor__',\n",
       " '__setattr__',\n",
       " '__setitem__',\n",
       " '__setstate__',\n",
       " '__sizeof__',\n",
       " '__str__',\n",
       " '__sub__',\n",
       " '__subclasshook__',\n",
       " '__truediv__',\n",
       " '__xor__',\n",
       " 'all',\n",
       " 'any',\n",
       " 'argmax',\n",
       " 'argmin',\n",
       " 'argpartition',\n",
       " 'argsort',\n",
       " 'astype',\n",
       " 'base',\n",
       " 'byteswap',\n",
       " 'choose',\n",
       " 'clip',\n",
       " 'compress',\n",
       " 'conj',\n",
       " 'conjugate',\n",
       " 'copy',\n",
       " 'ctypes',\n",
       " 'cumprod',\n",
       " 'cumsum',\n",
       " 'data',\n",
       " 'diagonal',\n",
       " 'dot',\n",
       " 'dtype',\n",
       " 'dump',\n",
       " 'dumps',\n",
       " 'fill',\n",
       " 'flags',\n",
       " 'flat',\n",
       " 'flatten',\n",
       " 'getfield',\n",
       " 'imag',\n",
       " 'item',\n",
       " 'itemset',\n",
       " 'itemsize',\n",
       " 'max',\n",
       " 'mean',\n",
       " 'min',\n",
       " 'nbytes',\n",
       " 'ndim',\n",
       " 'newbyteorder',\n",
       " 'nonzero',\n",
       " 'partition',\n",
       " 'prod',\n",
       " 'ptp',\n",
       " 'put',\n",
       " 'ravel',\n",
       " 'real',\n",
       " 'repeat',\n",
       " 'reshape',\n",
       " 'resize',\n",
       " 'round',\n",
       " 'searchsorted',\n",
       " 'setfield',\n",
       " 'setflags',\n",
       " 'shape',\n",
       " 'size',\n",
       " 'sort',\n",
       " 'squeeze',\n",
       " 'std',\n",
       " 'strides',\n",
       " 'sum',\n",
       " 'swapaxes',\n",
       " 'take',\n",
       " 'tobytes',\n",
       " 'tofile',\n",
       " 'tolist',\n",
       " 'tostring',\n",
       " 'trace',\n",
       " 'transpose',\n",
       " 'var',\n",
       " 'view']"
      ]
     },
     "execution_count": 104,
     "metadata": {},
     "output_type": "execute_result"
    }
   ],
   "source": [
    "fulldata.shape\n",
    "num_sample\n",
    "dir(fulldata)"
   ]
  },
  {
   "cell_type": "code",
   "execution_count": 102,
   "id": "a3c2d982",
   "metadata": {},
   "outputs": [],
   "source": [
    "num_sample\n",
    "# compare cnn preds to likelihood for last 20 trees:\n",
    "\n",
    "\n",
    "compare_labels = labels[(num_sample-20):,]\n",
    "\n",
    "mymodel.predict(likelihood_comparison_data)"
   ]
  },
  {
   "cell_type": "code",
   "execution_count": 116,
   "id": "4e38780a",
   "metadata": {},
   "outputs": [
    {
     "name": "stdout",
     "output_type": "stream",
     "text": [
      "ERROR! Session/line number was not unique in database. History logging moved to new session 369\n"
     ]
    }
   ],
   "source": [
    "ldata = pd.read_csv(\"../../data/test_likelihood.cblv\",header =None, error_bad_lines = False).to_numpy()\n",
    "likelihood_comparison_data = ldata.reshape((19, 501, 12), order = 'C')\n",
    "\n",
    "l_labels = pd.read_csv(\"../../data/test_likelihood_labels.txt\",\n",
    "                    header = None, error_bad_lines = False).to_numpy()"
   ]
  },
  {
   "cell_type": "code",
   "execution_count": 118,
   "id": "79213005",
   "metadata": {},
   "outputs": [
    {
     "name": "stdout",
     "output_type": "stream",
     "text": [
      "ERROR! Session/line number was not unique in database. History logging moved to new session 371\n"
     ]
    }
   ],
   "source": [
    "lpreds = mymodel.predict(likelihood_comparison_data)\n",
    "lroot = pd.read_csv(\"../../data/lroot.csv\", header = None).to_numpy()"
   ]
  },
  {
   "cell_type": "code",
   "execution_count": null,
   "id": "289922d4",
   "metadata": {},
   "outputs": [
    {
     "data": {
      "text/html": [
       "<style>div.output_scroll { height: 130em; }</style>"
      ],
      "text/plain": [
       "<IPython.core.display.HTML object>"
      ]
     },
     "metadata": {},
     "output_type": "display_data"
    },
    {
     "name": "stdout",
     "output_type": "stream",
     "text": [
      "0\n",
      "ERROR! Session/line number was not unique in database. History logging moved to new session 373\n"
     ]
    },
    {
     "data": {
      "image/png": "[encoded data removed]",
      "text/plain": [
       "<Figure size 1584x72 with 1 Axes>"
      ]
     },
     "metadata": {
      "needs_background": "light"
     },
     "output_type": "display_data"
    },
    {
     "name": "stdout",
     "output_type": "stream",
     "text": [
      "1\n"
     ]
    },
    {
     "data": {
      "image/png": "[encoded data removed]",
      "text/plain": [
       "<Figure size 1584x72 with 1 Axes>"
      ]
     },
     "metadata": {
      "needs_background": "light"
     },
     "output_type": "display_data"
    },
    {
     "name": "stdout",
     "output_type": "stream",
     "text": [
      "2\n"
     ]
    },
    {
     "data": {
      "image/png": "[encoded data removed]",
      "text/plain": [
       "<Figure size 1584x72 with 1 Axes>"
      ]
     },
     "metadata": {
      "needs_background": "light"
     },
     "output_type": "display_data"
    },
    {
     "name": "stdout",
     "output_type": "stream",
     "text": [
      "3\n"
     ]
    },
    {
     "data": {
      "image/png": "[encoded data removed]",
      "text/plain": [
       "<Figure size 1584x72 with 1 Axes>"
      ]
     },
     "metadata": {
      "needs_background": "light"
     },
     "output_type": "display_data"
    },
    {
     "name": "stdout",
     "output_type": "stream",
     "text": [
      "4\n"
     ]
    },
    {
     "data": {
      "image/png": "[encoded data removed]",
      "text/plain": [
       "<Figure size 1584x72 with 1 Axes>"
      ]
     },
     "metadata": {
      "needs_background": "light"
     },
     "output_type": "display_data"
    },
    {
     "name": "stdout",
     "output_type": "stream",
     "text": [
      "5\n"
     ]
    },
    {
     "data": {
      "image/png": "[encoded data removed]",
      "text/plain": [
       "<Figure size 1584x72 with 1 Axes>"
      ]
     },
     "metadata": {
      "needs_background": "light"
     },
     "output_type": "display_data"
    },
    {
     "name": "stdout",
     "output_type": "stream",
     "text": [
      "6\n"
     ]
    },
    {
     "data": {
      "image/png": "[encoded data removed]",
      "text/plain": [
       "<Figure size 1584x72 with 1 Axes>"
      ]
     },
     "metadata": {
      "needs_background": "light"
     },
     "output_type": "display_data"
    },
    {
     "name": "stdout",
     "output_type": "stream",
     "text": [
      "7\n"
     ]
    },
    {
     "data": {
      "image/png": "[encoded data removed]",
      "text/plain": [
       "<Figure size 1584x72 with 1 Axes>"
      ]
     },
     "metadata": {
      "needs_background": "light"
     },
     "output_type": "display_data"
    },
    {
     "name": "stdout",
     "output_type": "stream",
     "text": [
      "8\n"
     ]
    },
    {
     "data": {
      "image/png": "[encoded data removed]",
      "text/plain": [
       "<Figure size 1584x72 with 1 Axes>"
      ]
     },
     "metadata": {
      "needs_background": "light"
     },
     "output_type": "display_data"
    },
    {
     "name": "stdout",
     "output_type": "stream",
     "text": [
      "9\n"
     ]
    },
    {
     "data": {
      "image/png": "[encoded data removed]",
      "text/plain": [
       "<Figure size 1584x72 with 1 Axes>"
      ]
     },
     "metadata": {
      "needs_background": "light"
     },
     "output_type": "display_data"
    },
    {
     "name": "stdout",
     "output_type": "stream",
     "text": [
      "10\n"
     ]
    },
    {
     "data": {
      "image/png": "[encoded data removed]",
      "text/plain": [
       "<Figure size 1584x72 with 1 Axes>"
      ]
     },
     "metadata": {
      "needs_background": "light"
     },
     "output_type": "display_data"
    },
    {
     "name": "stdout",
     "output_type": "stream",
     "text": [
      "11\n"
     ]
    },
    {
     "data": {
      "image/png": "[encoded data removed]",
      "text/plain": [
       "<Figure size 1584x72 with 1 Axes>"
      ]
     },
     "metadata": {
      "needs_background": "light"
     },
     "output_type": "display_data"
    },
    {
     "name": "stdout",
     "output_type": "stream",
     "text": [
      "12\n"
     ]
    },
    {
     "data": {
      "image/png": "[encoded data removed]",
      "text/plain": [
       "<Figure size 1584x72 with 1 Axes>"
      ]
     },
     "metadata": {
      "needs_background": "light"
     },
     "output_type": "display_data"
    },
    {
     "name": "stdout",
     "output_type": "stream",
     "text": [
      "13\n"
     ]
    },
    {
     "data": {
      "image/png": "[encoded data removed]",
      "text/plain": [
       "<Figure size 1584x72 with 1 Axes>"
      ]
     },
     "metadata": {
      "needs_background": "light"
     },
     "output_type": "display_data"
    },
    {
     "name": "stdout",
     "output_type": "stream",
     "text": [
      "14\n"
     ]
    },
    {
     "data": {
      "image/png": "[encoded data removed]",
      "text/plain": [
       "<Figure size 1584x72 with 1 Axes>"
      ]
     },
     "metadata": {
      "needs_background": "light"
     },
     "output_type": "display_data"
    },
    {
     "name": "stdout",
     "output_type": "stream",
     "text": [
      "15\n"
     ]
    },
    {
     "data": {
      "image/png": "[encoded data removed]",
      "text/plain": [
       "<Figure size 1584x72 with 1 Axes>"
      ]
     },
     "metadata": {
      "needs_background": "light"
     },
     "output_type": "display_data"
    },
    {
     "name": "stdout",
     "output_type": "stream",
     "text": [
      "16\n"
     ]
    },
    {
     "data": {
      "image/png": "[encoded data removed]",
      "text/plain": [
       "<Figure size 1584x72 with 1 Axes>"
      ]
     },
     "metadata": {
      "needs_background": "light"
     },
     "output_type": "display_data"
    },
    {
     "name": "stdout",
     "output_type": "stream",
     "text": [
      "17\n"
     ]
    },
    {
     "data": {
      "image/png": "[encoded data removed]",
      "text/plain": [
       "<Figure size 1584x72 with 1 Axes>"
      ]
     },
     "metadata": {
      "needs_background": "light"
     },
     "output_type": "display_data"
    },
    {
     "name": "stdout",
     "output_type": "stream",
     "text": [
      "18\n"
     ]
    },
    {
     "data": {
      "image/png": "[encoded data removed]",
      "text/plain": [
       "<Figure size 1584x72 with 1 Axes>"
      ]
     },
     "metadata": {
      "needs_background": "light"
     },
     "output_type": "display_data"
    },
    {
     "name": "stderr",
     "output_type": "stream",
     "text": [
      "ERROR:root:Internal Python error in the inspect module.\n",
      "Below is the traceback from this internal error.\n",
      "\n",
      "ERROR:root:Internal Python error in the inspect module.\n",
      "Below is the traceback from this internal error.\n",
      "\n",
      "ERROR:root:Internal Python error in the inspect module.\n",
      "Below is the traceback from this internal error.\n",
      "\n"
     ]
    },
    {
     "name": "stdout",
     "output_type": "stream",
     "text": [
      "19\n",
      "Traceback (most recent call last):\n",
      "  File \"C:\\Users\\ammon_work\\Anaconda3\\envs\\tf-keras-gpu\\lib\\site-packages\\IPython\\core\\interactiveshell.py\", line 3343, in run_code\n",
      "    exec(code_obj, self.user_global_ns, self.user_ns)\n",
      "  File \"<ipython-input-119-3c3d178f593d>\", line 6, in <module>\n",
      "    plt.bar(cats+barwidth, lpreds[i,:], barwidth, label = \"prediction\")\n",
      "IndexError: index 19 is out of bounds for axis 0 with size 19\n",
      "\n",
      "During handling of the above exception, another exception occurred:\n",
      "\n",
      "Traceback (most recent call last):\n",
      "  File \"C:\\Users\\ammon_work\\Anaconda3\\envs\\tf-keras-gpu\\lib\\site-packages\\IPython\\core\\interactiveshell.py\", line 2044, in showtraceback\n",
      "    stb = value._render_traceback_()\n",
      "AttributeError: 'IndexError' object has no attribute '_render_traceback_'\n",
      "\n",
      "During handling of the above exception, another exception occurred:\n",
      "\n",
      "Traceback (most recent call last):\n",
      "  File \"C:\\Users\\ammon_work\\Anaconda3\\envs\\tf-keras-gpu\\lib\\site-packages\\IPython\\core\\ultratb.py\", line 1169, in get_records\n",
      "    return _fixed_getinnerframes(etb, number_of_lines_of_context, tb_offset)\n",
      "  File \"C:\\Users\\ammon_work\\Anaconda3\\envs\\tf-keras-gpu\\lib\\site-packages\\IPython\\core\\ultratb.py\", line 316, in wrapped\n",
      "    return f(*args, **kwargs)\n",
      "  File \"C:\\Users\\ammon_work\\Anaconda3\\envs\\tf-keras-gpu\\lib\\site-packages\\IPython\\core\\ultratb.py\", line 350, in _fixed_getinnerframes\n",
      "    records = fix_frame_records_filenames(inspect.getinnerframes(etb, context))\n",
      "  File \"C:\\Users\\ammon_work\\Anaconda3\\envs\\tf-keras-gpu\\lib\\inspect.py\", line 1490, in getinnerframes\n",
      "    frameinfo = (tb.tb_frame,) + getframeinfo(tb, context)\n",
      "  File \"C:\\Users\\ammon_work\\Anaconda3\\envs\\tf-keras-gpu\\lib\\inspect.py\", line 1448, in getframeinfo\n",
      "    filename = getsourcefile(frame) or getfile(frame)\n",
      "  File \"C:\\Users\\ammon_work\\Anaconda3\\envs\\tf-keras-gpu\\lib\\inspect.py\", line 696, in getsourcefile\n",
      "    if getattr(getmodule(object, filename), '__loader__', None) is not None:\n",
      "  File \"C:\\Users\\ammon_work\\Anaconda3\\envs\\tf-keras-gpu\\lib\\inspect.py\", line 733, in getmodule\n",
      "    if ismodule(module) and hasattr(module, '__file__'):\n",
      "  File \"C:\\Users\\ammon_work\\Anaconda3\\envs\\tf-keras-gpu\\lib\\site-packages\\tensorflow\\__init__.py\", line 50, in __getattr__\n",
      "    module = self._load()\n",
      "  File \"C:\\Users\\ammon_work\\Anaconda3\\envs\\tf-keras-gpu\\lib\\site-packages\\tensorflow\\__init__.py\", line 44, in _load\n",
      "    module = _importlib.import_module(self.__name__)\n",
      "  File \"C:\\Users\\ammon_work\\Anaconda3\\envs\\tf-keras-gpu\\lib\\importlib\\__init__.py\", line 126, in import_module\n",
      "    return _bootstrap._gcd_import(name[level:], package, level)\n",
      "  File \"<frozen importlib._bootstrap>\", line 994, in _gcd_import\n",
      "  File \"<frozen importlib._bootstrap>\", line 971, in _find_and_load\n",
      "  File \"<frozen importlib._bootstrap>\", line 953, in _find_and_load_unlocked\n",
      "ModuleNotFoundError: No module named 'tensorflow_core.estimator'\n",
      "Traceback (most recent call last):\n",
      "  File \"C:\\Users\\ammon_work\\Anaconda3\\envs\\tf-keras-gpu\\lib\\site-packages\\IPython\\core\\interactiveshell.py\", line 3343, in run_code\n",
      "    exec(code_obj, self.user_global_ns, self.user_ns)\n",
      "  File \"<ipython-input-119-3c3d178f593d>\", line 6, in <module>\n",
      "    plt.bar(cats+barwidth, lpreds[i,:], barwidth, label = \"prediction\")\n",
      "IndexError: index 19 is out of bounds for axis 0 with size 19\n",
      "\n",
      "During handling of the above exception, another exception occurred:\n",
      "\n",
      "Traceback (most recent call last):\n",
      "  File \"C:\\Users\\ammon_work\\Anaconda3\\envs\\tf-keras-gpu\\lib\\site-packages\\IPython\\core\\interactiveshell.py\", line 2044, in showtraceback\n",
      "    stb = value._render_traceback_()\n",
      "AttributeError: 'IndexError' object has no attribute '_render_traceback_'\n",
      "\n",
      "During handling of the above exception, another exception occurred:\n",
      "\n",
      "Traceback (most recent call last):\n",
      "  File \"C:\\Users\\ammon_work\\Anaconda3\\envs\\tf-keras-gpu\\lib\\site-packages\\IPython\\core\\interactiveshell.py\", line 3263, in run_ast_nodes\n",
      "    if (await self.run_code(code, result,  async_=asy)):\n",
      "  File \"C:\\Users\\ammon_work\\Anaconda3\\envs\\tf-keras-gpu\\lib\\site-packages\\IPython\\core\\interactiveshell.py\", line 3360, in run_code\n",
      "    self.showtraceback(running_compiled_code=True)\n",
      "  File \"C:\\Users\\ammon_work\\Anaconda3\\envs\\tf-keras-gpu\\lib\\site-packages\\IPython\\core\\interactiveshell.py\", line 2047, in showtraceback\n",
      "    value, tb, tb_offset=tb_offset)\n",
      "  File \"C:\\Users\\ammon_work\\Anaconda3\\envs\\tf-keras-gpu\\lib\\site-packages\\IPython\\core\\ultratb.py\", line 1436, in structured_traceback\n",
      "    self, etype, value, tb, tb_offset, number_of_lines_of_context)\n",
      "  File \"C:\\Users\\ammon_work\\Anaconda3\\envs\\tf-keras-gpu\\lib\\site-packages\\IPython\\core\\ultratb.py\", line 1336, in structured_traceback\n",
      "    self, etype, value, tb, tb_offset, number_of_lines_of_context\n",
      "  File \"C:\\Users\\ammon_work\\Anaconda3\\envs\\tf-keras-gpu\\lib\\site-packages\\IPython\\core\\ultratb.py\", line 1193, in structured_traceback\n",
      "    tb_offset)\n",
      "  File \"C:\\Users\\ammon_work\\Anaconda3\\envs\\tf-keras-gpu\\lib\\site-packages\\IPython\\core\\ultratb.py\", line 1150, in format_exception_as_a_whole\n",
      "    last_unique, recursion_repeat = find_recursion(orig_etype, evalue, records)\n",
      "  File \"C:\\Users\\ammon_work\\Anaconda3\\envs\\tf-keras-gpu\\lib\\site-packages\\IPython\\core\\ultratb.py\", line 451, in find_recursion\n",
      "    return len(records), 0\n",
      "TypeError: object of type 'NoneType' has no len()\n",
      "\n",
      "During handling of the above exception, another exception occurred:\n",
      "\n",
      "Traceback (most recent call last):\n",
      "  File \"C:\\Users\\ammon_work\\Anaconda3\\envs\\tf-keras-gpu\\lib\\site-packages\\IPython\\core\\interactiveshell.py\", line 2044, in showtraceback\n",
      "    stb = value._render_traceback_()\n",
      "AttributeError: 'TypeError' object has no attribute '_render_traceback_'\n",
      "\n",
      "During handling of the above exception, another exception occurred:\n",
      "\n",
      "Traceback (most recent call last):\n",
      "  File \"C:\\Users\\ammon_work\\Anaconda3\\envs\\tf-keras-gpu\\lib\\site-packages\\IPython\\core\\ultratb.py\", line 1169, in get_records\n",
      "    return _fixed_getinnerframes(etb, number_of_lines_of_context, tb_offset)\n",
      "  File \"C:\\Users\\ammon_work\\Anaconda3\\envs\\tf-keras-gpu\\lib\\site-packages\\IPython\\core\\ultratb.py\", line 316, in wrapped\n",
      "    return f(*args, **kwargs)\n",
      "  File \"C:\\Users\\ammon_work\\Anaconda3\\envs\\tf-keras-gpu\\lib\\site-packages\\IPython\\core\\ultratb.py\", line 350, in _fixed_getinnerframes\n",
      "    records = fix_frame_records_filenames(inspect.getinnerframes(etb, context))\n",
      "  File \"C:\\Users\\ammon_work\\Anaconda3\\envs\\tf-keras-gpu\\lib\\inspect.py\", line 1490, in getinnerframes\n",
      "    frameinfo = (tb.tb_frame,) + getframeinfo(tb, context)\n",
      "  File \"C:\\Users\\ammon_work\\Anaconda3\\envs\\tf-keras-gpu\\lib\\inspect.py\", line 1448, in getframeinfo\n",
      "    filename = getsourcefile(frame) or getfile(frame)\n",
      "  File \"C:\\Users\\ammon_work\\Anaconda3\\envs\\tf-keras-gpu\\lib\\inspect.py\", line 696, in getsourcefile\n",
      "    if getattr(getmodule(object, filename), '__loader__', None) is not None:\n",
      "  File \"C:\\Users\\ammon_work\\Anaconda3\\envs\\tf-keras-gpu\\lib\\inspect.py\", line 733, in getmodule\n",
      "    if ismodule(module) and hasattr(module, '__file__'):\n",
      "  File \"C:\\Users\\ammon_work\\Anaconda3\\envs\\tf-keras-gpu\\lib\\site-packages\\tensorflow\\__init__.py\", line 50, in __getattr__\n",
      "    module = self._load()\n",
      "  File \"C:\\Users\\ammon_work\\Anaconda3\\envs\\tf-keras-gpu\\lib\\site-packages\\tensorflow\\__init__.py\", line 44, in _load\n",
      "    module = _importlib.import_module(self.__name__)\n",
      "  File \"C:\\Users\\ammon_work\\Anaconda3\\envs\\tf-keras-gpu\\lib\\importlib\\__init__.py\", line 126, in import_module\n",
      "    return _bootstrap._gcd_import(name[level:], package, level)\n",
      "  File \"<frozen importlib._bootstrap>\", line 994, in _gcd_import\n",
      "  File \"<frozen importlib._bootstrap>\", line 971, in _find_and_load\n",
      "  File \"<frozen importlib._bootstrap>\", line 953, in _find_and_load_unlocked\n",
      "ModuleNotFoundError: No module named 'tensorflow_core.estimator'\n",
      "Traceback (most recent call last):\n",
      "  File \"C:\\Users\\ammon_work\\Anaconda3\\envs\\tf-keras-gpu\\lib\\site-packages\\IPython\\core\\interactiveshell.py\", line 3343, in run_code\n",
      "    exec(code_obj, self.user_global_ns, self.user_ns)\n",
      "  File \"<ipython-input-119-3c3d178f593d>\", line 6, in <module>\n",
      "    plt.bar(cats+barwidth, lpreds[i,:], barwidth, label = \"prediction\")\n",
      "IndexError: index 19 is out of bounds for axis 0 with size 19\n",
      "\n",
      "During handling of the above exception, another exception occurred:\n",
      "\n",
      "Traceback (most recent call last):\n",
      "  File \"C:\\Users\\ammon_work\\Anaconda3\\envs\\tf-keras-gpu\\lib\\site-packages\\IPython\\core\\interactiveshell.py\", line 2044, in showtraceback\n",
      "    stb = value._render_traceback_()\n",
      "AttributeError: 'IndexError' object has no attribute '_render_traceback_'\n",
      "\n",
      "During handling of the above exception, another exception occurred:\n",
      "\n",
      "Traceback (most recent call last):\n",
      "  File \"C:\\Users\\ammon_work\\Anaconda3\\envs\\tf-keras-gpu\\lib\\site-packages\\IPython\\core\\interactiveshell.py\", line 3263, in run_ast_nodes\n",
      "    if (await self.run_code(code, result,  async_=asy)):\n",
      "  File \"C:\\Users\\ammon_work\\Anaconda3\\envs\\tf-keras-gpu\\lib\\site-packages\\IPython\\core\\interactiveshell.py\", line 3360, in run_code\n",
      "    self.showtraceback(running_compiled_code=True)\n",
      "  File \"C:\\Users\\ammon_work\\Anaconda3\\envs\\tf-keras-gpu\\lib\\site-packages\\IPython\\core\\interactiveshell.py\", line 2047, in showtraceback\n",
      "    value, tb, tb_offset=tb_offset)\n",
      "  File \"C:\\Users\\ammon_work\\Anaconda3\\envs\\tf-keras-gpu\\lib\\site-packages\\IPython\\core\\ultratb.py\", line 1436, in structured_traceback\n",
      "    self, etype, value, tb, tb_offset, number_of_lines_of_context)\n",
      "  File \"C:\\Users\\ammon_work\\Anaconda3\\envs\\tf-keras-gpu\\lib\\site-packages\\IPython\\core\\ultratb.py\", line 1336, in structured_traceback\n",
      "    self, etype, value, tb, tb_offset, number_of_lines_of_context\n",
      "  File \"C:\\Users\\ammon_work\\Anaconda3\\envs\\tf-keras-gpu\\lib\\site-packages\\IPython\\core\\ultratb.py\", line 1193, in structured_traceback\n",
      "    tb_offset)\n",
      "  File \"C:\\Users\\ammon_work\\Anaconda3\\envs\\tf-keras-gpu\\lib\\site-packages\\IPython\\core\\ultratb.py\", line 1150, in format_exception_as_a_whole\n",
      "    last_unique, recursion_repeat = find_recursion(orig_etype, evalue, records)\n",
      "  File \"C:\\Users\\ammon_work\\Anaconda3\\envs\\tf-keras-gpu\\lib\\site-packages\\IPython\\core\\ultratb.py\", line 451, in find_recursion\n",
      "    return len(records), 0\n",
      "TypeError: object of type 'NoneType' has no len()\n",
      "\n",
      "During handling of the above exception, another exception occurred:\n",
      "\n",
      "Traceback (most recent call last):\n",
      "  File \"C:\\Users\\ammon_work\\Anaconda3\\envs\\tf-keras-gpu\\lib\\site-packages\\IPython\\core\\interactiveshell.py\", line 2044, in showtraceback\n",
      "    stb = value._render_traceback_()\n",
      "AttributeError: 'TypeError' object has no attribute '_render_traceback_'\n",
      "\n",
      "During handling of the above exception, another exception occurred:\n",
      "\n",
      "Traceback (most recent call last):\n",
      "  File \"C:\\Users\\ammon_work\\Anaconda3\\envs\\tf-keras-gpu\\lib\\site-packages\\IPython\\core\\interactiveshell.py\", line 2895, in _run_cell\n",
      "    return runner(coro)\n",
      "  File \"C:\\Users\\ammon_work\\Anaconda3\\envs\\tf-keras-gpu\\lib\\site-packages\\IPython\\core\\async_helpers.py\", line 68, in _pseudo_sync_runner\n",
      "    coro.send(None)\n",
      "  File \"C:\\Users\\ammon_work\\Anaconda3\\envs\\tf-keras-gpu\\lib\\site-packages\\IPython\\core\\interactiveshell.py\", line 3072, in run_cell_async\n",
      "    interactivity=interactivity, compiler=compiler, result=result)\n",
      "  File \"C:\\Users\\ammon_work\\Anaconda3\\envs\\tf-keras-gpu\\lib\\site-packages\\IPython\\core\\interactiveshell.py\", line 3282, in run_ast_nodes\n",
      "    self.showtraceback()\n",
      "  File \"C:\\Users\\ammon_work\\Anaconda3\\envs\\tf-keras-gpu\\lib\\site-packages\\IPython\\core\\interactiveshell.py\", line 2047, in showtraceback\n",
      "    value, tb, tb_offset=tb_offset)\n",
      "  File \"C:\\Users\\ammon_work\\Anaconda3\\envs\\tf-keras-gpu\\lib\\site-packages\\IPython\\core\\ultratb.py\", line 1436, in structured_traceback\n",
      "    self, etype, value, tb, tb_offset, number_of_lines_of_context)\n",
      "  File \"C:\\Users\\ammon_work\\Anaconda3\\envs\\tf-keras-gpu\\lib\\site-packages\\IPython\\core\\ultratb.py\", line 1336, in structured_traceback\n",
      "    self, etype, value, tb, tb_offset, number_of_lines_of_context\n",
      "  File \"C:\\Users\\ammon_work\\Anaconda3\\envs\\tf-keras-gpu\\lib\\site-packages\\IPython\\core\\ultratb.py\", line 1211, in structured_traceback\n",
      "    chained_exceptions_tb_offset)\n",
      "  File \"C:\\Users\\ammon_work\\Anaconda3\\envs\\tf-keras-gpu\\lib\\site-packages\\IPython\\core\\ultratb.py\", line 1150, in format_exception_as_a_whole\n",
      "    last_unique, recursion_repeat = find_recursion(orig_etype, evalue, records)\n",
      "  File \"C:\\Users\\ammon_work\\Anaconda3\\envs\\tf-keras-gpu\\lib\\site-packages\\IPython\\core\\ultratb.py\", line 451, in find_recursion\n",
      "    return len(records), 0\n",
      "TypeError: object of type 'NoneType' has no len()\n",
      "\n",
      "During handling of the above exception, another exception occurred:\n",
      "\n",
      "Traceback (most recent call last):\n",
      "  File \"C:\\Users\\ammon_work\\Anaconda3\\envs\\tf-keras-gpu\\lib\\site-packages\\IPython\\core\\interactiveshell.py\", line 2044, in showtraceback\n",
      "    stb = value._render_traceback_()\n",
      "AttributeError: 'TypeError' object has no attribute '_render_traceback_'\n",
      "\n",
      "During handling of the above exception, another exception occurred:\n",
      "\n",
      "Traceback (most recent call last):\n",
      "  File \"C:\\Users\\ammon_work\\Anaconda3\\envs\\tf-keras-gpu\\lib\\site-packages\\IPython\\core\\ultratb.py\", line 1169, in get_records\n",
      "    return _fixed_getinnerframes(etb, number_of_lines_of_context, tb_offset)\n",
      "  File \"C:\\Users\\ammon_work\\Anaconda3\\envs\\tf-keras-gpu\\lib\\site-packages\\IPython\\core\\ultratb.py\", line 316, in wrapped\n",
      "    return f(*args, **kwargs)\n",
      "  File \"C:\\Users\\ammon_work\\Anaconda3\\envs\\tf-keras-gpu\\lib\\site-packages\\IPython\\core\\ultratb.py\", line 350, in _fixed_getinnerframes\n",
      "    records = fix_frame_records_filenames(inspect.getinnerframes(etb, context))\n",
      "  File \"C:\\Users\\ammon_work\\Anaconda3\\envs\\tf-keras-gpu\\lib\\inspect.py\", line 1490, in getinnerframes\n",
      "    frameinfo = (tb.tb_frame,) + getframeinfo(tb, context)\n",
      "  File \"C:\\Users\\ammon_work\\Anaconda3\\envs\\tf-keras-gpu\\lib\\inspect.py\", line 1448, in getframeinfo\n",
      "    filename = getsourcefile(frame) or getfile(frame)\n",
      "  File \"C:\\Users\\ammon_work\\Anaconda3\\envs\\tf-keras-gpu\\lib\\inspect.py\", line 696, in getsourcefile\n",
      "    if getattr(getmodule(object, filename), '__loader__', None) is not None:\n",
      "  File \"C:\\Users\\ammon_work\\Anaconda3\\envs\\tf-keras-gpu\\lib\\inspect.py\", line 733, in getmodule\n",
      "    if ismodule(module) and hasattr(module, '__file__'):\n",
      "  File \"C:\\Users\\ammon_work\\Anaconda3\\envs\\tf-keras-gpu\\lib\\site-packages\\tensorflow\\__init__.py\", line 50, in __getattr__\n",
      "    module = self._load()\n",
      "  File \"C:\\Users\\ammon_work\\Anaconda3\\envs\\tf-keras-gpu\\lib\\site-packages\\tensorflow\\__init__.py\", line 44, in _load\n",
      "    module = _importlib.import_module(self.__name__)\n",
      "  File \"C:\\Users\\ammon_work\\Anaconda3\\envs\\tf-keras-gpu\\lib\\importlib\\__init__.py\", line 126, in import_module\n",
      "    return _bootstrap._gcd_import(name[level:], package, level)\n",
      "  File \"<frozen importlib._bootstrap>\", line 994, in _gcd_import\n",
      "  File \"<frozen importlib._bootstrap>\", line 971, in _find_and_load\n",
      "  File \"<frozen importlib._bootstrap>\", line 953, in _find_and_load_unlocked\n",
      "ModuleNotFoundError: No module named 'tensorflow_core.estimator'\n"
     ]
    },
    {
     "data": {
      "text/plain": [
       "<Figure size 1584x72 with 0 Axes>"
      ]
     },
     "metadata": {},
     "output_type": "display_data"
    }
   ],
   "source": [
    "display(HTML(\"<style>div.output_scroll { height: 130em; }</style>\"))\n",
    "\n",
    "for i in range(0,20):\n",
    "    print(i)\n",
    "    plt.figure(figsize=(22, 1))\n",
    "    plt.bar(cats+barwidth, lpreds[i,:], barwidth, label = \"prediction\")\n",
    "    plt.bar(cats, l_labels[i,:], barwidth, label = \"truth\")\n",
    "    plt.bar(cats+2*barwidth, lroot[i,:], barwidth, label = \"likelihood\")\n",
    "    #plt.bar(cats+2*barwidth, tip_loc_distro[i,:], barwidth)\n",
    "    count+=1\n",
    "    \n",
    "    plt.show()\n",
    "#plt.savefig('prediction_examples.png')\n",
    "\n",
    "plt.close()"
   ]
  },
  {
   "cell_type": "code",
   "execution_count": null,
   "id": "3367ba8d",
   "metadata": {},
   "outputs": [],
   "source": []
  }
 ],
 "metadata": {
  "celltoolbar": "Raw Cell Format",
  "kernelspec": {
   "display_name": "Python 3",
   "language": "python",
   "name": "python3"
  },
  "language_info": {
   "codemirror_mode": {
    "name": "ipython",
    "version": 3
   },
   "file_extension": ".py",
   "mimetype": "text/x-python",
   "name": "python",
   "nbconvert_exporter": "python",
   "pygments_lexer": "ipython3",
   "version": "3.6.13"
  }
 },
 "nbformat": 4,
 "nbformat_minor": 5
}
