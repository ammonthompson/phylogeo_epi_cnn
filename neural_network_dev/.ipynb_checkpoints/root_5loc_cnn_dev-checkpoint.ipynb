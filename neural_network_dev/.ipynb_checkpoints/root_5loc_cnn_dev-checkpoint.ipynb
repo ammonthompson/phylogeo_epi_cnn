{
 "cells": [
  {
   "cell_type": "code",
   "execution_count": 2,
   "id": "f4c44607",
   "metadata": {},
   "outputs": [
    {
     "name": "stderr",
     "output_type": "stream",
     "text": [
      "Using TensorFlow backend.\n"
     ]
    }
   ],
   "source": [
    "import os, shutil\n",
    "from keras import models\n",
    "from keras import layers\n",
    "import numpy as np\n",
    "import pandas as pd"
   ]
  },
  {
   "cell_type": "code",
   "execution_count": 3,
   "id": "652fa988",
   "metadata": {},
   "outputs": [],
   "source": [
    "fulldata = pd.read_csv(\"data_files/set_0_1_2_3.cblv.csv\", \n",
    "                   header =None, error_bad_lines = False).to_numpy()\n",
    "\n",
    "full_labels = pd.read_csv(\"data_files/r0sm_labels_set_0_1_2_3.csv\",\n",
    "                    header = None, error_bad_lines = False).to_numpy()"
   ]
  },
  {
   "cell_type": "code",
   "execution_count": 12,
   "id": "468592f6",
   "metadata": {},
   "outputs": [
    {
     "data": {
      "text/plain": [
       "(15911,)"
      ]
     },
     "execution_count": 12,
     "metadata": {},
     "output_type": "execute_result"
    }
   ],
   "source": [
    "subsample_prop = (full_labels[:,8] - np.mean(full_labels[:,8]))/np.std(full_labels[:,8])\n",
    "subsample_prop.shape"
   ]
  },
  {
   "cell_type": "code",
   "execution_count": 7,
   "id": "93920e44",
   "metadata": {},
   "outputs": [
    {
     "name": "stdout",
     "output_type": "stream",
     "text": [
      "ERROR! Session/line number was not unique in database. History logging moved to new session 499\n"
     ]
    }
   ],
   "source": [
    "# setting up the data\n",
    "num_locs = 5\n",
    "max_tips = 501"
   ]
  },
  {
   "cell_type": "code",
   "execution_count": 8,
   "id": "9ca8c96b",
   "metadata": {},
   "outputs": [],
   "source": [
    "num_data_to_use = fulldata.shape[0]\n",
    "data = fulldata[0:num_data_to_use,:]\n",
    "num_test = 1000\n",
    "num_sample = num_data_to_use"
   ]
  },
  {
   "cell_type": "code",
   "execution_count": null,
   "id": "8cb9c865",
   "metadata": {},
   "outputs": [],
   "source": [
    "full_data_tensor = data.reshape((num_sample, max_tips, num_locs+2), order = 'C')\n",
    "\n",
    "subprop = np.repeat(full_labels[data.shape[0]-num_sample:,8], num_locs+2, axis=0)\n",
    "subprop = subprop.reshape(num_sample, num_locs+2)\n",
    "\n",
    "mu = np.repeat(full_data_tensor[:,499,0], num_locs+2)\n",
    "mu = mu.reshape(num_sample , num_locs+2)"
   ]
  },
  {
   "cell_type": "code",
   "execution_count": 13,
   "id": "44b653ae",
   "metadata": {},
   "outputs": [],
   "source": [
    "# make training tensors\n",
    "\n",
    "\n",
    "train_data_tensor = full_data_tensor[num_test:,:,:]\n",
    "\n",
    "train_data_tensor[:,499,:] = mu[num_test:,:]\n",
    "train_data_tensor[:,500,:] = subprop[num_test:,:]\n",
    "\n",
    "train_data_noGeo_tensor = train_data_tensor[:,:,0:2]\n",
    "train_data_noTree_tensor = train_data_tensor[:,:,2:]\n",
    "\n",
    "#train_data_reverseGeoOrder_tensor = np.copy(train_data_tensor)\n",
    "#for i in range(0, train_data_tensor.shape[0]):\n",
    "#    for j in range(0, train_data_tensor.shape[1]):\n",
    "#        for k in range(2,12):\n",
    "#            train_data_reverseGeoOrder_tensor[i,j,k] = train_data_tensor[i,500-j,k]\n",
    "\n",
    " \n",
    "#train_data_noTreeRandomizedTips_tensor = np.copy(train_data_tensor[:,:,2:])\n",
    "#for i in range(0,train_data_tensor.shape[0]):\n",
    "#    rand_idx = np.random.permutation(501)\n",
    "#    train_data_noTreeRandomizedTips_tensor[i,:,:] = train_data_tensor[i,rand_idx,2:]\n"
   ]
  },
  {
   "cell_type": "code",
   "execution_count": 14,
   "id": "820594e0",
   "metadata": {},
   "outputs": [],
   "source": [
    "# make testing tensors\n",
    "test_data_tensor = data[:num_test,].reshape((num_test, max_tips, num_locs + 2), order = 'C')\n",
    "#test_data_tensor = data[:num_test,].reshape((num_test, max_tips, num_locs + 2))\n",
    "#test_data_tensor[:,500,0] = subsample_prop[:num_test]\n",
    "test_data_noGeo_tensor = test_data_tensor[:,:,0:2]\n",
    "test_data_noTree_tensor = test_data_tensor[:,:,2:]\n",
    "\n",
    "#test_data_reverseGeoOrder_tensor = np.copy(test_data_tensor)\n",
    "#for i in range(0, test_data_tensor.shape[0]):\n",
    "#    for j in range(0, test_data_tensor.shape[1]):\n",
    "#        for k in range(2,12):\n",
    "#            test_data_reverseGeoOrder_tensor[i,j,k] = test_data_tensor[i,500-j,k]\n",
    "\n",
    "\n",
    "#test_data_noTreeRandomizedTips_tensor = np.copy(test_data_noTree_tensor)\n",
    "#for i in range(0,test_data_noTree_tensor.shape[0]):\n",
    "#    rand_idx = np.random.permutation(501)\n",
    "#    test_data_noTreeRandomizedTips_tensor[i,:,:] = test_data_noTree_tensor[i,rand_idx,:]   "
   ]
  },
  {
   "cell_type": "code",
   "execution_count": 15,
   "id": "3cc13eaa",
   "metadata": {},
   "outputs": [
    {
     "data": {
      "text/plain": [
       "(14911, 501, 7)"
      ]
     },
     "execution_count": 15,
     "metadata": {},
     "output_type": "execute_result"
    }
   ],
   "source": [
    "train_data_tensor.shape"
   ]
  },
  {
   "cell_type": "code",
   "execution_count": 16,
   "id": "f97d4b48",
   "metadata": {},
   "outputs": [],
   "source": [
    "### checking that trees line up with labels using. PASSED!\n",
    "#tip_loc_counts = np.zeros((train_data_tensor.shape[0],5))\n",
    "#tip_loc_distro = np.zeros((train_data_tensor.shape[0],5))\n",
    "\n",
    "#for i in range(0, train_data_tensor.shape[0]):    \n",
    "#    tip_loc_counts[i,:] = sum(train_data_tensor[i,:,2:7] ==  1)\n",
    "#    tip_loc_distro[i,:] = tip_loc_counts[i,:] / sum(tip_loc_counts[i,:])\n",
    "    \n",
    "#tip_loc_counts[[15009,16999,17999,18009, 18099,18999,19009,19999,21009],:]"
   ]
  },
  {
   "cell_type": "code",
   "execution_count": 17,
   "id": "7edf841c",
   "metadata": {},
   "outputs": [],
   "source": [
    "# training, validation, and testing tensors\n",
    "####################################\n",
    "\n",
    "num_validation = 1000\n",
    "\n",
    "train_data_tensor_minus_val = train_data_tensor[num_validation:,:,:]\n",
    "train_data_tensor_val = train_data_tensor[:num_validation,:,:]\n",
    "\n",
    "#test_data_tensor = test_data_tensor[:,:,:2]\n",
    "#train_data_tensor_minus_val = train_data_noGeo_tensor[num_validation:,:,:]\n",
    "#train_data_tensor_val = train_data_noGeo_tensor[:num_validation,:,:]\n",
    "\n",
    "#test_data_tensor = test_data_tensor[:,:,2:]\n",
    "#train_data_tensor_minus_val = train_data_noTree_tensor[num_validation:,:,:]\n",
    "#train_data_tensor_val = train_data_noTree_tensor[:num_validation,:,:]\n",
    "\n",
    "#test_data_tensor = test_data_noTreeRandomizedTips_tensor\n",
    "#train_data_tensor_minus_val = train_data_noTreeRandomizedTips_tensor[num_validation:,:,:]\n",
    "#train_data_tensor_val = train_data_noTreeRandomizedTips_tensor[:num_validation,:,:]\n",
    "\n",
    "#test_data_tensor = test_data_noTreeRandomizedTips_tensor\n",
    "#train_data_tensor_minus_val = train_data_noTreeRandomizedTips_tensor[num_validation:,:,:]\n",
    "#train_data_tensor_val = train_data_noTreeRandomizedTips_tensor[:num_validation,:,:]\n"
   ]
  },
  {
   "cell_type": "code",
   "execution_count": 18,
   "id": "99d0561d",
   "metadata": {},
   "outputs": [
    {
     "data": {
      "text/plain": [
       "(1000, 501, 7)"
      ]
     },
     "execution_count": 18,
     "metadata": {},
     "output_type": "execute_result"
    }
   ],
   "source": [
    "test_data_tensor.shape"
   ]
  },
  {
   "cell_type": "code",
   "execution_count": 19,
   "id": "662afd01",
   "metadata": {},
   "outputs": [
    {
     "data": {
      "text/plain": [
       "(13911, 501, 7)"
      ]
     },
     "execution_count": 19,
     "metadata": {},
     "output_type": "execute_result"
    }
   ],
   "source": [
    "train_data_tensor_minus_val.shape"
   ]
  },
  {
   "cell_type": "code",
   "execution_count": 20,
   "id": "b717cc7b",
   "metadata": {},
   "outputs": [],
   "source": [
    "# training and validation labels\n",
    "##################################\n",
    "labels = full_labels[0:num_data_to_use, 0:num_locs]\n",
    "\n",
    "train_labels = labels[num_test:,]\n",
    "test_labels = labels[:num_test,]\n",
    "\n",
    "\n",
    "#train_labels = random_labels[num_test:,]\n",
    "#test_labels = random_labels[:num_test,]\n",
    "\n",
    "\n",
    "train_labels_minus_val = train_labels[num_validation:,:]\n",
    "train_labels_val = train_labels[:num_validation,:]"
   ]
  },
  {
   "cell_type": "code",
   "execution_count": 21,
   "id": "ec29d630",
   "metadata": {},
   "outputs": [
    {
     "data": {
      "text/plain": [
       "(1000, 5)"
      ]
     },
     "execution_count": 21,
     "metadata": {},
     "output_type": "execute_result"
    }
   ],
   "source": [
    "test_labels.shape"
   ]
  },
  {
   "cell_type": "code",
   "execution_count": 23,
   "id": "06d5b5d2",
   "metadata": {},
   "outputs": [
    {
     "name": "stderr",
     "output_type": "stream",
     "text": [
      "C:\\Users\\ammon_work\\Anaconda3\\envs\\tf-keras-gpu\\lib\\site-packages\\ipykernel_launcher.py:4: UserWarning: Update your `MaxPooling1D` call to the Keras 2 API: `MaxPooling1D(pool_size=5, strides=1)`\n",
      "  after removing the cwd from sys.path.\n",
      "C:\\Users\\ammon_work\\Anaconda3\\envs\\tf-keras-gpu\\lib\\site-packages\\ipykernel_launcher.py:7: UserWarning: Update your `MaxPooling1D` call to the Keras 2 API: `MaxPooling1D(pool_size=5, strides=1)`\n",
      "  import sys\n"
     ]
    }
   ],
   "source": [
    "mymodel = models.Sequential()\n",
    "mymodel.add(layers.Conv1D(10, 3, activation = 'relu'))\n",
    "#mymodel.add(layers.Conv1D(40, 10, activation = 'elu'))\n",
    "mymodel.add(layers.MaxPooling1D(pool_size = 5, stride = 1))\n",
    "#mymodel.add(layers.Conv1D(40, 5, activation = 'elu'))\n",
    "mymodel.add(layers.Conv1D(80, 10, activation = 'relu'))\n",
    "mymodel.add(layers.MaxPooling1D(pool_size = 5, stride = 1))\n",
    "mymodel.add(layers.Conv1D(100, 20, activation = 'relu'))\n",
    "#mymodel.add(layers.Dropout(0.1))\n",
    "mymodel.add(layers.GlobalAveragePooling1D())\n",
    "mymodel.add(layers.Dense(120, activation = 'relu', kernel_initializer = 'VarianceScaling'))\n",
    "mymodel.add(layers.Dense(60, activation = 'relu', kernel_initializer = 'VarianceScaling'))\n",
    "mymodel.add(layers.Dense(20, activation = 'relu', kernel_initializer = 'VarianceScaling'))\n",
    "mymodel.add(layers.Dense(5, activation = 'softmax'))\n"
   ]
  },
  {
   "cell_type": "code",
   "execution_count": 24,
   "id": "4dce9437",
   "metadata": {},
   "outputs": [],
   "source": [
    "mymodel.compile(optimizer = 'rmsprop', loss = 'categorical_crossentropy', metrics = ['binary_accuracy','categorical_accuracy'])"
   ]
  },
  {
   "cell_type": "code",
   "execution_count": 26,
   "id": "8cf3c7be",
   "metadata": {
    "scrolled": true
   },
   "outputs": [
    {
     "name": "stdout",
     "output_type": "stream",
     "text": [
      "Train on 13911 samples, validate on 1000 samples\n",
      "Epoch 1/10\n",
      "13911/13911 [==============================] - 11s 812us/step - loss: 0.5430 - binary_accuracy: 0.9401 - categorical_accuracy: 0.8459 - val_loss: 0.4893 - val_binary_accuracy: 0.9486 - val_categorical_accuracy: 0.8660\n",
      "Epoch 2/10\n",
      "13911/13911 [==============================] - 11s 801us/step - loss: 0.5362 - binary_accuracy: 0.9415 - categorical_accuracy: 0.8480 - val_loss: 0.5450 - val_binary_accuracy: 0.9378 - val_categorical_accuracy: 0.8430\n",
      "Epoch 3/10\n",
      "13911/13911 [==============================] - 11s 801us/step - loss: 0.5345 - binary_accuracy: 0.9415 - categorical_accuracy: 0.8499 - val_loss: 0.4840 - val_binary_accuracy: 0.9472 - val_categorical_accuracy: 0.8690ss: 0.5297 - binary_accuracy: 0.9\n",
      "Epoch 4/10\n",
      "13911/13911 [==============================] - 11s 805us/step - loss: 0.5280 - binary_accuracy: 0.9425 - categorical_accuracy: 0.8526 - val_loss: 0.4799 - val_binary_accuracy: 0.9508 - val_categorical_accuracy: 0.8780\n",
      "Epoch 5/10\n",
      "13911/13911 [==============================] - 11s 802us/step - loss: 0.5260 - binary_accuracy: 0.9425 - categorical_accuracy: 0.8524 - val_loss: 0.5067 - val_binary_accuracy: 0.9454 - val_categorical_accuracy: 0.8550\n",
      "Epoch 6/10\n",
      "13911/13911 [==============================] - 11s 802us/step - loss: 0.5232 - binary_accuracy: 0.9431 - categorical_accuracy: 0.8530 - val_loss: 0.4658 - val_binary_accuracy: 0.9484 - val_categorical_accuracy: 0.8670\n",
      "Epoch 7/10\n",
      "13911/13911 [==============================] - 11s 803us/step - loss: 0.5161 - binary_accuracy: 0.9434 - categorical_accuracy: 0.8550 - val_loss: 0.5010 - val_binary_accuracy: 0.9438 - val_categorical_accuracy: 0.8580\n",
      "Epoch 8/10\n",
      "13911/13911 [==============================] - 11s 801us/step - loss: 0.5148 - binary_accuracy: 0.9438 - categorical_accuracy: 0.8548 - val_loss: 0.4849 - val_binary_accuracy: 0.9484 - val_categorical_accuracy: 0.8700\n",
      "Epoch 9/10\n",
      "13911/13911 [==============================] - 11s 800us/step - loss: 0.5108 - binary_accuracy: 0.9440 - categorical_accuracy: 0.8554 - val_loss: 0.5050 - val_binary_accuracy: 0.9430 - val_categorical_accuracy: 0.8490\n",
      "Epoch 10/10\n",
      "13911/13911 [==============================] - 11s 805us/step - loss: 0.5074 - binary_accuracy: 0.9447 - categorical_accuracy: 0.8575 - val_loss: 0.4909 - val_binary_accuracy: 0.9488 - val_categorical_accuracy: 0.8600\n"
     ]
    }
   ],
   "source": [
    "history = mymodel.fit(train_data_tensor_minus_val, train_labels_minus_val,\n",
    "                     epochs =10, batch_size = 64, \n",
    "                     validation_data = (train_data_tensor_val, train_labels_val))\n"
   ]
  },
  {
   "cell_type": "code",
   "execution_count": 17,
   "id": "fe56aedb",
   "metadata": {},
   "outputs": [],
   "source": [
    "#mymodel.summary()"
   ]
  },
  {
   "cell_type": "code",
   "execution_count": 27,
   "id": "d500b797",
   "metadata": {},
   "outputs": [
    {
     "data": {
      "text/plain": [
       "dict_keys(['val_loss', 'val_binary_accuracy', 'val_categorical_accuracy', 'loss', 'binary_accuracy', 'categorical_accuracy'])"
      ]
     },
     "execution_count": 27,
     "metadata": {},
     "output_type": "execute_result"
    }
   ],
   "source": [
    "history.history.keys()"
   ]
  },
  {
   "cell_type": "code",
   "execution_count": 28,
   "id": "0ebcd33b",
   "metadata": {},
   "outputs": [],
   "source": [
    "import matplotlib.pyplot as plt\n",
    "acc = history.history['categorical_accuracy']\n",
    "val_acc = history.history['val_categorical_accuracy']\n",
    "epochs =range(1, len(acc) + 1)\n",
    " "
   ]
  },
  {
   "cell_type": "code",
   "execution_count": 29,
   "id": "6d102658",
   "metadata": {
    "scrolled": true
   },
   "outputs": [
    {
     "data": {
      "image/png": "[encoded data removed]",
      "text/plain": [
       "<Figure size 432x288 with 1 Axes>"
      ]
     },
     "metadata": {
      "needs_background": "light"
     },
     "output_type": "display_data"
    }
   ],
   "source": [
    "plt.plot(epochs, acc, 'bo', label = 'Training acc')\n",
    "plt.plot(epochs, val_acc, 'b', label = 'Validation acc')\n",
    "plt.title('Training and val accuracy')\n",
    "plt.xlabel('Epochs')\n",
    "plt.ylabel('accuracy')\n",
    "plt.legend()\n",
    "plt.show()"
   ]
  },
  {
   "cell_type": "code",
   "execution_count": 30,
   "id": "6f813fae",
   "metadata": {},
   "outputs": [
    {
     "name": "stdout",
     "output_type": "stream",
     "text": [
      "1000/1000 [==============================] - 1s 506us/step\n"
     ]
    },
    {
     "data": {
      "text/plain": [
       "[0.5376107070446015, 0.9406000375747681, 0.8360000252723694]"
      ]
     },
     "execution_count": 30,
     "metadata": {},
     "output_type": "execute_result"
    }
   ],
   "source": [
    "test = mymodel.evaluate(test_data_tensor, test_labels)\n",
    "test"
   ]
  },
  {
   "cell_type": "code",
   "execution_count": 31,
   "id": "49121b88",
   "metadata": {},
   "outputs": [
    {
     "data": {
      "text/plain": [
       "array([0.00863066, 0.9724229 , 0.00283969, 0.00921927, 0.00688753],\n",
       "      dtype=float32)"
      ]
     },
     "execution_count": 31,
     "metadata": {},
     "output_type": "execute_result"
    }
   ],
   "source": [
    "preds = mymodel.predict(test_data_tensor)\n",
    "preds[1,:]"
   ]
  },
  {
   "cell_type": "code",
   "execution_count": 32,
   "id": "44989a54",
   "metadata": {
    "scrolled": false
   },
   "outputs": [
    {
     "data": {
      "text/html": [
       "<style>div.output_scroll { height: 30em; }</style>"
      ],
      "text/plain": [
       "<IPython.core.display.HTML object>"
      ]
     },
     "metadata": {},
     "output_type": "display_data"
    },
    {
     "data": {
      "image/png": "[encoded data removed]",
      "text/plain": [
       "<Figure size 504x72 with 1 Axes>"
      ]
     },
     "metadata": {
      "needs_background": "light"
     },
     "output_type": "display_data"
    },
    {
     "data": {
      "image/png": "[encoded data removed]",
      "text/plain": [
       "<Figure size 504x72 with 1 Axes>"
      ]
     },
     "metadata": {
      "needs_background": "light"
     },
     "output_type": "display_data"
    },
    {
     "data": {
      "image/png": "[encoded data removed]",
      "text/plain": [
       "<Figure size 504x72 with 1 Axes>"
      ]
     },
     "metadata": {
      "needs_background": "light"
     },
     "output_type": "display_data"
    },
    {
     "data": {
      "image/png": "[encoded data removed]",
      "text/plain": [
       "<Figure size 504x72 with 1 Axes>"
      ]
     },
     "metadata": {
      "needs_background": "light"
     },
     "output_type": "display_data"
    },
    {
     "data": {
      "image/png": "[encoded data removed]",
      "text/plain": [
       "<Figure size 504x72 with 1 Axes>"
      ]
     },
     "metadata": {
      "needs_background": "light"
     },
     "output_type": "display_data"
    },
    {
     "data": {
      "image/png": "[encoded data removed]",
      "text/plain": [
       "<Figure size 504x72 with 1 Axes>"
      ]
     },
     "metadata": {
      "needs_background": "light"
     },
     "output_type": "display_data"
    },
    {
     "data": {
      "image/png": "[encoded data removed]",
      "text/plain": [
       "<Figure size 504x72 with 1 Axes>"
      ]
     },
     "metadata": {
      "needs_background": "light"
     },
     "output_type": "display_data"
    },
    {
     "data": {
      "image/png": "[encoded data removed]",
      "text/plain": [
       "<Figure size 504x72 with 1 Axes>"
      ]
     },
     "metadata": {
      "needs_background": "light"
     },
     "output_type": "display_data"
    },
    {
     "data": {
      "image/png": "[encoded data removed]",
      "text/plain": [
       "<Figure size 504x72 with 1 Axes>"
      ]
     },
     "metadata": {
      "needs_background": "light"
     },
     "output_type": "display_data"
    }
   ],
   "source": [
    "\n",
    "from IPython.core.display import display, HTML\n",
    "display(HTML(\"<style>div.output_scroll { height: 30em; }</style>\"))\n",
    "\n",
    "# plot some prediction examples\n",
    "cats = np.arange(num_locs)\n",
    "\n",
    "barwidth = 0.2\n",
    "\n",
    "random_idx = np.random.randint(0, test_data_tensor.shape[0], 10)\n",
    "for i in random_idx:\n",
    "    plt.figure(figsize=(num_locs+2, 1))\n",
    "    plt.bar(cats, preds[i,:], barwidth, label = \"prediction\")\n",
    "    plt.bar(cats+barwidth, test_labels[i,:], barwidth, label = \"truth\")\n",
    "#plt.savefig('prediction_examples.png')\n",
    "\n",
    "plt.close()\n",
    "    \n"
   ]
  },
  {
   "cell_type": "code",
   "execution_count": 34,
   "id": "e418a24f",
   "metadata": {},
   "outputs": [
    {
     "name": "stdout",
     "output_type": "stream",
     "text": [
      "tip frequency accuracy:  0.5891091414940653\n",
      "cnn prediction accuracy:  0.7636246796033811\n",
      "top tip prediction accuracy:  0.852\n",
      "top cnn prediction accuracy:  0.836\n",
      "576\n"
     ]
    },
    {
     "data": {
      "image/png": "[encoded data removed]",
      "text/plain": [
       "<Figure size 504x72 with 1 Axes>"
      ]
     },
     "metadata": {
      "needs_background": "light"
     },
     "output_type": "display_data"
    },
    {
     "name": "stdout",
     "output_type": "stream",
     "text": [
      "414\n"
     ]
    },
    {
     "data": {
      "image/png": "[encoded data removed]",
      "text/plain": [
       "<Figure size 504x72 with 1 Axes>"
      ]
     },
     "metadata": {
      "needs_background": "light"
     },
     "output_type": "display_data"
    },
    {
     "name": "stdout",
     "output_type": "stream",
     "text": [
      "829\n"
     ]
    },
    {
     "data": {
      "image/png": "[encoded data removed]",
      "text/plain": [
       "<Figure size 504x72 with 1 Axes>"
      ]
     },
     "metadata": {
      "needs_background": "light"
     },
     "output_type": "display_data"
    },
    {
     "name": "stdout",
     "output_type": "stream",
     "text": [
      "680\n"
     ]
    },
    {
     "data": {
      "image/png": "[encoded data removed]",
      "text/plain": [
       "<Figure size 504x72 with 1 Axes>"
      ]
     },
     "metadata": {
      "needs_background": "light"
     },
     "output_type": "display_data"
    },
    {
     "name": "stdout",
     "output_type": "stream",
     "text": [
      "841\n"
     ]
    },
    {
     "data": {
      "image/png": "[encoded data removed]",
      "text/plain": [
       "<Figure size 504x72 with 1 Axes>"
      ]
     },
     "metadata": {
      "needs_background": "light"
     },
     "output_type": "display_data"
    },
    {
     "name": "stdout",
     "output_type": "stream",
     "text": [
      "53\n"
     ]
    },
    {
     "data": {
      "image/png": "[encoded data removed]",
      "text/plain": [
       "<Figure size 504x72 with 1 Axes>"
      ]
     },
     "metadata": {
      "needs_background": "light"
     },
     "output_type": "display_data"
    },
    {
     "name": "stdout",
     "output_type": "stream",
     "text": [
      "818\n"
     ]
    },
    {
     "data": {
      "image/png": "[encoded data removed]",
      "text/plain": [
       "<Figure size 504x72 with 1 Axes>"
      ]
     },
     "metadata": {
      "needs_background": "light"
     },
     "output_type": "display_data"
    },
    {
     "name": "stdout",
     "output_type": "stream",
     "text": [
      "608\n"
     ]
    },
    {
     "data": {
      "image/png": "[encoded data removed]",
      "text/plain": [
       "<Figure size 504x72 with 1 Axes>"
      ]
     },
     "metadata": {
      "needs_background": "light"
     },
     "output_type": "display_data"
    },
    {
     "name": "stdout",
     "output_type": "stream",
     "text": [
      "950\n"
     ]
    },
    {
     "data": {
      "image/png": "[encoded data removed]",
      "text/plain": [
       "<Figure size 504x72 with 1 Axes>"
      ]
     },
     "metadata": {
      "needs_background": "light"
     },
     "output_type": "display_data"
    },
    {
     "name": "stdout",
     "output_type": "stream",
     "text": [
      "785\n"
     ]
    },
    {
     "data": {
      "image/png": "[encoded data removed]",
      "text/plain": [
       "<Figure size 504x72 with 1 Axes>"
      ]
     },
     "metadata": {
      "needs_background": "light"
     },
     "output_type": "display_data"
    },
    {
     "name": "stdout",
     "output_type": "stream",
     "text": [
      "450\n"
     ]
    },
    {
     "data": {
      "image/png": "[encoded data removed]",
      "text/plain": [
       "<Figure size 504x72 with 1 Axes>"
      ]
     },
     "metadata": {
      "needs_background": "light"
     },
     "output_type": "display_data"
    },
    {
     "name": "stdout",
     "output_type": "stream",
     "text": [
      "757\n"
     ]
    },
    {
     "data": {
      "image/png": "[encoded data removed]",
      "text/plain": [
       "<Figure size 504x72 with 1 Axes>"
      ]
     },
     "metadata": {
      "needs_background": "light"
     },
     "output_type": "display_data"
    },
    {
     "name": "stdout",
     "output_type": "stream",
     "text": [
      "646\n"
     ]
    },
    {
     "data": {
      "image/png": "[encoded data removed]",
      "text/plain": [
       "<Figure size 504x72 with 1 Axes>"
      ]
     },
     "metadata": {
      "needs_background": "light"
     },
     "output_type": "display_data"
    },
    {
     "name": "stdout",
     "output_type": "stream",
     "text": [
      "134\n"
     ]
    },
    {
     "data": {
      "image/png": "[encoded data removed]",
      "text/plain": [
       "<Figure size 504x72 with 1 Axes>"
      ]
     },
     "metadata": {
      "needs_background": "light"
     },
     "output_type": "display_data"
    },
    {
     "name": "stdout",
     "output_type": "stream",
     "text": [
      "396\n"
     ]
    },
    {
     "data": {
      "image/png": "[encoded data removed]",
      "text/plain": [
       "<Figure size 504x72 with 1 Axes>"
      ]
     },
     "metadata": {
      "needs_background": "light"
     },
     "output_type": "display_data"
    },
    {
     "name": "stdout",
     "output_type": "stream",
     "text": [
      "657\n"
     ]
    },
    {
     "data": {
      "image/png": "[encoded data removed]",
      "text/plain": [
       "<Figure size 504x72 with 1 Axes>"
      ]
     },
     "metadata": {
      "needs_background": "light"
     },
     "output_type": "display_data"
    },
    {
     "name": "stdout",
     "output_type": "stream",
     "text": [
      "486\n"
     ]
    },
    {
     "data": {
      "image/png": "[encoded data removed]",
      "text/plain": [
       "<Figure size 504x72 with 1 Axes>"
      ]
     },
     "metadata": {
      "needs_background": "light"
     },
     "output_type": "display_data"
    },
    {
     "name": "stdout",
     "output_type": "stream",
     "text": [
      "248\n"
     ]
    },
    {
     "data": {
      "image/png": "[encoded data removed]",
      "text/plain": [
       "<Figure size 504x72 with 1 Axes>"
      ]
     },
     "metadata": {
      "needs_background": "light"
     },
     "output_type": "display_data"
    },
    {
     "name": "stdout",
     "output_type": "stream",
     "text": [
      "324\n"
     ]
    },
    {
     "data": {
      "image/png": "[encoded data removed]",
      "text/plain": [
       "<Figure size 504x72 with 1 Axes>"
      ]
     },
     "metadata": {
      "needs_background": "light"
     },
     "output_type": "display_data"
    },
    {
     "name": "stdout",
     "output_type": "stream",
     "text": [
      "371\n"
     ]
    },
    {
     "data": {
      "image/png": "[encoded data removed]",
      "text/plain": [
       "<Figure size 504x72 with 1 Axes>"
      ]
     },
     "metadata": {
      "needs_background": "light"
     },
     "output_type": "display_data"
    },
    {
     "name": "stdout",
     "output_type": "stream",
     "text": [
      "545\n"
     ]
    },
    {
     "data": {
      "image/png": "[encoded data removed]",
      "text/plain": [
       "<Figure size 504x72 with 1 Axes>"
      ]
     },
     "metadata": {
      "needs_background": "light"
     },
     "output_type": "display_data"
    },
    {
     "name": "stdout",
     "output_type": "stream",
     "text": [
      "251\n"
     ]
    },
    {
     "data": {
      "image/png": "[encoded data removed]",
      "text/plain": [
       "<Figure size 504x72 with 1 Axes>"
      ]
     },
     "metadata": {
      "needs_background": "light"
     },
     "output_type": "display_data"
    },
    {
     "name": "stdout",
     "output_type": "stream",
     "text": [
      "282\n"
     ]
    },
    {
     "data": {
      "image/png": "[encoded data removed]",
      "text/plain": [
       "<Figure size 504x72 with 1 Axes>"
      ]
     },
     "metadata": {
      "needs_background": "light"
     },
     "output_type": "display_data"
    },
    {
     "name": "stdout",
     "output_type": "stream",
     "text": [
      "973\n"
     ]
    },
    {
     "data": {
      "image/png": "[encoded data removed]",
      "text/plain": [
       "<Figure size 504x72 with 1 Axes>"
      ]
     },
     "metadata": {
      "needs_background": "light"
     },
     "output_type": "display_data"
    },
    {
     "name": "stdout",
     "output_type": "stream",
     "text": [
      "341\n"
     ]
    },
    {
     "data": {
      "image/png": "[encoded data removed]",
      "text/plain": [
       "<Figure size 504x72 with 1 Axes>"
      ]
     },
     "metadata": {
      "needs_background": "light"
     },
     "output_type": "display_data"
    },
    {
     "name": "stdout",
     "output_type": "stream",
     "text": [
      "565\n"
     ]
    },
    {
     "data": {
      "image/png": "[encoded data removed]",
      "text/plain": [
       "<Figure size 504x72 with 1 Axes>"
      ]
     },
     "metadata": {
      "needs_background": "light"
     },
     "output_type": "display_data"
    },
    {
     "name": "stdout",
     "output_type": "stream",
     "text": [
      "917\n"
     ]
    },
    {
     "data": {
      "image/png": "[encoded data removed]",
      "text/plain": [
       "<Figure size 504x72 with 1 Axes>"
      ]
     },
     "metadata": {
      "needs_background": "light"
     },
     "output_type": "display_data"
    },
    {
     "name": "stdout",
     "output_type": "stream",
     "text": [
      "678\n"
     ]
    },
    {
     "data": {
      "image/png": "[encoded data removed]",
      "text/plain": [
       "<Figure size 504x72 with 1 Axes>"
      ]
     },
     "metadata": {
      "needs_background": "light"
     },
     "output_type": "display_data"
    },
    {
     "name": "stdout",
     "output_type": "stream",
     "text": [
      "803\n"
     ]
    },
    {
     "data": {
      "image/png": "[encoded data removed]",
      "text/plain": [
       "<Figure size 504x72 with 1 Axes>"
      ]
     },
     "metadata": {
      "needs_background": "light"
     },
     "output_type": "display_data"
    },
    {
     "name": "stdout",
     "output_type": "stream",
     "text": [
      "631\n"
     ]
    },
    {
     "data": {
      "image/png": "[encoded data removed]",
      "text/plain": [
       "<Figure size 504x72 with 1 Axes>"
      ]
     },
     "metadata": {
      "needs_background": "light"
     },
     "output_type": "display_data"
    },
    {
     "name": "stdout",
     "output_type": "stream",
     "text": [
      "734\n"
     ]
    },
    {
     "data": {
      "image/png": "[encoded data removed]",
      "text/plain": [
       "<Figure size 504x72 with 1 Axes>"
      ]
     },
     "metadata": {
      "needs_background": "light"
     },
     "output_type": "display_data"
    },
    {
     "name": "stdout",
     "output_type": "stream",
     "text": [
      "705\n"
     ]
    },
    {
     "data": {
      "image/png": "[encoded data removed]",
      "text/plain": [
       "<Figure size 504x72 with 1 Axes>"
      ]
     },
     "metadata": {
      "needs_background": "light"
     },
     "output_type": "display_data"
    },
    {
     "name": "stdout",
     "output_type": "stream",
     "text": [
      "740\n"
     ]
    },
    {
     "data": {
      "image/png": "[encoded data removed]",
      "text/plain": [
       "<Figure size 504x72 with 1 Axes>"
      ]
     },
     "metadata": {
      "needs_background": "light"
     },
     "output_type": "display_data"
    },
    {
     "name": "stdout",
     "output_type": "stream",
     "text": [
      "46\n"
     ]
    },
    {
     "data": {
      "image/png": "[encoded data removed]",
      "text/plain": [
       "<Figure size 504x72 with 1 Axes>"
      ]
     },
     "metadata": {
      "needs_background": "light"
     },
     "output_type": "display_data"
    },
    {
     "name": "stdout",
     "output_type": "stream",
     "text": [
      "187\n"
     ]
    },
    {
     "data": {
      "image/png": "[encoded data removed]",
      "text/plain": [
       "<Figure size 504x72 with 1 Axes>"
      ]
     },
     "metadata": {
      "needs_background": "light"
     },
     "output_type": "display_data"
    },
    {
     "name": "stdout",
     "output_type": "stream",
     "text": [
      "340\n"
     ]
    },
    {
     "data": {
      "image/png": "[encoded data removed]",
      "text/plain": [
       "<Figure size 504x72 with 1 Axes>"
      ]
     },
     "metadata": {
      "needs_background": "light"
     },
     "output_type": "display_data"
    },
    {
     "name": "stdout",
     "output_type": "stream",
     "text": [
      "340\n"
     ]
    },
    {
     "data": {
      "image/png": "[encoded data removed]",
      "text/plain": [
       "<Figure size 504x72 with 1 Axes>"
      ]
     },
     "metadata": {
      "needs_background": "light"
     },
     "output_type": "display_data"
    },
    {
     "name": "stdout",
     "output_type": "stream",
     "text": [
      "214\n"
     ]
    },
    {
     "data": {
      "image/png": "[encoded data removed]",
      "text/plain": [
       "<Figure size 504x72 with 1 Axes>"
      ]
     },
     "metadata": {
      "needs_background": "light"
     },
     "output_type": "display_data"
    },
    {
     "name": "stdout",
     "output_type": "stream",
     "text": [
      "693\n"
     ]
    },
    {
     "data": {
      "image/png": "[encoded data removed]",
      "text/plain": [
       "<Figure size 504x72 with 1 Axes>"
      ]
     },
     "metadata": {
      "needs_background": "light"
     },
     "output_type": "display_data"
    },
    {
     "name": "stdout",
     "output_type": "stream",
     "text": [
      "467\n"
     ]
    },
    {
     "data": {
      "image/png": "[encoded data removed]",
      "text/plain": [
       "<Figure size 504x72 with 1 Axes>"
      ]
     },
     "metadata": {
      "needs_background": "light"
     },
     "output_type": "display_data"
    },
    {
     "name": "stdout",
     "output_type": "stream",
     "text": [
      "242\n"
     ]
    },
    {
     "data": {
      "image/png": "[encoded data removed]",
      "text/plain": [
       "<Figure size 504x72 with 1 Axes>"
      ]
     },
     "metadata": {
      "needs_background": "light"
     },
     "output_type": "display_data"
    },
    {
     "name": "stdout",
     "output_type": "stream",
     "text": [
      "853\n"
     ]
    },
    {
     "data": {
      "image/png": "[encoded data removed]",
      "text/plain": [
       "<Figure size 504x72 with 1 Axes>"
      ]
     },
     "metadata": {
      "needs_background": "light"
     },
     "output_type": "display_data"
    },
    {
     "name": "stdout",
     "output_type": "stream",
     "text": [
      "487\n"
     ]
    },
    {
     "data": {
      "image/png": "[encoded data removed]",
      "text/plain": [
       "<Figure size 504x72 with 1 Axes>"
      ]
     },
     "metadata": {
      "needs_background": "light"
     },
     "output_type": "display_data"
    },
    {
     "name": "stdout",
     "output_type": "stream",
     "text": [
      "559\n"
     ]
    },
    {
     "data": {
      "image/png": "[encoded data removed]",
      "text/plain": [
       "<Figure size 504x72 with 1 Axes>"
      ]
     },
     "metadata": {
      "needs_background": "light"
     },
     "output_type": "display_data"
    },
    {
     "name": "stdout",
     "output_type": "stream",
     "text": [
      "119\n"
     ]
    },
    {
     "data": {
      "image/png": "[encoded data removed]",
      "text/plain": [
       "<Figure size 504x72 with 1 Axes>"
      ]
     },
     "metadata": {
      "needs_background": "light"
     },
     "output_type": "display_data"
    },
    {
     "name": "stdout",
     "output_type": "stream",
     "text": [
      "410\n"
     ]
    },
    {
     "data": {
      "image/png": "[encoded data removed]",
      "text/plain": [
       "<Figure size 504x72 with 1 Axes>"
      ]
     },
     "metadata": {
      "needs_background": "light"
     },
     "output_type": "display_data"
    },
    {
     "name": "stdout",
     "output_type": "stream",
     "text": [
      "918\n"
     ]
    },
    {
     "data": {
      "image/png": "[encoded data removed]",
      "text/plain": [
       "<Figure size 504x72 with 1 Axes>"
      ]
     },
     "metadata": {
      "needs_background": "light"
     },
     "output_type": "display_data"
    },
    {
     "name": "stdout",
     "output_type": "stream",
     "text": [
      "541\n"
     ]
    },
    {
     "data": {
      "image/png": "[encoded data removed]",
      "text/plain": [
       "<Figure size 504x72 with 1 Axes>"
      ]
     },
     "metadata": {
      "needs_background": "light"
     },
     "output_type": "display_data"
    },
    {
     "name": "stdout",
     "output_type": "stream",
     "text": [
      "804\n"
     ]
    },
    {
     "data": {
      "image/png": "[encoded data removed]",
      "text/plain": [
       "<Figure size 504x72 with 1 Axes>"
      ]
     },
     "metadata": {
      "needs_background": "light"
     },
     "output_type": "display_data"
    },
    {
     "name": "stdout",
     "output_type": "stream",
     "text": [
      "989\n"
     ]
    },
    {
     "data": {
      "image/png": "[encoded data removed]",
      "text/plain": [
       "<Figure size 504x72 with 1 Axes>"
      ]
     },
     "metadata": {
      "needs_background": "light"
     },
     "output_type": "display_data"
    }
   ],
   "source": [
    "# how predictive are just counts without any phylo info?\n",
    "tip_loc_counts = np.zeros((test_data_tensor.shape[0],num_locs))\n",
    "tip_loc_distro = np.zeros((test_data_tensor.shape[0],num_locs))\n",
    "accuracy_tipfreq = np.zeros((test_data_tensor.shape[0]))\n",
    "accuracy_pred = np.zeros((test_data_tensor.shape[0]))\n",
    "acc_top_pred = np.zeros((test_data_tensor.shape[0]))\n",
    "acc_top_tipfreq = np.zeros((test_data_tensor.shape[0]))\n",
    "\n",
    "for i in range(0, test_data_tensor.shape[0]):    \n",
    "    tip_loc_counts[i,:] = sum(test_data_tensor[i,:,2:2+num_locs])\n",
    "    tip_loc_distro[i,:] = tip_loc_counts[i,:] / sum(tip_loc_counts[i,:])\n",
    "    accuracy_tipfreq[i] = sum(tip_loc_distro[i,:] * test_labels[i,:])\n",
    "    accuracy_pred[i] = sum(preds[i,:] * test_labels[i,:])\n",
    "    acc_top_tipfreq[i] = 1 * (np.argmax(tip_loc_distro[i,:]) == np.argmax(test_labels[i,:]))\n",
    "    acc_top_pred[i] = 1 * (np.argmax(preds[i,:]) == np.argmax(test_labels[i,:]))\n",
    "\n",
    "print(\"tip frequency accuracy: \", np.mean(accuracy_tipfreq))\n",
    "print(\"cnn prediction accuracy: \", np.mean(accuracy_pred))\n",
    "print(\"top tip prediction accuracy: \", np.mean(acc_top_tipfreq))\n",
    "print(\"top cnn prediction accuracy: \", np.mean(acc_top_pred))\n",
    "\n",
    "    # plot\n",
    "random_idx = np.random.randint(0, test_data_tensor.shape[0], 50)\n",
    "count=0\n",
    "for i in random_idx:\n",
    "    print(i)\n",
    "    plt.figure(figsize=(num_locs+2, 1))\n",
    "    plt.bar(cats+barwidth, preds[i,:], barwidth, label = \"prediction\")\n",
    "    plt.bar(cats, test_labels[i,:], barwidth, label = \"truth\")\n",
    "    plt.bar(cats+2*barwidth, tip_loc_distro[i,:], barwidth)\n",
    "    count+=1\n",
    "    #plt.bar(cats+2*barwidth, tip_loc_distro[i,:], barwidth)\n",
    "    plt.show()\n",
    "#plt.savefig('prediction_examples.png')\n",
    "\n",
    "plt.close()"
   ]
  },
  {
   "cell_type": "code",
   "execution_count": 35,
   "id": "3477c911",
   "metadata": {},
   "outputs": [
    {
     "data": {
      "image/png": "[encoded data removed]",
      "text/plain": [
       "<Figure size 432x288 with 1 Axes>"
      ]
     },
     "metadata": {
      "needs_background": "light"
     },
     "output_type": "display_data"
    }
   ],
   "source": [
    "# cnn prediction accuracy\n",
    "plt.figure()\n",
    "plt.hist(accuracy_pred, bins = 100)\n",
    "plt.show()"
   ]
  },
  {
   "cell_type": "code",
   "execution_count": 36,
   "id": "6937eff8",
   "metadata": {},
   "outputs": [
    {
     "data": {
      "image/png": "[encoded data removed]",
      "text/plain": [
       "<Figure size 432x288 with 1 Axes>"
      ]
     },
     "metadata": {
      "needs_background": "light"
     },
     "output_type": "display_data"
    }
   ],
   "source": [
    "# location frequency at to\n",
    "plt.figure()\n",
    "plt.hist(accuracy_tipfreq, bins = 100)\n",
    "plt.show()"
   ]
  },
  {
   "cell_type": "code",
   "execution_count": 37,
   "id": "e7a1d628",
   "metadata": {},
   "outputs": [
    {
     "data": {
      "text/plain": [
       "(0.0, 1.0)"
      ]
     },
     "execution_count": 37,
     "metadata": {},
     "output_type": "execute_result"
    },
    {
     "data": {
      "image/png": "[encoded data removed]",
      "text/plain": [
       "<Figure size 432x288 with 1 Axes>"
      ]
     },
     "metadata": {
      "needs_background": "light"
     },
     "output_type": "display_data"
    }
   ],
   "source": [
    "plt.scatter(accuracy_pred, accuracy_tipfreq, alpha =0.5)\n",
    "plt.ylabel(\"tip_freq_accuracy\")\n",
    "plt.xlabel(\"cnn_accuracy\")\n",
    "plt.axline((0,0), slope = 1, color = 'red')\n",
    "plt.xlim([np.min(preds[:,0:9]), np.max(preds[:,0:9])])\n",
    "plt.ylim([np.min(test_labels[:,0:9]), np.max(test_labels[:,0:9])])"
   ]
  },
  {
   "cell_type": "code",
   "execution_count": 38,
   "id": "769cac2d",
   "metadata": {},
   "outputs": [],
   "source": [
    "accuracy_pred.tofile('test_set_root_pred_acc.txt', sep = \"\\n\")\n"
   ]
  },
  {
   "cell_type": "code",
   "execution_count": null,
   "id": "c487144b",
   "metadata": {},
   "outputs": [],
   "source": []
  }
 ],
 "metadata": {
  "celltoolbar": "Raw Cell Format",
  "kernelspec": {
   "display_name": "Python 3",
   "language": "python",
   "name": "python3"
  },
  "language_info": {
   "codemirror_mode": {
    "name": "ipython",
    "version": 3
   },
   "file_extension": ".py",
   "mimetype": "text/x-python",
   "name": "python",
   "nbconvert_exporter": "python",
   "pygments_lexer": "ipython3",
   "version": "3.6.13"
  }
 },
 "nbformat": 4,
 "nbformat_minor": 5
}
