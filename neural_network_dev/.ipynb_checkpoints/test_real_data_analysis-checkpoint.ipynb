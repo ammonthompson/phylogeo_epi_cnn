{
 "cells": [
  {
   "cell_type": "code",
   "execution_count": 1,
   "id": "db4b6cb2",
   "metadata": {},
   "outputs": [
    {
     "name": "stderr",
     "output_type": "stream",
     "text": [
      "Using TensorFlow backend.\n"
     ]
    }
   ],
   "source": [
    "import os, shutil\n",
    "from keras import models\n",
    "import tensorflow as tf\n",
    "import matplotlib.pyplot as plt\n",
    "import numpy as np\n",
    "import pandas as pd\n",
    "import scipy.stats as sp\n",
    "from scipy.stats import kde\n",
    "import importlib as im\n",
    "import cnn_utilities as cn"
   ]
  },
  {
   "cell_type": "code",
   "execution_count": 30,
   "id": "44a55707",
   "metadata": {},
   "outputs": [
    {
     "name": "stdout",
     "output_type": "stream",
     "text": [
      "ERROR! Session/line number was not unique in database. History logging moved to new session 2933\n"
     ]
    }
   ],
   "source": [
    "###############################\n",
    "## analyze nadaeu 2021 trees ##\n",
    "###############################\n",
    "# read cblv data\n",
    "full_tree_cblv = pd.read_csv(\"data_files/cblv_files/full_tree_0.5dayUnits_nadeau2021.cblv.csv\",\n",
    "                             header = None, error_bad_lines = False).to_numpy()\n",
    "A2_tree_cblv = pd.read_csv(\"data_files/cblv_files/A2_tree_0.5dayUnits_nadeau2021.cblv.csv\",\n",
    "                    header = None, error_bad_lines = False).to_numpy()\n",
    "\n"
   ]
  },
  {
   "cell_type": "code",
   "execution_count": 23,
   "id": "8cc4e3f7",
   "metadata": {},
   "outputs": [],
   "source": [
    "# load trained model and normalization values\n",
    "mymodel = models.load_model(\"saved_models/train_128batch_20epoch_R0_sampleRate_migrationRate.hdf5\")\n",
    "mean_sd = pd.read_csv(\"saved_models/train_128batch_20epoch_normalization_label_mean_sd.csv\", \n",
    "                     index_col = 0).to_numpy()\n",
    "\n",
    "# load root location model\n",
    "my_root_model = models.load_model(\"saved_models/train_128batch_15epoch_root_location.hdf5\", compile = False)\n",
    "\n",
    "my_root_model.compile(loss = 'categorical_crossentropy', optimizer = 'rmsprop', \n",
    "                      metrics = ['acc', tf.keras.metrics.AUC(), tf.keras.metrics.CategoricalCrossentropy()])\n",
    "\n",
    "\n",
    "train_means = mean_sd[0,:]\n",
    "train_sd = mean_sd[1,:]\n",
    "train_aux_priors_means = train_means[3:,]\n",
    "train_aux_priors_sd = train_sd[3:,]\n",
    "\n",
    "num_locs = 5\n",
    "max_tips = 502\n"
   ]
  },
  {
   "cell_type": "code",
   "execution_count": 24,
   "id": "b9b6d767",
   "metadata": {},
   "outputs": [],
   "source": [
    "# revbayes output\n",
    "# compute and gather auxilliary prior data\n",
    "full_tree_subsample_prop = full_tree_cblv[:,(max_tips-1) * 7]\n",
    "full_tree_mu = full_tree_cblv[:,(max_tips - 3) * 7]\n",
    "full_tree_num_tips = cn.get_num_tips(full_tree_cblv)\n",
    "\n",
    "aux_full_tree = np.vstack((full_tree_mu, full_tree_subsample_prop, full_tree_num_tips,\n",
    "                          192.72, 25.36)).transpose()\n",
    "\n",
    "norm_aux_full_tree = cn.normalize(aux_full_tree, (train_aux_priors_means, train_aux_priors_sd))\n",
    "\n",
    "\n",
    "# create input tensors\n",
    "full_treeLocation_tensor, full_prior_tensor = cn.create_data_tensors(data = full_tree_cblv, \n",
    "                                                                        mu = norm_aux_full_tree[:,0],\n",
    "                                                                        subsample_prop = norm_aux_full_tree[:,1],\n",
    "                                                                        num_tips = norm_aux_full_tree[:,2],\n",
    "                                                                        tmrca = norm_aux_full_tree[:,3],\n",
    "                                                                        mean_bl = norm_aux_full_tree[:,4],\n",
    "                                                                        num_locs = num_locs,\n",
    "                                                                        max_tips = max_tips,\n",
    "                                                                        cblv_contains_mu_rho = True)\n",
    "\n",
    "\n",
    "a2_tree_subsample_prop = A2_tree_cblv[:,(max_tips-1) * 7]\n",
    "a2_treep_mu = A2_tree_cblv[:,(max_tips - 3) * 7]\n",
    "a2_tree_num_tips = cn.get_num_tips(A2_tree_cblv)\n",
    "\n",
    "aux_a2_tree = np.vstack((a2_treep_mu, a2_tree_subsample_prop, a2_tree_num_tips,\n",
    "                          109.14, 22.06)).transpose()\n",
    "\n",
    "norm_aux_a2 = cn.normalize(aux_a2_tree, (train_aux_priors_means, train_aux_priors_sd))\n",
    "\n",
    "\n",
    "# create input tensors\n",
    "a2_treeLocation_tensor, a2_prior_tensor = cn.create_data_tensors(data = A2_tree_cblv, \n",
    "                                                                    mu = norm_aux_a2[:,0],\n",
    "                                                                    subsample_prop = norm_aux_a2[:,1],\n",
    "                                                                    num_tips = norm_aux_a2[:,2],\n",
    "                                                                    tmrca = norm_aux_a2[:,3],\n",
    "                                                                    mean_bl = norm_aux_a2[:,4],\n",
    "                                                                    num_locs = num_locs,\n",
    "                                                                    max_tips = max_tips,\n",
    "                                                                    cblv_contains_mu_rho = True)\n",
    "\n"
   ]
  },
  {
   "cell_type": "code",
   "execution_count": 25,
   "id": "d0a07a0b",
   "metadata": {},
   "outputs": [
    {
     "name": "stdout",
     "output_type": "stream",
     "text": [
      "full tree R0, sample rate, migration rate predictions\n",
      "[[0.68507956 0.0188028  0.00148575]]\n",
      "A2 clade R0, sample rate, migration rate predictions\n",
      "[[2.78512258e+00 7.53517796e-04 1.33606218e-03]]\n"
     ]
    }
   ],
   "source": [
    "# make phylodynammic pramater predictions\n",
    "full_tree_normed_preds = mymodel.predict([full_treeLocation_tensor, full_prior_tensor])\n",
    "a2_tree_normed_preds = mymodel.predict([a2_treeLocation_tensor, a2_prior_tensor])\n",
    "\n",
    "full_tree_preds = cn.denormalize(full_tree_normed_preds, train_means[0:3], train_sd[0:3])\n",
    "a2_tree_preds = cn.denormalize(a2_tree_normed_preds, train_means[0:3], train_sd[0:3])\n",
    "\n",
    "full_tree_preds[0][1:3] = np.exp(full_tree_preds[0][1:3])  # what is up with the [0] here????????????????????????\n",
    "a2_tree_preds[0][1:3] = np.exp(a2_tree_preds[0][1:3])\n",
    "\n",
    "\n",
    "print(\"full tree R0, sample rate, migration rate predictions\")\n",
    "print(full_tree_preds)\n",
    "\n",
    "print(\"A2 clade R0, sample rate, migration rate predictions\")\n",
    "print(a2_tree_preds)\n"
   ]
  },
  {
   "cell_type": "code",
   "execution_count": 26,
   "id": "772a0e4f",
   "metadata": {},
   "outputs": [
    {
     "data": {
      "text/plain": [
       "array([[[ 1.64872464,  1.64872464],\n",
       "        [ 0.79624653,  0.79624653],\n",
       "        [-0.9129873 , -0.9129873 ],\n",
       "        [ 5.085312  ,  5.085312  ],\n",
       "        [ 2.34235213,  2.34235213]]])"
      ]
     },
     "execution_count": 26,
     "metadata": {},
     "output_type": "execute_result"
    }
   ],
   "source": [
    "full_prior_tensor"
   ]
  },
  {
   "cell_type": "code",
   "execution_count": 27,
   "id": "dbc38f64",
   "metadata": {},
   "outputs": [
    {
     "name": "stdout",
     "output_type": "stream",
     "text": [
      "full tree root locaiton predictoin\n",
      "[0.97961843 0.00544836 0.00482961 0.00559799 0.00450561]\n",
      "A2 clade root location prediction\n",
      "[0.0582374  0.36448884 0.20497155 0.13530622 0.23699601]\n"
     ]
    },
    {
     "data": {
      "image/png": "[encoded data removed]",
      "text/plain": [
       "<Figure size 432x288 with 1 Axes>"
      ]
     },
     "metadata": {
      "needs_background": "light"
     },
     "output_type": "display_data"
    },
    {
     "data": {
      "image/png": "[encoded data removed]",
      "text/plain": [
       "<Figure size 432x288 with 1 Axes>"
      ]
     },
     "metadata": {
      "needs_background": "light"
     },
     "output_type": "display_data"
    }
   ],
   "source": [
    "# make root location predictions\n",
    "full_tree_root_preds = my_root_model.predict([full_treeLocation_tensor, full_prior_tensor])\n",
    "a2_tree_root_preds = my_root_model.predict([a2_treeLocation_tensor, a2_prior_tensor])\n",
    "\n",
    "print(\"full tree root locaiton predictoin\")\n",
    "print(full_tree_root_preds[0])\n",
    "\n",
    "print(\"A2 clade root location prediction\")\n",
    "print(a2_tree_root_preds[0])\n",
    "\n",
    "location_label = ['Hubai', 'France', 'Germany', 'Italy', 'Other Euro']\n",
    "plt.bar(range(0,5), full_tree_root_preds[0], tick_label = location_label)\n",
    "plt.ylabel = \"Probability\"\n",
    "plt.xlabel = 'Location of MRCA'\n",
    "plt.show()\n",
    "\n",
    "plt.bar(range(0,5), a2_tree_root_preds[0], tick_label = location_label)\n",
    "plt.ylabel = \"Probability\"\n",
    "plt.xlabel = 'Location of MRCA'\n",
    "plt.show()"
   ]
  },
  {
   "cell_type": "code",
   "execution_count": 28,
   "id": "c96ea143",
   "metadata": {},
   "outputs": [],
   "source": [
    "results = pd.DataFrame(np.concatenate((np.concatenate((full_tree_preds, full_tree_root_preds), axis =1),\n",
    "                                     np.concatenate((a2_tree_preds, a2_tree_root_preds), axis = 1)), axis = 0),\n",
    "                       columns = [\"R0\", \"sample_rate\", \"migration_rate\", \n",
    "                                 \"Loc0\",\"Loc1\", \"Loc2\", \"Loc3\", \"Loc4\"], index = [\"full_tree\", \"A2 clade\"])\n",
    "# results.to_csv(\"output/nadeau2021_largerRange_cnn_preds_full_and_a2.tsv\", sep = \"\\t\", index = False)\n",
    "results.to_csv(\"output/nadeau2021_cnn_preds_full_and_a2.tsv\", sep = \"\\t\", index = False)"
   ]
  },
  {
   "cell_type": "code",
   "execution_count": 29,
   "id": "3ec32c14",
   "metadata": {},
   "outputs": [
    {
     "data": {
      "text/html": [
       "<div>\n",
       "<style scoped>\n",
       "    .dataframe tbody tr th:only-of-type {\n",
       "        vertical-align: middle;\n",
       "    }\n",
       "\n",
       "    .dataframe tbody tr th {\n",
       "        vertical-align: top;\n",
       "    }\n",
       "\n",
       "    .dataframe thead th {\n",
       "        text-align: right;\n",
       "    }\n",
       "</style>\n",
       "<table border=\"1\" class=\"dataframe\">\n",
       "  <thead>\n",
       "    <tr style=\"text-align: right;\">\n",
       "      <th></th>\n",
       "      <th>R0</th>\n",
       "      <th>sample_rate</th>\n",
       "      <th>migration_rate</th>\n",
       "      <th>Loc0</th>\n",
       "      <th>Loc1</th>\n",
       "      <th>Loc2</th>\n",
       "      <th>Loc3</th>\n",
       "      <th>Loc4</th>\n",
       "    </tr>\n",
       "  </thead>\n",
       "  <tbody>\n",
       "    <tr>\n",
       "      <th>full_tree</th>\n",
       "      <td>0.685080</td>\n",
       "      <td>0.018803</td>\n",
       "      <td>0.001486</td>\n",
       "      <td>0.979618</td>\n",
       "      <td>0.005448</td>\n",
       "      <td>0.004830</td>\n",
       "      <td>0.005598</td>\n",
       "      <td>0.004506</td>\n",
       "    </tr>\n",
       "    <tr>\n",
       "      <th>A2 clade</th>\n",
       "      <td>2.785123</td>\n",
       "      <td>0.000754</td>\n",
       "      <td>0.001336</td>\n",
       "      <td>0.058237</td>\n",
       "      <td>0.364489</td>\n",
       "      <td>0.204972</td>\n",
       "      <td>0.135306</td>\n",
       "      <td>0.236996</td>\n",
       "    </tr>\n",
       "  </tbody>\n",
       "</table>\n",
       "</div>"
      ],
      "text/plain": [
       "                 R0  sample_rate  migration_rate      Loc0      Loc1  \\\n",
       "full_tree  0.685080     0.018803        0.001486  0.979618  0.005448   \n",
       "A2 clade   2.785123     0.000754        0.001336  0.058237  0.364489   \n",
       "\n",
       "               Loc2      Loc3      Loc4  \n",
       "full_tree  0.004830  0.005598  0.004506  \n",
       "A2 clade   0.204972  0.135306  0.236996  "
      ]
     },
     "execution_count": 29,
     "metadata": {},
     "output_type": "execute_result"
    }
   ],
   "source": [
    "results\n"
   ]
  },
  {
   "cell_type": "code",
   "execution_count": 10,
   "id": "5ed5495b",
   "metadata": {},
   "outputs": [],
   "source": [
    "# predict infection incidences\n",
    "incidence_model = models.load_model(\"saved_models/train_256batch_20epoch_infection_incidence.hdf5\")\n",
    "incidence_mean_sd = pd.read_csv(\"saved_models/train_256batch_20epoch_infection_incidence_normalization_label_mean_sd.csv\", \n",
    "                     index_col = 0).to_numpy()\n",
    "\n",
    "# location pop sizes according to google. Europe + Russia = 746.4.\n",
    "# Assume \"other eruope\" doesn't include russia.\n",
    "S0 = np.array([[58.5 * 10**6, 67.39 * 10**6, 83.24 * 10**6, 59.55 * 10**6, 390.22 * 10**6]])\n",
    "S0.reshape((5,))\n",
    "S0_train_mean = incidence_mean_sd[0,5:10]\n",
    "S0_train_sd = incidence_mean_sd[1,5:10]\n",
    "norm_S0 = cn.normalize(S0, (S0_train_mean, S0_train_sd))\n"
   ]
  },
  {
   "cell_type": "code",
   "execution_count": 11,
   "id": "f1eef1b7",
   "metadata": {},
   "outputs": [],
   "source": [
    "norm_aux_incidence_full_tree = cn.normalize(aux_full_tree, (incidence_mean_sd[0,10:15], incidence_mean_sd[1,10:15]))\n",
    "\n",
    "\n",
    "# create input tensors\n",
    "incidence_full_treeLocation_tensor, incidence_full_prior_tensor = cn.create_data_tensors(data = full_tree_cblv, \n",
    "                                                                        mu = norm_aux_incidence_full_tree[:,0],\n",
    "                                                                        subsample_prop = norm_aux_incidence_full_tree[:,1],\n",
    "                                                                        num_tips = norm_aux_incidence_full_tree[:,2],\n",
    "                                                                        tmrca = norm_aux_incidence_full_tree[:,3],\n",
    "                                                                        mean_bl = norm_aux_incidence_full_tree[:,4],\n",
    "                                                                        num_locs = num_locs,\n",
    "                                                                        max_tips = max_tips,\n",
    "                                                                        cblv_contains_mu_rho = True)\n",
    "\n",
    "\n",
    "\n",
    "norm_aux_incidence_a2 = cn.normalize(aux_a2_tree, (incidence_mean_sd[0,10:15], incidence_mean_sd[1,10:15]))\n",
    "\n",
    "\n",
    "# create input tensors\n",
    "incidence_a2_treeLocation_tensor, incidence_a2_prior_tensor = cn.create_data_tensors(data = A2_tree_cblv, \n",
    "                                                                    mu = norm_aux_incidence_a2[:,0],\n",
    "                                                                    subsample_prop = norm_aux_incidence_a2[:,1],\n",
    "                                                                    num_tips = norm_aux_incidence_a2[:,2],\n",
    "                                                                    tmrca = norm_aux_incidence_a2[:,3],\n",
    "                                                                    mean_bl = norm_aux_incidence_a2[:,4],\n",
    "                                                                    num_locs = num_locs,\n",
    "                                                                    max_tips = max_tips,\n",
    "                                                                    cblv_contains_mu_rho = True)\n",
    "\n"
   ]
  },
  {
   "cell_type": "code",
   "execution_count": 12,
   "id": "7334ecf8",
   "metadata": {},
   "outputs": [],
   "source": [
    "# make phylodynammic pramater predictions\n",
    "incidence_full_tree_normed_preds = incidence_model.predict([incidence_full_treeLocation_tensor, \n",
    "                                                    incidence_full_prior_tensor, norm_S0])\n",
    "incidence_a2_tree_normed_preds = incidence_model.predict([incidence_a2_treeLocation_tensor, \n",
    "                                                  incidence_a2_prior_tensor, norm_S0])\n",
    "log_incidence_full_tree_preds = cn.denormalize(incidence_full_tree_normed_preds[0], \n",
    "                                           incidence_mean_sd[0,0:5], incidence_mean_sd[1,0:5])\n",
    "log_incidence_a2_tree_preds = cn.denormalize(incidence_a2_tree_normed_preds[0], \n",
    "                                         incidence_mean_sd[0,0:5], incidence_mean_sd[1,0:5])\n",
    "\n",
    "incidence_full_tree_preds = np.exp(log_incidence_full_tree_preds)\n",
    "incidence_a2_tree_preds = np.exp(log_incidence_a2_tree_preds)"
   ]
  },
  {
   "cell_type": "code",
   "execution_count": 13,
   "id": "ac280338",
   "metadata": {},
   "outputs": [
    {
     "name": "stdout",
     "output_type": "stream",
     "text": [
      "[1.92714931e-064 2.12393837e-059 2.24633711e-082 3.32888959e-057\n",
      " 1.60249639e-141]\n",
      "[8.23705175e-065 1.18613779e-058 2.53763452e-082 8.99009905e-057\n",
      " 9.56255761e-142]\n"
     ]
    }
   ],
   "source": [
    "print(incidence_full_tree_preds)\n",
    "print(incidence_a2_tree_preds)"
   ]
  }
 ],
 "metadata": {
  "kernelspec": {
   "display_name": "Python 3",
   "language": "python",
   "name": "python3"
  },
  "language_info": {
   "codemirror_mode": {
    "name": "ipython",
    "version": 3
   },
   "file_extension": ".py",
   "mimetype": "text/x-python",
   "name": "python",
   "nbconvert_exporter": "python",
   "pygments_lexer": "ipython3",
   "version": "3.6.13"
  }
 },
 "nbformat": 4,
 "nbformat_minor": 5
}
