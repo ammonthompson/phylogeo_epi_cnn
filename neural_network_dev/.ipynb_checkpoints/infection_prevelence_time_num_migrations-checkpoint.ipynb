{
 "cells": [
  {
   "cell_type": "code",
   "execution_count": null,
   "id": "409ce5b6",
   "metadata": {},
   "outputs": [],
   "source": [
    "import os, shutil\n",
    "from keras import models\n",
    "from keras import layers\n",
    "from keras import losses\n",
    "from keras import Input\n",
    "from keras import Model\n",
    "import tensorflow as tf\n",
    "\n",
    "import matplotlib.pyplot as plt\n",
    "import numpy as np\n",
    "import pandas as pd\n",
    "import scipy.stats as sp\n",
    "from scipy.stats import kde\n",
    "import importlib as im\n",
    "import cnn_utilities as cn"
   ]
  },
  {
   "cell_type": "code",
   "execution_count": null,
   "id": "4d552ea9",
   "metadata": {},
   "outputs": [],
   "source": [
    "full_data = pd.read_csv(\"data_files/cblv_files/larger_R0_range_set_0to14.cblv.csv\", \n",
    "                   header =None, error_bad_lines = False).to_numpy()\n",
    "\n",
    "full_labels = pd.read_csv(\"data_files/label_files/larger_R0_range_param_values_set_0to14.csv\",\n",
    "                    header = None, error_bad_lines = False).to_numpy()"
   ]
  },
  {
   "cell_type": "code",
   "execution_count": null,
   "id": "0ea3be1d",
   "metadata": {},
   "outputs": [],
   "source": [
    "# randomize data order\n",
    "randomized_idx = np.random.permutation(full_data.shape[0])\n",
    "full_data = full_data[randomized_idx,:]\n",
    "full_labels = full_labels[randomized_idx,:]\n",
    "full_data.shape\n",
    "\n"
   ]
  },
  {
   "cell_type": "code",
   "execution_count": null,
   "id": "daee6914",
   "metadata": {},
   "outputs": [],
   "source": [
    "# setting up the data\n",
    "num_locs = 5\n",
    "max_tips = 502\n",
    "num_sample = full_data.shape[0]\n",
    "num_test = 1000\n",
    "num_validation = 10000\n",
    "\n",
    "data = full_data[0:num_sample,:]"
   ]
  },
  {
   "cell_type": "code",
   "execution_count": null,
   "id": "c393d107",
   "metadata": {},
   "outputs": [],
   "source": [
    "# normalize labels\n",
    "label_means = full_labels.mean(axis=0)\n",
    "label_sd = full_labels.std(axis=0)\n",
    "norm_full_labels = (full_labels - label_means) / label_sd\n",
    "\n",
    "labels = norm_full_labels[0:num_sample,5:8]\n",
    "train_labels = labels[num_test+num_validation:,]\n",
    "test_labels = labels[:num_test,]\n",
    "validation_labels = labels[num_test:num_test+num_validation,]\n",
    "\n",
    "print(test_labels.shape)\n",
    "print(train_labels.shape)\n",
    "print(validation_labels.shape)"
   ]
  },
  {
   "cell_type": "code",
   "execution_count": null,
   "id": "21f3911b",
   "metadata": {},
   "outputs": [],
   "source": [
    "# get num_tips and normalize\n",
    "full_data_num_tips = cn.get_num_tips(full_data[0:num_sample,:])\n",
    "mean_num_tips = np.mean(full_data_num_tips)\n",
    "sd_num_tips = np.std(full_data_num_tips)\n",
    "norm_full_data_num_tips = (full_data_num_tips - mean_num_tips) / sd_num_tips\n"
   ]
  },
  {
   "cell_type": "code",
   "execution_count": null,
   "id": "1018a0d0",
   "metadata": {},
   "outputs": [],
   "source": [
    "full_treeLocation_tensor, full_prior_tensor = cn.create_data_tensors(data, full_labels[0:num_sample,8], \n",
    "                                                                     full_labels[0:num_sample,9],\n",
    "                                                                    norm_full_data_num_tips,\n",
    "                                                                    normalize_tree_stats = True) \n",
    "train_treeLocation_tensor, validation_treeLocation_tensor,  test_treeLocation_tensor = cn.create_train_val_test_tensors(full_treeLocation_tensor, num_validation, num_test)\n",
    "train_prior_tensor, validation_prior_tensor,  test_prior_tensor = cn.create_train_val_test_tensors(full_prior_tensor, num_validation, num_test)\n",
    "\n",
    "print(train_treeLocation_tensor.shape, train_prior_tensor.shape)\n",
    "print(test_treeLocation_tensor.shape, test_prior_tensor.shape)\n",
    "print(validation_treeLocation_tensor.shape, validation_prior_tensor.shape)"
   ]
  },
  {
   "cell_type": "code",
   "execution_count": null,
   "id": "926caaa9",
   "metadata": {},
   "outputs": [],
   "source": []
  },
  {
   "cell_type": "code",
   "execution_count": null,
   "id": "ebcc36a8",
   "metadata": {},
   "outputs": [],
   "source": []
  }
 ],
 "metadata": {
  "kernelspec": {
   "display_name": "Python 3",
   "language": "python",
   "name": "python3"
  },
  "language_info": {
   "codemirror_mode": {
    "name": "ipython",
    "version": 3
   },
   "file_extension": ".py",
   "mimetype": "text/x-python",
   "name": "python",
   "nbconvert_exporter": "python",
   "pygments_lexer": "ipython3",
   "version": "3.6.13"
  }
 },
 "nbformat": 4,
 "nbformat_minor": 5
}
