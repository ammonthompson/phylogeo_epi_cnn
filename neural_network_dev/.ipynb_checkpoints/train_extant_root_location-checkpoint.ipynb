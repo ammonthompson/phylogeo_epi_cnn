{
 "cells": [
  {
   "cell_type": "code",
   "execution_count": 1,
   "id": "ae088086",
   "metadata": {},
   "outputs": [
    {
     "name": "stderr",
     "output_type": "stream",
     "text": [
      "Using TensorFlow backend.\n"
     ]
    }
   ],
   "source": [
    "import os, shutil\n",
    "from keras import Input\n",
    "from keras import Model\n",
    "from keras import models\n",
    "from keras import layers\n",
    "from keras import losses\n",
    "import matplotlib.pyplot as plt\n",
    "import numpy as np\n",
    "import pandas as pd\n",
    "import scipy.stats as sp\n",
    "import importlib as im\n",
    "import cnn_utilities as cn\n",
    "import tensorflow as tf\n",
    "from sklearn import metrics\n"
   ]
  },
  {
   "cell_type": "code",
   "execution_count": 117,
   "id": "7fbeb5de",
   "metadata": {},
   "outputs": [],
   "source": [
    "full_data = pd.read_csv(\"data_files/extant_training_set_0to34.cblv.csv\", \n",
    "                   header =None, error_bad_lines = False, index_col = 0).to_numpy()\n",
    "\n",
    "full_labels = pd.read_csv(\"data_files/extant_training_set_0to34_labels.csv\",\n",
    "                    header = None, error_bad_lines = False).to_numpy()\n",
    "\n"
   ]
  },
  {
   "cell_type": "code",
   "execution_count": 118,
   "id": "96898047",
   "metadata": {},
   "outputs": [
    {
     "data": {
      "text/plain": [
       "(97265, 3514)"
      ]
     },
     "execution_count": 118,
     "metadata": {},
     "output_type": "execute_result"
    }
   ],
   "source": [
    "# randomize data order\n",
    "randomized_idx = np.random.permutation(full_data.shape[0])\n",
    "full_data = full_data[randomized_idx,:]\n",
    "full_labels = full_labels[randomized_idx,:]\n",
    "full_data.shape\n",
    "\n"
   ]
  },
  {
   "cell_type": "code",
   "execution_count": 119,
   "id": "bcc37810",
   "metadata": {},
   "outputs": [],
   "source": [
    "# setting up the data shape params and aux params\n",
    "num_locs = 5\n",
    "max_tips = 502\n",
    "num_test = 1000 \n",
    "num_validation = 2000  # found early stoping epoch number using 10000 validation\n",
    "num_sample = full_data.shape[0]\n",
    "\n",
    "num_tips = cn.get_num_tips(full_data)\n",
    "subsample_prop = full_data[:,(max_tips-1) * 7]\n",
    "mu = full_data[:,(max_tips - 3) * 7]\n"
   ]
  },
  {
   "cell_type": "code",
   "execution_count": 120,
   "id": "2c22e68b",
   "metadata": {},
   "outputs": [],
   "source": [
    "# make labels\n",
    "labels = full_labels[0:num_sample, 0:5]\n",
    "train_labels = labels[(num_test + num_validation):,:]\n",
    "validation_labels = labels[num_test:num_test + num_validation,]\n",
    "test_labels = labels[:num_test,]"
   ]
  },
  {
   "cell_type": "code",
   "execution_count": 121,
   "id": "90ab596f",
   "metadata": {},
   "outputs": [],
   "source": [
    "# set up auxilliary priors and normalize; tree statistics and prior known parameter values (or ranges) \n",
    "# get num_tips and normalize\n",
    "aux_priors_treestats = np.vstack((mu, subsample_prop, num_tips, \n",
    "                                  full_labels[0:num_sample,8], \n",
    "                                  full_labels[0:num_sample,9])).transpose()\n",
    "norm_train_aux_priors_treestats, train_aux_priors_means, train_aux_priors_sd = cn.normalize(aux_priors_treestats[num_test + num_validation:,:])\n",
    "\n",
    "norm_val_aux_priors_treestats = cn.normalize(aux_priors_treestats[num_test:num_test + num_validation,], \n",
    "                                            (train_aux_priors_means, train_aux_priors_sd))\n",
    "norm_test_aux_priors_treestats = cn.normalize(aux_priors_treestats[:num_test,], \n",
    "                                            (train_aux_priors_means, train_aux_priors_sd))\n",
    "\n",
    "norm_aux_priors_treestats = np.concatenate((norm_test_aux_priors_treestats, \n",
    "                                            norm_val_aux_priors_treestats, \n",
    "                                            norm_train_aux_priors_treestats))\n"
   ]
  },
  {
   "cell_type": "code",
   "execution_count": 122,
   "id": "3ebb48e4",
   "metadata": {},
   "outputs": [
    {
     "name": "stdout",
     "output_type": "stream",
     "text": [
      "(94265, 499, 7) (94265, 5, 2)\n",
      "(1000, 499, 7) (1000, 5, 2)\n",
      "(2000, 499, 7) (2000, 5, 2)\n"
     ]
    }
   ],
   "source": [
    "# dev create data tensors\n",
    "        \n",
    "full_treeLocation_tensor, full_prior_tensor = cn.create_data_tensors(data = full_data[0:num_sample,:], \n",
    "                                                                        mu = norm_aux_priors_treestats[:,0],\n",
    "                                                                        subsample_prop = norm_aux_priors_treestats[:,1],\n",
    "                                                                        num_tips = norm_aux_priors_treestats[:,2],\n",
    "                                                                        tmrca = norm_aux_priors_treestats[:,3],\n",
    "                                                                        mean_bl = norm_aux_priors_treestats[:,4],\n",
    "                                                                        num_locs = num_locs,\n",
    "                                                                        max_tips = max_tips,\n",
    "                                                                        cblv_contains_mu_rho = True)\n",
    "\n",
    "train_treeLocation_tensor, validation_treeLocation_tensor,  test_treeLocation_tensor = cn.create_train_val_test_tensors(full_treeLocation_tensor, \n",
    "                                                                                                                        num_validation, num_test)\n",
    "train_prior_tensor, validation_prior_tensor,  test_prior_tensor = cn.create_train_val_test_tensors(full_prior_tensor, \n",
    "                                                                                                   num_validation, num_test)\n",
    "\n",
    "print(train_treeLocation_tensor.shape, train_prior_tensor.shape)\n",
    "print(test_treeLocation_tensor.shape, test_prior_tensor.shape)\n",
    "print(validation_treeLocation_tensor.shape, validation_prior_tensor.shape)"
   ]
  },
  {
   "cell_type": "code",
   "execution_count": 123,
   "id": "186991d4",
   "metadata": {},
   "outputs": [
    {
     "data": {
      "text/plain": [
       "<module 'cnn_utilities' from 'C:\\\\Users\\\\ammon_work\\\\Desktop\\\\git_repos\\\\epi_geo_simulation\\\\neural_network_dev\\\\cnn_utilities.py'>"
      ]
     },
     "execution_count": 123,
     "metadata": {},
     "output_type": "execute_result"
    }
   ],
   "source": [
    "im.reload(cn)"
   ]
  },
  {
   "cell_type": "code",
   "execution_count": 124,
   "id": "61e10e74",
   "metadata": {},
   "outputs": [],
   "source": [
    "# multi input cnn\n",
    "input_treeLocation_tensor = Input(shape = train_treeLocation_tensor.shape[1:3])\n",
    "w1 = layers.Conv1D(64, 3, strides = 1, activation = 'relu', padding = 'same')(input_treeLocation_tensor)\n",
    "w = layers.Conv1D(64, 5, activation = 'relu', padding = 'same')(w1)\n",
    "#w = layers.MaxPooling1D(pool_size = 3, stride = 1)(w)\n",
    "w = layers.Conv1D(96, 5, activation = 'relu', padding = 'same')(w)\n",
    "w = layers.Conv1D(96, 5, activation = 'relu', padding = 'same')(w)\n",
    "w = layers.Conv1D(256, 7, activation = 'relu', padding = 'same')(w)\n",
    "w_global_avg = layers.GlobalAveragePooling1D(name = 'w')(w)\n",
    "\n",
    "# tree + geolocation dilated\n",
    "w_dilated = layers.Conv1D(32, 3, dilation_rate = 2, activation = 'relu', padding = \"same\")(w1)\n",
    "w_dilated = layers.Conv1D(64, 5, dilation_rate = 4, activation = 'relu', padding = \"same\")(w_dilated)\n",
    "w_dilated = layers.Conv1D(128, 7, dilation_rate = 8, activation = 'relu', padding = \"same\")(w_dilated)\n",
    "w_dilated_global_avg = layers.GlobalAveragePooling1D(name = 'w_dilated_global_avg')(w_dilated)\n",
    "\n",
    "# prior known parameters and data statistics\n",
    "input_priors_tensor = Input(shape = train_prior_tensor.shape[1:3])\n",
    "priors = layers.Flatten()(input_priors_tensor)\n",
    "priors = layers.Dense(32, activation = 'relu', kernel_initializer = 'VarianceScaling', name = 'prior1')(priors)\n",
    "\n",
    "# concatenate all above -> deep fully connected network\n",
    "concatenated_wxyz = layers.Concatenate(axis = 1, name = 'all_concatenated')([w_dilated_global_avg, \n",
    "                                                                             w_global_avg,\n",
    "                                                                             priors])\n",
    "\n",
    "wxyz = layers.Dense(256, activation = 'relu', kernel_initializer = 'VarianceScaling')(concatenated_wxyz)\n",
    "wxyz = layers.Dense(64, activation = 'relu', kernel_initializer = 'VarianceScaling')(wxyz)\n",
    "wxyz = layers.Dense(32, activation = 'relu', kernel_initializer = 'VarianceScaling')(wxyz)\n",
    "wxyz = layers.Dense(16, activation = 'relu', kernel_initializer = 'VarianceScaling')(wxyz)\n",
    "\n",
    "\n",
    "output_root_loc_layers = layers.Dense(5, activation = 'softmax', name = 'root_loc_output')(wxyz)\n",
    "\n"
   ]
  },
  {
   "cell_type": "code",
   "execution_count": 125,
   "id": "f485ef10",
   "metadata": {
    "scrolled": false
   },
   "outputs": [
    {
     "name": "stdout",
     "output_type": "stream",
     "text": [
      "Train on 94265 samples, validate on 2000 samples\n",
      "Epoch 1/5\n",
      "94265/94265 [==============================] - 177s 2ms/step - loss: 0.8573 - acc: 0.7091 - auc_14: 0.8253 - categorical_crossentropy: 1.0932 - val_loss: 0.7051 - val_acc: 0.7895 - val_auc_14: 0.9060 - val_categorical_crossentropy: 0.8557\n",
      "Epoch 2/5\n",
      "94265/94265 [==============================] - 174s 2ms/step - loss: 0.6883 - acc: 0.7889 - auc_14: 0.9149 - categorical_crossentropy: 0.8058 - val_loss: 0.6677 - val_acc: 0.8010 - val_auc_14: 0.9208 - val_categorical_crossentropy: 0.7716\n",
      "Epoch 3/5\n",
      "94265/94265 [==============================] - 174s 2ms/step - loss: 0.6641 - acc: 0.7978 - auc_14: 0.9242 - categorical_crossentropy: 0.7515 - val_loss: 0.6457 - val_acc: 0.8010 - val_auc_14: 0.9268 - val_categorical_crossentropy: 0.7356\n",
      "Epoch 4/5\n",
      "94265/94265 [==============================] - 174s 2ms/step - loss: 0.6515 - acc: 0.8016 - auc_14: 0.9286 - categorical_crossentropy: 0.7244 - val_loss: 0.6474 - val_acc: 0.8055 - val_auc_14: 0.9303 - val_categorical_crossentropy: 0.7145\n",
      "Epoch 5/5\n",
      "94265/94265 [==============================] - 174s 2ms/step - loss: 0.6456 - acc: 0.8037 - auc_14: 0.9316 - categorical_crossentropy: 0.7068 - val_loss: 0.6428 - val_acc: 0.8090 - val_auc_14: 0.9325 - val_categorical_crossentropy: 0.7007\n",
      "Train on 94265 samples, validate on 2000 samples\n",
      "Epoch 1/5\n",
      "94265/94265 [==============================] - 252s 3ms/step - loss: 0.6964 - acc: 0.7902 - auc_14: 0.9323 - categorical_crossentropy: 0.7016 - val_loss: 0.6445 - val_acc: 0.8080 - val_auc_14: 0.9325 - val_categorical_crossentropy: 0.6998\n",
      "Epoch 2/5\n",
      "94265/94265 [==============================] - 251s 3ms/step - loss: 0.6610 - acc: 0.7990 - auc_14: 0.9329 - categorical_crossentropy: 0.6969 - val_loss: 0.6385 - val_acc: 0.8105 - val_auc_14: 0.9333 - val_categorical_crossentropy: 0.6942\n",
      "Epoch 3/5\n",
      "94265/94265 [==============================] - 250s 3ms/step - loss: 0.6480 - acc: 0.8047 - auc_14: 0.9338 - categorical_crossentropy: 0.6914 - val_loss: 0.6463 - val_acc: 0.8065 - val_auc_14: 0.9342 - val_categorical_crossentropy: 0.6884\n",
      "Epoch 4/5\n",
      "94265/94265 [==============================] - 250s 3ms/step - loss: 0.6376 - acc: 0.8081 - auc_14: 0.9347 - categorical_crossentropy: 0.6853 - val_loss: 0.6388 - val_acc: 0.8040 - val_auc_14: 0.9351 - val_categorical_crossentropy: 0.6828\n",
      "Epoch 5/5\n",
      "94265/94265 [==============================] - 250s 3ms/step - loss: 0.6307 - acc: 0.8100 - auc_14: 0.9356 - categorical_crossentropy: 0.6799 - val_loss: 0.6373 - val_acc: 0.8065 - val_auc_14: 0.9360 - val_categorical_crossentropy: 0.6776\n",
      "Train on 94265 samples, validate on 2000 samples\n",
      "Epoch 1/5\n",
      "94265/94265 [==============================] - 174s 2ms/step - loss: 0.5945 - acc: 0.8227 - auc_14: 0.9367 - categorical_crossentropy: 0.6738 - val_loss: 0.6169 - val_acc: 0.8150 - val_auc_14: 0.9373 - val_categorical_crossentropy: 0.6701\n",
      "Epoch 2/5\n",
      "94265/94265 [==============================] - 174s 2ms/step - loss: 0.5867 - acc: 0.8249 - auc_14: 0.9379 - categorical_crossentropy: 0.6666 - val_loss: 0.6179 - val_acc: 0.8170 - val_auc_14: 0.9385 - val_categorical_crossentropy: 0.6632\n",
      "Epoch 3/5\n",
      "94265/94265 [==============================] - 174s 2ms/step - loss: 0.5825 - acc: 0.8260 - auc_14: 0.9390 - categorical_crossentropy: 0.6600 - val_loss: 0.6124 - val_acc: 0.8180 - val_auc_14: 0.9396 - val_categorical_crossentropy: 0.6570\n",
      "Epoch 4/5\n",
      "94265/94265 [==============================] - 174s 2ms/step - loss: 0.5788 - acc: 0.8268 - auc_14: 0.9401 - categorical_crossentropy: 0.6541 - val_loss: 0.6192 - val_acc: 0.8140 - val_auc_14: 0.9405 - val_categorical_crossentropy: 0.6515\n",
      "Epoch 5/5\n",
      "94265/94265 [==============================] - 174s 2ms/step - loss: 0.5744 - acc: 0.8289 - auc_14: 0.9409 - categorical_crossentropy: 0.6489 - val_loss: 0.6145 - val_acc: 0.8130 - val_auc_14: 0.9414 - val_categorical_crossentropy: 0.6464\n"
     ]
    },
    {
     "data": {
      "image/png": "[encoded data removed]",
      "text/plain": [
       "<Figure size 432x288 with 1 Axes>"
      ]
     },
     "metadata": {
      "needs_background": "light"
     },
     "output_type": "display_data"
    },
    {
     "data": {
      "image/png": "[encoded data removed]",
      "text/plain": [
       "<Figure size 432x288 with 1 Axes>"
      ]
     },
     "metadata": {
      "needs_background": "light"
     },
     "output_type": "display_data"
    },
    {
     "data": {
      "image/png": "[encoded data removed]",
      "text/plain": [
       "<Figure size 432x288 with 1 Axes>"
      ]
     },
     "metadata": {
      "needs_background": "light"
     },
     "output_type": "display_data"
    },
    {
     "data": {
      "image/png": "[encoded data removed]",
      "text/plain": [
       "<Figure size 432x288 with 1 Axes>"
      ]
     },
     "metadata": {
      "needs_background": "light"
     },
     "output_type": "display_data"
    },
    {
     "name": "stdout",
     "output_type": "stream",
     "text": [
      "1000/1000 [==============================] - 1s 1ms/step\n"
     ]
    },
    {
     "data": {
      "text/plain": [
       "[0.613889211654663, 0.824999988079071, 0.9413588643074036, 0.6463332176208496]"
      ]
     },
     "execution_count": 125,
     "metadata": {},
     "output_type": "execute_result"
    }
   ],
   "source": [
    "# POWER MSE\n",
    "# def myLoss(y_true, y_pred):\n",
    "#     power = 2\n",
    "#     power_loss = tf.math.abs(y_true - y_pred)**power\n",
    "#     return tf.reduce_mean(power_loss, axis=-1)\n",
    "\n",
    "myLoss = \"categorical_crossentropy\"\n",
    "\n",
    "# NOTE: 'sparse_categorical_crossentropy' doesn't require one-hot encoding.  Consider for future...\n",
    "\n",
    "# instantiate MODEL\n",
    "mymodel = Model(inputs = [input_treeLocation_tensor, input_priors_tensor], \n",
    "                outputs = output_root_loc_layers)\n",
    "mymodel.compile(optimizer = 'adam', \n",
    "                loss = myLoss, \n",
    "                metrics = ['acc', tf.keras.metrics.AUC(), tf.keras.metrics.CategoricalCrossentropy()])\n",
    "\n",
    "mymodel.fit([train_treeLocation_tensor, train_prior_tensor], \n",
    "                      train_labels,\n",
    "                    epochs = 5, batch_size = 256, \n",
    "                    validation_data = ([validation_treeLocation_tensor, validation_prior_tensor], \n",
    "                                       validation_labels))\n",
    "\n",
    "mymodel.fit([train_treeLocation_tensor, train_prior_tensor], \n",
    "                      train_labels,\n",
    "                    epochs = 5, batch_size = 16, \n",
    "                    validation_data = ([validation_treeLocation_tensor, validation_prior_tensor], \n",
    "                                       validation_labels))\n",
    "\n",
    "history = mymodel.fit([train_treeLocation_tensor, train_prior_tensor], \n",
    "                      train_labels,\n",
    "                    epochs = 5, batch_size = 256, \n",
    "                    validation_data = ([validation_treeLocation_tensor, validation_prior_tensor], \n",
    "                                       validation_labels))\n",
    "\n",
    "\n",
    "# make history plots\n",
    "cn.make_history_plot(history)\n",
    "\n",
    "mymodel.evaluate([test_treeLocation_tensor, test_prior_tensor], test_labels)"
   ]
  },
  {
   "cell_type": "code",
   "execution_count": 126,
   "id": "a52d4741",
   "metadata": {},
   "outputs": [],
   "source": [
    "##################33\n",
    "## TEST loc pred ###\n",
    "###################\n",
    "test_preds = mymodel.predict([test_treeLocation_tensor, test_prior_tensor])\n",
    "nt_nv = num_test + num_validation\n",
    "test_pred_labels = test_labels[:, 0:5]\n"
   ]
  },
  {
   "cell_type": "code",
   "execution_count": 127,
   "id": "b4f592b1",
   "metadata": {},
   "outputs": [
    {
     "name": "stdout",
     "output_type": "stream",
     "text": [
      "tip frequency accuracy:  0.5124071530251334\n",
      "cnn prediction accuracy:  0.7280612535476685\n",
      "top tip prediction accuracy:  0.783\n",
      "top cnn prediction accuracy:  0.825\n"
     ]
    }
   ],
   "source": [
    "# how predictive are just counts without any phylo info?\n",
    "tip_loc_counts = np.zeros((test_treeLocation_tensor.shape[0],num_locs))\n",
    "tip_loc_distro = np.zeros((test_treeLocation_tensor.shape[0],num_locs))\n",
    "accuracy_tipfreq = np.zeros((test_treeLocation_tensor.shape[0]))\n",
    "accuracy_pred = np.zeros((test_treeLocation_tensor.shape[0]))\n",
    "acc_top_pred = np.zeros((test_treeLocation_tensor.shape[0]))\n",
    "acc_top_tipfreq = np.zeros((test_treeLocation_tensor.shape[0]))\n",
    "\n",
    "for i in range(0, test_treeLocation_tensor.shape[0]):    \n",
    "    tip_loc_counts[i,:] = sum(test_treeLocation_tensor[i,:,2:2+num_locs])\n",
    "    tip_loc_distro[i,:] = tip_loc_counts[i,:] / sum(tip_loc_counts[i,:])\n",
    "    accuracy_tipfreq[i] = sum(tip_loc_distro[i,:] * test_labels[i,:])\n",
    "    accuracy_pred[i] = sum(test_preds[i,:] * test_labels[i,:])\n",
    "    acc_top_tipfreq[i] = 1 * (np.argmax(tip_loc_distro[i,:]) == np.argmax(test_labels[i,:]))\n",
    "    acc_top_pred[i] = 1 * (np.argmax(test_preds[i,:]) == np.argmax(test_labels[i,:]))\n",
    "\n",
    "print(\"tip frequency accuracy: \", np.mean(accuracy_tipfreq))\n",
    "print(\"cnn prediction accuracy: \", np.mean(accuracy_pred))\n",
    "print(\"top tip prediction accuracy: \", np.mean(acc_top_tipfreq))\n",
    "print(\"top cnn prediction accuracy: \", np.mean(acc_top_pred))\n",
    "\n",
    " "
   ]
  },
  {
   "cell_type": "code",
   "execution_count": 128,
   "id": "3a0b3672",
   "metadata": {},
   "outputs": [
    {
     "data": {
      "image/png": "[encoded data removed]",
      "text/plain": [
       "<Figure size 432x288 with 1 Axes>"
      ]
     },
     "metadata": {
      "needs_background": "light"
     },
     "output_type": "display_data"
    },
    {
     "data": {
      "image/png": "[encoded data removed]",
      "text/plain": [
       "<Figure size 432x288 with 1 Axes>"
      ]
     },
     "metadata": {
      "needs_background": "light"
     },
     "output_type": "display_data"
    }
   ],
   "source": [
    "test_accuracy = np.max(test_preds * test_labels, axis = 1)\n",
    "plt.hist(test_accuracy, bins = 20, range = [0,1])\n",
    "plt.show()\n",
    "plt.hist(accuracy_tipfreq, bins = 20, range = [0,1])\n",
    "plt.show()"
   ]
  },
  {
   "cell_type": "code",
   "execution_count": 129,
   "id": "bbfd58de",
   "metadata": {},
   "outputs": [],
   "source": [
    "import csv\n",
    "mymodel.save(\"saved_models/train_extant_root_location.hdf5\")\n",
    "# mymodel.save(\"saved_models/train_largerRange_128batch_10epoch_root_location.hdf5\")\n"
   ]
  },
  {
   "cell_type": "code",
   "execution_count": null,
   "id": "f876dd48",
   "metadata": {},
   "outputs": [],
   "source": [
    "\n",
    "\n",
    "\n",
    "\n",
    "\n"
   ]
  }
 ],
 "metadata": {
  "kernelspec": {
   "display_name": "Python 3",
   "language": "python",
   "name": "python3"
  },
  "language_info": {
   "codemirror_mode": {
    "name": "ipython",
    "version": 3
   },
   "file_extension": ".py",
   "mimetype": "text/x-python",
   "name": "python",
   "nbconvert_exporter": "python",
   "pygments_lexer": "ipython3",
   "version": "3.6.13"
  }
 },
 "nbformat": 4,
 "nbformat_minor": 5
}
