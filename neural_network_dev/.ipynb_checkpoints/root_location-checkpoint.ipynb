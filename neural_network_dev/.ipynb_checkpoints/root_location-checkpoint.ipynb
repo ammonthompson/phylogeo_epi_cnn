{
 "cells": [
  {
   "cell_type": "code",
   "execution_count": 1,
   "id": "ae088086",
   "metadata": {},
   "outputs": [
    {
     "name": "stderr",
     "output_type": "stream",
     "text": [
      "Using TensorFlow backend.\n"
     ]
    }
   ],
   "source": [
    "import os, shutil\n",
    "from keras import models\n",
    "from keras import layers\n",
    "from keras import losses\n",
    "import matplotlib.pyplot as plt\n",
    "import numpy as np\n",
    "import pandas as pd\n",
    "import scipy.stats as sp\n",
    "import importlib as im\n",
    "import cnn_utilities as cn\n",
    "import tensorflow as tf\n"
   ]
  },
  {
   "cell_type": "code",
   "execution_count": 2,
   "id": "7fbeb5de",
   "metadata": {},
   "outputs": [],
   "source": [
    "full_data = pd.read_csv(\"data_files/cblv_files/set_0to25.cblv.csv\", \n",
    "                   header =None, error_bad_lines = False).to_numpy()\n",
    "\n",
    "full_labels = pd.read_csv(\"data_files/label_files/alt_loc_R0_delta_migration_treelength_meanbl_set_0to25.csv\",\n",
    "                    header = None, error_bad_lines = False).to_numpy()"
   ]
  },
  {
   "cell_type": "code",
   "execution_count": 3,
   "id": "62075f2f",
   "metadata": {},
   "outputs": [],
   "source": [
    "# set aside for testing the first 100 trees which were analyzed using phylo method\n",
    "phylo_comparison_data = full_data[0:100,:]\n",
    "phylo_comparison_labels = full_labels[0:100,:]\n",
    "\n",
    "full_data = full_data[100:,:]\n",
    "full_labels = full_labels[100:,:]"
   ]
  },
  {
   "cell_type": "code",
   "execution_count": 4,
   "id": "96898047",
   "metadata": {},
   "outputs": [
    {
     "data": {
      "text/plain": [
       "(167783, 3514)"
      ]
     },
     "execution_count": 4,
     "metadata": {},
     "output_type": "execute_result"
    }
   ],
   "source": [
    "# randomize data order\n",
    "randomized_idx = np.random.permutation(full_data.shape[0])\n",
    "full_data = full_data[randomized_idx,:]\n",
    "full_labels = full_labels[randomized_idx,:]\n",
    "full_data.shape\n",
    "\n"
   ]
  },
  {
   "cell_type": "code",
   "execution_count": 5,
   "id": "2e379bf7",
   "metadata": {},
   "outputs": [],
   "source": [
    "# setting up the data\n",
    "num_locs = 5\n",
    "max_tips = 502\n",
    "num_sample = full_data.shape[0]\n",
    "num_test = 2000\n",
    "num_validation = 2000\n",
    "\n",
    "data = full_data[0:num_sample,:]"
   ]
  },
  {
   "cell_type": "code",
   "execution_count": 6,
   "id": "09e4b07f",
   "metadata": {},
   "outputs": [
    {
     "data": {
      "text/plain": [
       "<module 'cnn_utilities' from 'C:\\\\Users\\\\ammon_work\\\\Desktop\\\\git_repos\\\\epi_geo_simulation\\\\neural_network_dev\\\\cnn_utilities.py'>"
      ]
     },
     "execution_count": 6,
     "metadata": {},
     "output_type": "execute_result"
    }
   ],
   "source": [
    "im.reload(cn)"
   ]
  },
  {
   "cell_type": "code",
   "execution_count": 7,
   "id": "bc387892",
   "metadata": {},
   "outputs": [
    {
     "name": "stdout",
     "output_type": "stream",
     "text": [
      "(2000, 5)\n",
      "(163783, 5)\n",
      "(2000, 5)\n"
     ]
    }
   ],
   "source": [
    "# normalize labels\n",
    "label_means = full_labels.mean(axis=0)\n",
    "label_sd = full_labels.std(axis=0)\n",
    "norm_full_labels = (full_labels - label_means) / label_sd\n",
    "\n",
    "labels = full_labels[0:num_sample,:5]\n",
    "train_labels = labels[num_test+num_validation:,]\n",
    "test_labels = labels[:num_test,]\n",
    "validation_labels = labels[num_test:num_test+num_validation,]\n",
    "\n",
    "print(test_labels.shape)\n",
    "print(train_labels.shape)\n",
    "print(validation_labels.shape)"
   ]
  },
  {
   "cell_type": "code",
   "execution_count": 8,
   "id": "cfe5841c",
   "metadata": {},
   "outputs": [],
   "source": [
    "# get num_tips and normalize\n",
    "full_data_num_tips = cn.get_num_tips(full_data[0:num_sample,:])\n",
    "mean_num_tips = np.mean(full_data_num_tips)\n",
    "sd_num_tips = np.std(full_data_num_tips)\n",
    "norm_full_data_num_tips = (full_data_num_tips - mean_num_tips) / sd_num_tips\n"
   ]
  },
  {
   "cell_type": "code",
   "execution_count": 9,
   "id": "4cf795ba",
   "metadata": {},
   "outputs": [
    {
     "data": {
      "text/plain": [
       "(167783,)"
      ]
     },
     "execution_count": 9,
     "metadata": {},
     "output_type": "execute_result"
    }
   ],
   "source": [
    "norm_full_data_num_tips.shape"
   ]
  },
  {
   "cell_type": "code",
   "execution_count": 10,
   "id": "4f54f50e",
   "metadata": {},
   "outputs": [
    {
     "name": "stdout",
     "output_type": "stream",
     "text": [
      "(163783, 499, 7) (163783, 5, 2)\n",
      "(2000, 499, 7) (2000, 5, 2)\n",
      "(2000, 499, 7) (2000, 5, 2)\n"
     ]
    }
   ],
   "source": [
    "# create data tensors\n",
    "full_treeLocation_tensor, full_prior_tensor = cn.create_data_tensors(data, full_labels[0:num_sample,8], \n",
    "                                                                     full_labels[0:num_sample,9],\n",
    "                                                                    norm_full_data_num_tips,\n",
    "                                                                    normalize_tree_stats = True) \n",
    "train_treeLocation_tensor, validation_treeLocation_tensor,  test_treeLocation_tensor = cn.create_train_val_test_tensors(full_treeLocation_tensor, num_validation, num_test)\n",
    "train_prior_tensor, validation_prior_tensor,  test_prior_tensor = cn.create_train_val_test_tensors(full_prior_tensor, num_validation, num_test)\n",
    "\n",
    "print(train_treeLocation_tensor.shape, train_prior_tensor.shape)\n",
    "print(test_treeLocation_tensor.shape, test_prior_tensor.shape)\n",
    "print(validation_treeLocation_tensor.shape, validation_prior_tensor.shape)"
   ]
  },
  {
   "cell_type": "code",
   "execution_count": 111,
   "id": "61e10e74",
   "metadata": {},
   "outputs": [],
   "source": [
    "# multi input cnn\n",
    "from keras import Input\n",
    "from keras import Model\n",
    "\n",
    "num_train_minus_val_samples = train_labels.shape[0]\n",
    "\n",
    "# tree + geographical deep conv1D\n",
    "input_treeLocation_tensor = Input(shape = train_treeLocation_tensor.shape[1:3])\n",
    "w1 = layers.Conv1D(64, 3, strides = 1, activation = 'relu', padding = 'same')(input_treeLocation_tensor)\n",
    "w = layers.Conv1D(64, 3, activation = 'relu', padding = 'same')(w1)\n",
    "#w = layers.MaxPooling1D(pool_size = 3, stride = 1)(w)\n",
    "#w = layers.BatchNormalization()(w)\n",
    "w = layers.Conv1D(84, 5, activation = 'relu', padding = 'same')(w)\n",
    "w = layers.Conv1D(128, 7, activation = 'relu', padding = 'same')(w)\n",
    "w_global_avg = layers.GlobalAveragePooling1D(name = 'w')(w)\n",
    "\n",
    "# tree + geolocation dilated\n",
    "w_dilated = layers.Conv1D(32, 3, dilation_rate = 2, activation = 'relu', padding = \"same\")(w1)\n",
    "w_dilated = layers.Conv1D(64, 8, dilation_rate = 4, activation = 'relu', padding = \"same\")(w_dilated)\n",
    "w_dilated = layers.Conv1D(128, 10, dilation_rate = 8, activation = 'relu', padding = \"same\")(w_dilated)\n",
    "#w_dilated = layers.SpatialDropout1D(rate = 0.1)(w_dilated)\n",
    "w_dilated_global_avg = layers.GlobalAveragePooling1D(name = 'w_dilated_global_avg')(w_dilated)\n",
    "\n",
    "# prior known parameters and data statistics\n",
    "input_priors_tensor = Input(shape = train_prior_tensor.shape[1:3])\n",
    "priors = layers.Flatten()(input_priors_tensor)\n",
    "priors = layers.Dense(32, activation = 'relu', kernel_initializer = 'VarianceScaling', name = 'prior1')(priors)\n",
    "\n",
    "# concatenate all above -> deep fully connected network\n",
    "concatenated_wxyz = layers.Concatenate(axis = 1, name = 'all_concatenated')([w_global_avg,\n",
    "                                                                             w_dilated_global_avg,\n",
    "                                                                             priors])\n",
    "\n",
    "wxyz = layers.Dense(128, activation = 'relu', kernel_initializer = 'VarianceScaling')(concatenated_wxyz)\n",
    "wxyz = layers.Dense(64, activation = 'relu', kernel_initializer = 'VarianceScaling')(wxyz)\n",
    "wxyz = layers.Dense(32, activation = 'relu', kernel_initializer = 'VarianceScaling')(wxyz)\n",
    "output_root_loc_layers = layers.Dense(5, activation = 'softmax', name = 'root_loc_output')(wxyz)\n",
    "\n"
   ]
  },
  {
   "cell_type": "code",
   "execution_count": 112,
   "id": "f485ef10",
   "metadata": {},
   "outputs": [
    {
     "name": "stdout",
     "output_type": "stream",
     "text": [
      "Train on 163783 samples, validate on 2000 samples\n",
      "Epoch 1/10\n",
      "163783/163783 [==============================] - 230s 1ms/step - loss: 0.0394 - binary_accuracy: 0.9251 - categorical_accuracy: 0.8100 - val_loss: 0.0337 - val_binary_accuracy: 0.9359 - val_categorical_accuracy: 0.8440\n",
      "Epoch 2/10\n",
      "163783/163783 [==============================] - 228s 1ms/step - loss: 0.0323 - binary_accuracy: 0.9401 - categorical_accuracy: 0.8493 - val_loss: 0.0316 - val_binary_accuracy: 0.9426 - val_categorical_accuracy: 0.8470\n",
      "Epoch 3/10\n",
      "163783/163783 [==============================] - 227s 1ms/step - loss: 0.0309 - binary_accuracy: 0.9429 - categorical_accuracy: 0.8564 - val_loss: 0.0321 - val_binary_accuracy: 0.9398 - val_categorical_accuracy: 0.8500\n",
      "Epoch 4/10\n",
      "163783/163783 [==============================] - 227s 1ms/step - loss: 0.0301 - binary_accuracy: 0.9443 - categorical_accuracy: 0.8602 - val_loss: 0.0312 - val_binary_accuracy: 0.9432 - val_categorical_accuracy: 0.8530\n",
      "Epoch 5/10\n",
      "163783/163783 [==============================] - 228s 1ms/step - loss: 0.0295 - binary_accuracy: 0.9457 - categorical_accuracy: 0.8630 - val_loss: 0.0300 - val_binary_accuracy: 0.9429 - val_categorical_accuracy: 0.8575\n",
      "Epoch 6/10\n",
      "163783/163783 [==============================] - 228s 1ms/step - loss: 0.0291 - binary_accuracy: 0.9463 - categorical_accuracy: 0.8654 - val_loss: 0.0299 - val_binary_accuracy: 0.9435 - val_categorical_accuracy: 0.8605\n",
      "Epoch 7/10\n",
      "163783/163783 [==============================] - 226s 1ms/step - loss: 0.0288 - binary_accuracy: 0.9469 - categorical_accuracy: 0.8662 - val_loss: 0.0292 - val_binary_accuracy: 0.9462 - val_categorical_accuracy: 0.8625\n",
      "Epoch 8/10\n",
      "163783/163783 [==============================] - 224s 1ms/step - loss: 0.0286 - binary_accuracy: 0.9474 - categorical_accuracy: 0.8678 - val_loss: 0.0295 - val_binary_accuracy: 0.9429 - val_categorical_accuracy: 0.8595\n",
      "Epoch 9/10\n",
      "163783/163783 [==============================] - 224s 1ms/step - loss: 0.0283 - binary_accuracy: 0.9478 - categorical_accuracy: 0.8690 - val_loss: 0.0294 - val_binary_accuracy: 0.9442 - val_categorical_accuracy: 0.8615\n",
      "Epoch 10/10\n",
      "163783/163783 [==============================] - 224s 1ms/step - loss: 0.0281 - binary_accuracy: 0.9486 - categorical_accuracy: 0.8704 - val_loss: 0.0299 - val_binary_accuracy: 0.9442 - val_categorical_accuracy: 0.8590\n"
     ]
    }
   ],
   "source": [
    "# POWER MSE\n",
    "def myLoss(y_true, y_pred):\n",
    "    power = 3\n",
    "    power_loss = tf.math.abs(y_true - y_pred)**power\n",
    "    return tf.reduce_mean(power_loss, axis=-1)\n",
    "\n",
    "# myLoss = \"categorical_crossentropy\"\n",
    "# myLoss = \"binary_crossentropy\"\n",
    "# myLoss = \"mse\"\n",
    "\n",
    "mymodel = Model(inputs = [input_treeLocation_tensor, input_priors_tensor], \n",
    "                outputs = [output_root_loc_layers])\n",
    "mymodel.compile(optimizer = 'rmsprop', \n",
    "                loss = myLoss, \n",
    "                metrics = ['binary_accuracy','categorical_accuracy'])\n",
    "history = mymodel.fit([train_treeLocation_tensor, train_prior_tensor], \n",
    "                      train_labels[:,0:5],\n",
    "                    epochs = 10, batch_size = 256, \n",
    "                    validation_data = ([validation_treeLocation_tensor, validation_prior_tensor], \n",
    "                                       validation_labels[:,0:5]))\n",
    "\n",
    "\n",
    "# make history plots\n",
    "# cn.make_history_plot(history)\n"
   ]
  },
  {
   "cell_type": "code",
   "execution_count": 113,
   "id": "a52d4741",
   "metadata": {},
   "outputs": [],
   "source": [
    "##################33\n",
    "## TEST loc pred ###\n",
    "###################\n",
    "test_preds = mymodel.predict([test_treeLocation_tensor, test_prior_tensor])\n",
    "nt_nv = num_test + num_validation\n",
    "test_pred_labels = test_labels[:, 0:5]\n"
   ]
  },
  {
   "cell_type": "code",
   "execution_count": 114,
   "id": "b4f592b1",
   "metadata": {},
   "outputs": [
    {
     "name": "stdout",
     "output_type": "stream",
     "text": [
      "tip frequency accuracy:  0.5775746078719847\n",
      "cnn prediction accuracy:  0.6990142588987946\n",
      "top tip prediction accuracy:  0.8385\n",
      "top cnn prediction accuracy:  0.8495\n"
     ]
    }
   ],
   "source": [
    "# how predictive are just counts without any phylo info?\n",
    "tip_loc_counts = np.zeros((test_treeLocation_tensor.shape[0],num_locs))\n",
    "tip_loc_distro = np.zeros((test_treeLocation_tensor.shape[0],num_locs))\n",
    "accuracy_tipfreq = np.zeros((test_treeLocation_tensor.shape[0]))\n",
    "accuracy_pred = np.zeros((test_treeLocation_tensor.shape[0]))\n",
    "acc_top_pred = np.zeros((test_treeLocation_tensor.shape[0]))\n",
    "acc_top_tipfreq = np.zeros((test_treeLocation_tensor.shape[0]))\n",
    "\n",
    "for i in range(0, test_treeLocation_tensor.shape[0]):    \n",
    "    tip_loc_counts[i,:] = sum(test_treeLocation_tensor[i,:,2:2+num_locs])\n",
    "    tip_loc_distro[i,:] = tip_loc_counts[i,:] / sum(tip_loc_counts[i,:])\n",
    "    accuracy_tipfreq[i] = sum(tip_loc_distro[i,:] * test_labels[i,:])\n",
    "    accuracy_pred[i] = sum(test_preds[i,:] * test_labels[i,:])\n",
    "    acc_top_tipfreq[i] = 1 * (np.argmax(tip_loc_distro[i,:]) == np.argmax(test_labels[i,:]))\n",
    "    acc_top_pred[i] = 1 * (np.argmax(test_preds[i,:]) == np.argmax(test_labels[i,:]))\n",
    "\n",
    "print(\"tip frequency accuracy: \", np.mean(accuracy_tipfreq))\n",
    "print(\"cnn prediction accuracy: \", np.mean(accuracy_pred))\n",
    "print(\"top tip prediction accuracy: \", np.mean(acc_top_tipfreq))\n",
    "print(\"top cnn prediction accuracy: \", np.mean(acc_top_pred))\n",
    "\n",
    " "
   ]
  },
  {
   "cell_type": "code",
   "execution_count": 115,
   "id": "3a0b3672",
   "metadata": {},
   "outputs": [
    {
     "data": {
      "image/png": "[encoded data removed]",
      "text/plain": [
       "<Figure size 432x288 with 1 Axes>"
      ]
     },
     "metadata": {
      "needs_background": "light"
     },
     "output_type": "display_data"
    },
    {
     "data": {
      "image/png": "[encoded data removed]",
      "text/plain": [
       "<Figure size 432x288 with 1 Axes>"
      ]
     },
     "metadata": {
      "needs_background": "light"
     },
     "output_type": "display_data"
    }
   ],
   "source": [
    "test_accuracy = np.max(test_preds * test_labels, axis = 1)\n",
    "plt.hist(test_accuracy, bins = 20, range = [0,1])\n",
    "plt.show()\n",
    "plt.hist(accuracy_tipfreq, bins = 20, range = [0,1])\n",
    "plt.show()"
   ]
  },
  {
   "cell_type": "code",
   "execution_count": null,
   "id": "530b5936",
   "metadata": {},
   "outputs": [],
   "source": []
  },
  {
   "cell_type": "code",
   "execution_count": 116,
   "id": "b4bf1092",
   "metadata": {},
   "outputs": [],
   "source": [
    "\n",
    "##### COMPARE CNN TO PHYLO ##########\n",
    "# cnn predictions for trees analyzed by revbayes\n",
    "# normalize tree length and mean branch length with training mean and sd\n",
    "norm_phylocomp_tree_length = (phylo_comparison_labels[:,8]-label_means[8])/label_sd[8]\n",
    "norm_phylocomp_mean_branch_length = (phylo_comparison_labels[:,9] - label_means[9])/label_sd[9]\n",
    "phylocomp_num_tips = cn.get_num_tips(phylo_comparison_data)\n",
    "norm_phylocomp_num_tips = (phylocomp_num_tips - mean_num_tips)/sd_num_tips\n",
    "\n",
    "phylocomp_treeLocation_tensor, phylocomp_prior_tensor = cn.create_data_tensors(phylo_comparison_data, \n",
    "                                                                               norm_phylocomp_tree_length,\n",
    "                                                                               norm_phylocomp_mean_branch_length,\n",
    "                                                                               norm_phylocomp_num_tips,\n",
    "                                                                               normalize_tree_stats = False)\n",
    "\n",
    "phylocomp_preds = mymodel.predict([phylocomp_treeLocation_tensor, phylocomp_prior_tensor])\n",
    "\n",
    "# bayesian method\n",
    "postmean_root_freq = pd.read_table(\"data_files/phylo_estimates_files/true_model_root_probs.tsv\", \n",
    "                                   header = None, index_col = 0).to_numpy()"
   ]
  },
  {
   "cell_type": "code",
   "execution_count": 117,
   "id": "9839995c",
   "metadata": {},
   "outputs": [
    {
     "name": "stdout",
     "output_type": "stream",
     "text": [
      "0\n"
     ]
    },
    {
     "data": {
      "image/png": "[encoded data removed]",
      "text/plain": [
       "<Figure size 504x72 with 1 Axes>"
      ]
     },
     "metadata": {
      "needs_background": "light"
     },
     "output_type": "display_data"
    },
    {
     "name": "stdout",
     "output_type": "stream",
     "text": [
      "1\n"
     ]
    },
    {
     "data": {
      "image/png": "[encoded data removed]",
      "text/plain": [
       "<Figure size 504x72 with 1 Axes>"
      ]
     },
     "metadata": {
      "needs_background": "light"
     },
     "output_type": "display_data"
    },
    {
     "name": "stdout",
     "output_type": "stream",
     "text": [
      "2\n"
     ]
    },
    {
     "data": {
      "image/png": "[encoded data removed]",
      "text/plain": [
       "<Figure size 504x72 with 1 Axes>"
      ]
     },
     "metadata": {
      "needs_background": "light"
     },
     "output_type": "display_data"
    },
    {
     "name": "stdout",
     "output_type": "stream",
     "text": [
      "3\n"
     ]
    },
    {
     "data": {
      "image/png": "[encoded data removed]",
      "text/plain": [
       "<Figure size 504x72 with 1 Axes>"
      ]
     },
     "metadata": {
      "needs_background": "light"
     },
     "output_type": "display_data"
    },
    {
     "name": "stdout",
     "output_type": "stream",
     "text": [
      "4\n"
     ]
    },
    {
     "data": {
      "image/png": "[encoded data removed]",
      "text/plain": [
       "<Figure size 504x72 with 1 Axes>"
      ]
     },
     "metadata": {
      "needs_background": "light"
     },
     "output_type": "display_data"
    },
    {
     "name": "stdout",
     "output_type": "stream",
     "text": [
      "5\n"
     ]
    },
    {
     "data": {
      "image/png": "[encoded data removed]",
      "text/plain": [
       "<Figure size 504x72 with 1 Axes>"
      ]
     },
     "metadata": {
      "needs_background": "light"
     },
     "output_type": "display_data"
    },
    {
     "name": "stdout",
     "output_type": "stream",
     "text": [
      "6\n"
     ]
    },
    {
     "data": {
      "image/png": "[encoded data removed]",
      "text/plain": [
       "<Figure size 504x72 with 1 Axes>"
      ]
     },
     "metadata": {
      "needs_background": "light"
     },
     "output_type": "display_data"
    },
    {
     "name": "stdout",
     "output_type": "stream",
     "text": [
      "7\n"
     ]
    },
    {
     "data": {
      "image/png": "[encoded data removed]",
      "text/plain": [
       "<Figure size 504x72 with 1 Axes>"
      ]
     },
     "metadata": {
      "needs_background": "light"
     },
     "output_type": "display_data"
    },
    {
     "name": "stdout",
     "output_type": "stream",
     "text": [
      "8\n"
     ]
    },
    {
     "data": {
      "image/png": "[encoded data removed]",
      "text/plain": [
       "<Figure size 504x72 with 1 Axes>"
      ]
     },
     "metadata": {
      "needs_background": "light"
     },
     "output_type": "display_data"
    },
    {
     "name": "stdout",
     "output_type": "stream",
     "text": [
      "9\n"
     ]
    },
    {
     "data": {
      "image/png": "[encoded data removed]",
      "text/plain": [
       "<Figure size 504x72 with 1 Axes>"
      ]
     },
     "metadata": {
      "needs_background": "light"
     },
     "output_type": "display_data"
    }
   ],
   "source": [
    "##### COMPARE CNN TO PHYLO ##########\n",
    "cats = np.arange(num_locs)\n",
    "barwidth = 0.2\n",
    "\n",
    "tip_loc_counts = np.zeros((phylocomp_treeLocation_tensor.shape[0],num_locs))\n",
    "tip_loc_distro = np.zeros((phylocomp_treeLocation_tensor.shape[0],num_locs))\n",
    "accuracy_tipfreq = np.zeros((phylocomp_treeLocation_tensor.shape[0]))\n",
    "accuracy_pred = np.zeros((phylocomp_treeLocation_tensor.shape[0]))\n",
    "acc_top_pred = np.zeros((phylocomp_treeLocation_tensor.shape[0]))\n",
    "acc_top_tipfreq = np.zeros((phylocomp_treeLocation_tensor.shape[0]))\n",
    "\n",
    "for i in range(0, phylocomp_treeLocation_tensor.shape[0]):    \n",
    "    tip_loc_counts[i,:] = sum(phylocomp_treeLocation_tensor[i,:,2:2+num_locs])\n",
    "    tip_loc_distro[i,:] = tip_loc_counts[i,:] / sum(tip_loc_counts[i,:])\n",
    "    accuracy_tipfreq[i] = sum(tip_loc_distro[i,:] * phylo_comparison_labels[i,:5])\n",
    "    accuracy_pred[i] = sum(test_preds[i,:] * test_labels[i,:])\n",
    "    acc_top_tipfreq[i] = 1 * (np.argmax(tip_loc_distro[i,:]) == np.argmax(phylo_comparison_labels[i,:5]))\n",
    "    acc_top_pred[i] = 1 * (np.argmax(test_preds[i,:]) == np.argmax(phylo_comparison_labels[i,:5]))\n",
    "\n",
    "\n",
    "for i in range(0, 10):\n",
    "    print(i)\n",
    "    plt.figure(figsize=(num_locs+2, 1))\n",
    "    plt.bar(cats + barwidth, phylocomp_preds[i,:], barwidth, label = \"prediction\")\n",
    "    plt.bar(cats, phylo_comparison_labels[i,:5], barwidth, label = \"truth\")\n",
    "    plt.bar(cats + 2 * barwidth, postmean_root_freq[i,:], barwidth, label = \"phylo\", color = \"red\")\n",
    "    plt.bar(cats + 3 * barwidth, tip_loc_distro[i,:], barwidth, label = 'tip frequency')\n",
    "    plt.show()\n",
    "\n",
    "plt.close()"
   ]
  },
  {
   "cell_type": "code",
   "execution_count": 118,
   "id": "89d875de",
   "metadata": {},
   "outputs": [
    {
     "data": {
      "image/png": "[encoded data removed]",
      "text/plain": [
       "<Figure size 432x288 with 1 Axes>"
      ]
     },
     "metadata": {
      "needs_background": "light"
     },
     "output_type": "display_data"
    },
    {
     "data": {
      "image/png": "[encoded data removed]",
      "text/plain": [
       "<Figure size 432x288 with 1 Axes>"
      ]
     },
     "metadata": {
      "needs_background": "light"
     },
     "output_type": "display_data"
    },
    {
     "data": {
      "image/png": "[encoded data removed]",
      "text/plain": [
       "<Figure size 432x288 with 1 Axes>"
      ]
     },
     "metadata": {
      "needs_background": "light"
     },
     "output_type": "display_data"
    },
    {
     "data": {
      "text/plain": [
       "<matplotlib.lines._AxLine at 0x2bc75707748>"
      ]
     },
     "execution_count": 118,
     "metadata": {},
     "output_type": "execute_result"
    },
    {
     "data": {
      "image/png": "[encoded data removed]",
      "text/plain": [
       "<Figure size 432x288 with 1 Axes>"
      ]
     },
     "metadata": {
      "needs_background": "light"
     },
     "output_type": "display_data"
    }
   ],
   "source": [
    "cnn_accuracy = np.max(phylocomp_preds * phylo_comparison_labels[:,:5], axis = 1)\n",
    "phylo_accuracy = np.max(postmean_root_freq * phylo_comparison_labels[:,:5], axis = 1)\n",
    "\n",
    "plt.hist(cnn_accuracy, bins = 20, range = [0,1], color = 'blue')\n",
    "plt.xlabel('CNN and Phylo accuracy')\n",
    "plt.hist(phylo_accuracy, bins = 20, range = [0,1], alpha = 0.5, color = 'red')\n",
    "plt.legend(['CNN', 'Phylo'])\n",
    "plt.show()\n",
    "\n",
    "plt.hist(phylo_accuracy - cnn_accuracy, bins = 20)\n",
    "plt.axline((0,0), slope = 100000, color = 'red', alpha=0.75)\n",
    "plt.xlabel(\"phylo_accuracy - cnn accuracy\")\n",
    "plt.show()\n",
    "\n",
    "plt.hist(accuracy_tipfreq, bins = 20, range = [0,1])\n",
    "plt.xlabel('Tip frequency accuracy')\n",
    "plt.show()\n",
    "\n",
    "plt.scatter(cnn_accuracy, phylo_accuracy)\n",
    "plt.xlabel(\"CNN accuracy\")\n",
    "plt.ylabel(\"phylo accuracy\")\n",
    "plt.axline((np.min(cnn_accuracy),np.min(phylo_accuracy)), slope = 1, color = 'red', alpha=0.75)\n"
   ]
  },
  {
   "cell_type": "code",
   "execution_count": 119,
   "id": "41d47b18",
   "metadata": {},
   "outputs": [
    {
     "name": "stdout",
     "output_type": "stream",
     "text": [
      "(array([26, 42, 45, 54, 74, 89], dtype=int64),)\n",
      "[[[ 2.2981065  -0.38313511  0.88906284 -1.13525891 -1.33888365]\n",
      "  [ 2.0358075  -0.48481318  0.88906284 -0.1916944  -0.8750861 ]\n",
      "  [ 0.7998545   0.23405253 -0.14978317  0.99092516  0.08562147]\n",
      "  [ 1.413482   -0.29149387  0.88906284 -0.57765028 -0.73183661]\n",
      "  [ 1.6075675   0.23405253 -1.58583502  0.94180014  1.26345888]\n",
      "  [ 1.295914    0.23405253 -1.39232449  0.98229797  0.67510898]]]\n"
     ]
    },
    {
     "data": {
      "text/plain": [
       "array([[51.76688382, 73.1456756 , 99.94085162, 64.40088887, 98.82780263,\n",
       "        99.74538134]])"
      ]
     },
     "execution_count": 119,
     "metadata": {},
     "output_type": "execute_result"
    }
   ],
   "source": [
    "idx = np.where(cnn_accuracy < 0.1)\n",
    "print(idx)\n",
    "print(phylocomp_prior_tensor[idx,:,0])\n",
    "phylo_comparison_labels[idx,8]"
   ]
  },
  {
   "cell_type": "code",
   "execution_count": 120,
   "id": "f8ea3d2e",
   "metadata": {},
   "outputs": [
    {
     "name": "stdout",
     "output_type": "stream",
     "text": [
      "0.7497163095884025\n",
      "0.86844\n",
      "0.6112391358803265\n"
     ]
    }
   ],
   "source": [
    "print(np.mean(cnn_accuracy))\n",
    "print(np.mean(phylo_accuracy))\n",
    "print(np.mean(accuracy_tipfreq))"
   ]
  },
  {
   "cell_type": "code",
   "execution_count": null,
   "id": "dd45426e",
   "metadata": {},
   "outputs": [],
   "source": []
  },
  {
   "cell_type": "code",
   "execution_count": null,
   "id": "d7f1a48f",
   "metadata": {},
   "outputs": [],
   "source": []
  },
  {
   "cell_type": "code",
   "execution_count": 43,
   "id": "0e394887",
   "metadata": {},
   "outputs": [],
   "source": [
    "######################################\n",
    "# Model misspecification experiments #\n",
    "######################################"
   ]
  },
  {
   "cell_type": "code",
   "execution_count": 121,
   "id": "63dc4056",
   "metadata": {},
   "outputs": [],
   "source": [
    "###########################################################\n",
    "# compute errors on sample rate misspecified model trees ##\n",
    "###########################################################\n",
    "misspec_delta_data = pd.read_csv(\"data_files/cblv_files/misspec_delta.cblv.csv\", \n",
    "                   header =None, error_bad_lines = False).to_numpy()\n",
    "# load labels data\n",
    "misspec_delta_labels = pd.read_csv(\"data_files/label_files/alt_loc_R0_delta_migration_treelength_meanbl_misspec_delta.csv\",\n",
    "                    header = None, error_bad_lines = False).to_numpy()\n",
    "\n",
    "# bayesian method\n",
    "misspec_delta_phylo_root = pd.read_table(\"data_files/phylo_estimates_files/sample_misspec_prob_root.tsv\", \n",
    "                                   header = None, index_col = 0).to_numpy()"
   ]
  },
  {
   "cell_type": "code",
   "execution_count": 122,
   "id": "27830154",
   "metadata": {},
   "outputs": [],
   "source": [
    "# normalize with training means and sds\n",
    "\n",
    "\n",
    "#########################\n",
    "# prepare input tensors #\n",
    "#########################\n",
    "\n",
    "norm_misspec_delta_tree_length = (misspec_delta_labels[:,8]-label_means[8])/label_sd[8]\n",
    "norm_misspec_delta_mean_branch_length = (misspec_delta_labels[:,9]-label_means[9])/label_sd[9]\n",
    "norm_misspec_delta_num_tips = (cn.get_num_tips(misspec_delta_data) - mean_num_tips) / sd_num_tips\n",
    "\n",
    "misspec_treeLocation_tensor, misspec_prior_tensor = cn.create_data_tensors(misspec_delta_data,\n",
    "                                                                           norm_misspec_delta_tree_length,\n",
    "                                                                           norm_misspec_delta_mean_branch_length,\n",
    "                                                                           norm_misspec_delta_num_tips,\n",
    "                                                                           normalize_tree_stats = False)\n",
    "# predict\n",
    "miss_delta_root_preds = mymodel.predict([misspec_treeLocation_tensor, \n",
    "                                         misspec_prior_tensor])\n"
   ]
  },
  {
   "cell_type": "code",
   "execution_count": 123,
   "id": "df2cb633",
   "metadata": {
    "scrolled": true
   },
   "outputs": [
    {
     "data": {
      "image/png": "[encoded data removed]",
      "text/plain": [
       "<Figure size 432x288 with 1 Axes>"
      ]
     },
     "metadata": {
      "needs_background": "light"
     },
     "output_type": "display_data"
    },
    {
     "name": "stdout",
     "output_type": "stream",
     "text": [
      "mean change in accuracy, CNN:  0.1369966576126267\n",
      "mean change in accuracy, phylo:  0.09483344262295068\n"
     ]
    },
    {
     "data": {
      "image/png": "[encoded data removed]",
      "text/plain": [
       "<Figure size 432x288 with 1 Axes>"
      ]
     },
     "metadata": {
      "needs_background": "light"
     },
     "output_type": "display_data"
    },
    {
     "data": {
      "image/png": "[encoded data removed]",
      "text/plain": [
       "<Figure size 432x288 with 1 Axes>"
      ]
     },
     "metadata": {
      "needs_background": "light"
     },
     "output_type": "display_data"
    }
   ],
   "source": [
    "misspec_delta_cnn_accuracy = np.max(miss_delta_root_preds * misspec_delta_labels[:,:5], axis = 1)\n",
    "misspec_delta_phylo_accuracy = np.max(misspec_delta_phylo_root * misspec_delta_labels[:,:5], axis = 1)\n",
    "\n",
    "plt.hist(misspec_delta_cnn_accuracy, bins = 20, range = [0,1], color = 'blue')\n",
    "plt.xlabel('CNN and Phylo accuracy')\n",
    "plt.hist(misspec_delta_phylo_accuracy, bins = 20, range = [0,1], alpha = 0.5, color = 'red')\n",
    "plt.legend(['CNN', 'Phylo'])\n",
    "plt.show()\n",
    "\n",
    "print(\"mean change in accuracy, CNN: \" , np.mean(cnn_accuracy) - np.mean(misspec_delta_cnn_accuracy))\n",
    "print(\"mean change in accuracy, phylo: \" , np.mean(phylo_accuracy) - np.mean(misspec_delta_phylo_accuracy))\n",
    "\n",
    "\n",
    "plt.hist(misspec_delta_phylo_accuracy - misspec_delta_cnn_accuracy, bins = 20)\n",
    "plt.axline((0,0), slope = 100000, color = 'red', alpha=0.75)\n",
    "plt.xlabel(\"phylo_accuracy - cnn accuracy\")\n",
    "plt.show()\n",
    "\n",
    "plt.scatter(misspec_delta_cnn_accuracy, misspec_delta_phylo_accuracy)\n",
    "plt.xlabel(\"CNN accuracy\")\n",
    "plt.ylabel(\"phylo accuracy\")\n",
    "plt.axline((np.min(cnn_accuracy),np.min(misspec_delta_phylo_accuracy)), slope = 1, color = 'red', alpha=0.75)\n",
    "plt.show()\n"
   ]
  },
  {
   "cell_type": "code",
   "execution_count": null,
   "id": "1f3d0984",
   "metadata": {},
   "outputs": [],
   "source": []
  },
  {
   "cell_type": "code",
   "execution_count": null,
   "id": "274ccd0a",
   "metadata": {},
   "outputs": [],
   "source": []
  },
  {
   "cell_type": "code",
   "execution_count": 124,
   "id": "773067b9",
   "metadata": {},
   "outputs": [],
   "source": [
    "#####################################################\n",
    "# compute errors on migration rate misspecified trees ##\n",
    "#####################################################\n",
    "misspec_migration_data = pd.read_csv(\"data_files/cblv_files/misspec_migration.cblv.csv\", \n",
    "                   header =None, error_bad_lines = False).to_numpy()\n",
    "# load labels data\n",
    "misspec_migration_labels = pd.read_csv(\"data_files/label_files/alt_loc_R0_delta_migration_treelength_meanbl_misspec_migration.csv\",\n",
    "                    header = None, error_bad_lines = False, index_col = None).to_numpy()\n",
    "\n",
    "# bayesian method\n",
    "misspec_migration_phylo_root = pd.read_table(\"data_files/phylo_estimates_files/misspec_migration_root_state_probs.tsv\", \n",
    "                                   header = None, index_col = 0).to_numpy()"
   ]
  },
  {
   "cell_type": "code",
   "execution_count": 125,
   "id": "290449fc",
   "metadata": {},
   "outputs": [],
   "source": [
    "#########################\n",
    "# prepare input tensors #\n",
    "#########################\n",
    "\n",
    "# normalize with training means and sds\n",
    "norm_misspec_migration_tree_length = (misspec_migration_labels[:,8]-label_means[8])/label_sd[8]\n",
    "norm_misspec_migration_mean_branch_length = (misspec_migration_labels[:,9]-label_means[9])/label_sd[9]\n",
    "norm_misspec_migration_num_tips = (cn.get_num_tips(misspec_migration_data) - mean_num_tips) / sd_num_tips\n",
    "\n",
    "misspec_migration_treeLocation_tensor, misspec_migration_prior_tensor = cn.create_data_tensors(misspec_migration_data,\n",
    "                                                                           norm_misspec_migration_tree_length,\n",
    "                                                                           norm_misspec_migration_mean_branch_length,\n",
    "                                                                           norm_misspec_migration_num_tips,\n",
    "                                                                           normalize_tree_stats = False)\n",
    "\n",
    "\n",
    "\n",
    "# predict\n",
    "miss_migration_root_preds = mymodel.predict([misspec_migration_treeLocation_tensor, \n",
    "                                         misspec_migration_prior_tensor])\n",
    "\n"
   ]
  },
  {
   "cell_type": "code",
   "execution_count": 126,
   "id": "c610766f",
   "metadata": {},
   "outputs": [
    {
     "data": {
      "image/png": "[encoded data removed]",
      "text/plain": [
       "<Figure size 432x288 with 1 Axes>"
      ]
     },
     "metadata": {
      "needs_background": "light"
     },
     "output_type": "display_data"
    },
    {
     "name": "stdout",
     "output_type": "stream",
     "text": [
      "mean change in accuracy, CNN:  0.06360843336835276\n",
      "mean change in accuracy, phylo:  0.03379877862595426\n"
     ]
    },
    {
     "data": {
      "image/png": "[encoded data removed]",
      "text/plain": [
       "<Figure size 432x288 with 1 Axes>"
      ]
     },
     "metadata": {
      "needs_background": "light"
     },
     "output_type": "display_data"
    },
    {
     "data": {
      "image/png": "[encoded data removed]",
      "text/plain": [
       "<Figure size 432x288 with 1 Axes>"
      ]
     },
     "metadata": {
      "needs_background": "light"
     },
     "output_type": "display_data"
    }
   ],
   "source": [
    "misspec_migration_cnn_accuracy = np.max(miss_migration_root_preds * misspec_migration_labels[:,:5], axis = 1)\n",
    "misspec_migration_phylo_accuracy = np.max(misspec_migration_phylo_root * misspec_migration_labels[:,:5], axis = 1)\n",
    "\n",
    "plt.hist(misspec_migration_cnn_accuracy, bins = 20, range = [0,1], color = 'blue')\n",
    "plt.xlabel('CNN and Phylo accuracy')\n",
    "plt.hist(misspec_migration_phylo_accuracy, bins = 20, range = [0,1], alpha = 0.5, color = 'red')\n",
    "plt.legend(['CNN', 'Phylo'])\n",
    "plt.show()\n",
    "\n",
    "print(\"mean change in accuracy, CNN: \" , np.mean(cnn_accuracy) - np.mean(misspec_migration_cnn_accuracy))\n",
    "print(\"mean change in accuracy, phylo: \" , np.mean(phylo_accuracy) - np.mean(misspec_migration_phylo_accuracy))\n",
    "\n",
    "plt.hist(misspec_migration_phylo_accuracy - misspec_migration_cnn_accuracy, bins = 20)\n",
    "plt.axline((0,0), slope = 100000, color = 'red', alpha=0.75)\n",
    "plt.xlabel(\"phylo_accuracy - cnn accuracy\")\n",
    "plt.show()\n",
    "\n",
    "plt.scatter(misspec_migration_cnn_accuracy, misspec_migration_phylo_accuracy)\n",
    "plt.xlabel(\"CNN accuracy\")\n",
    "plt.ylabel(\"phylo accuracy\")\n",
    "plt.axline((np.min(misspec_migration_cnn_accuracy),np.min(misspec_migration_phylo_accuracy)), slope = 1, color = 'red', alpha=0.75)\n",
    "plt.show()\n"
   ]
  },
  {
   "cell_type": "code",
   "execution_count": null,
   "id": "426ee925",
   "metadata": {},
   "outputs": [],
   "source": []
  },
  {
   "cell_type": "code",
   "execution_count": null,
   "id": "6511c1e3",
   "metadata": {},
   "outputs": [],
   "source": []
  },
  {
   "cell_type": "code",
   "execution_count": 127,
   "id": "18f2659e",
   "metadata": {},
   "outputs": [],
   "source": [
    "###################################################\n",
    "# misspecified Tree. Scale set to 0.005 in iqtree #\n",
    "###################################################\n",
    "# # read cblv data\n",
    "# misspec_tree_cblv = pd.read_csv(\"data_files/cblv_files/misspec_tree.cblv.csv\",\n",
    "#                     header = None, error_bad_lines = False).to_numpy()\n",
    "# true_tree_cblv = pd.read_csv(\"data_files/cblv_files/true_tree.cblv.csv\",\n",
    "#                     header = None, error_bad_lines = False).to_numpy()\n",
    "\n",
    "# # read phylo data\n",
    "# misspec_tree_phylo = pd.read_table(\"data_files/phylo_estimates_files/misspec_tree_prob_root_state.txt\",\n",
    "#                     header = None, error_bad_lines = False, index_col = 0).to_numpy()\n",
    "# true_tree_phylo = pd.read_table(\"data_files/phylo_estimates_files/true_tree_root_state_probs.txt\",\n",
    "#                     header = None, error_bad_lines = False, index_col = 0).to_numpy()\n",
    "\n",
    "# # tree distances data\n",
    "# tree_overlap = pd.read_table(\"data_files/phylo_estimates_files/proportion_overlap_trees.txt\",\n",
    "#                             header = None, index_col=0).to_numpy()\n",
    "\n",
    "\n",
    "# # read labels\n",
    "# misspec_tree_param_labels = pd.read_csv(\"data_files/label_files/alt_loc_R0_delta_migration_treelength_meanbl_misspec_tree_scale0.005.csv\",\n",
    "#                     header = None, error_bad_lines = False).to_numpy()\n"
   ]
  },
  {
   "cell_type": "code",
   "execution_count": 128,
   "id": "b508d51b",
   "metadata": {},
   "outputs": [],
   "source": [
    "###################################################\n",
    "# misspecified Tree. Scale set to 0.001 in iqtree #\n",
    "###################################################\n",
    "# read cblv data\n",
    "misspec_tree_cblv = pd.read_csv(\"data_files/cblv_files/misspec_phylogeny_treescale0.001.cblv.csv\",\n",
    "                    header = None, error_bad_lines = False).to_numpy()\n",
    "true_tree_cblv = pd.read_csv(\"data_files/cblv_files/true_phylogeny_treescale0.001.cblv.csv\",\n",
    "                    header = None, error_bad_lines = False).to_numpy()\n",
    "\n",
    "# read phylo data\n",
    "misspec_tree_phylo = pd.read_table(\"data_files/phylo_estimates_files/misspec_phylo_scale0.001_misspectree_root_state_probs.tsv\",\n",
    "                    header = None, error_bad_lines = False, index_col = 0).to_numpy()\n",
    "true_tree_phylo = pd.read_table(\"data_files/phylo_estimates_files/misspec_phylo_scale0.001_truetree_root_probs.tsv\",\n",
    "                    header = None, error_bad_lines = False, index_col = 0).to_numpy()\n",
    "\n",
    "# tree distances data\n",
    "tree_overlap = pd.read_table(\"data_files/phylo_estimates_files/proportion_branches_shared_scale0.001.txt\",\n",
    "                            header = None, index_col=None).to_numpy()\n",
    "\n",
    "\n",
    "# read labels\n",
    "misspec_tree_param_labels = pd.read_csv(\"data_files/label_files/loc_R0_delta_migration_treelength_meanbl_misspec_tree_scale0.001.csv\",\n",
    "                    header = None, error_bad_lines = False).to_numpy()\n",
    "true_tree_param_labels = pd.read_csv(\"data_files/label_files/loc_R0_delta_migration_treelength_meanbl_true_tree_scale0.001.csv\",\n",
    "                    header = None, error_bad_lines = False).to_numpy()\n"
   ]
  },
  {
   "cell_type": "code",
   "execution_count": 129,
   "id": "55c98bcf",
   "metadata": {},
   "outputs": [
    {
     "data": {
      "image/png": "[encoded data removed]",
      "text/plain": [
       "<Figure size 432x288 with 1 Axes>"
      ]
     },
     "metadata": {
      "needs_background": "light"
     },
     "output_type": "display_data"
    }
   ],
   "source": [
    "# tree error summary\n",
    "plt.hist(tree_overlap * 100, bins = 20)\n",
    "plt.xlabel('percent branch overlap, P')\n",
    "plt.show()"
   ]
  },
  {
   "cell_type": "code",
   "execution_count": 130,
   "id": "8d993afe",
   "metadata": {},
   "outputs": [],
   "source": [
    "# reshape data\n",
    "norm_misspectree_tree_length = (misspec_tree_param_labels[:,8] - label_means[8])/label_sd[8]\n",
    "norm_misspectree_mean_branch_length = (misspec_tree_param_labels[:,9] - label_means[9])/label_sd[9]\n",
    "norm_misspectree_num_tips = (cn.get_num_tips(misspec_tree_cblv) - mean_num_tips) / sd_num_tips\n",
    "\n",
    "misspectree_treeLocation_tensor, misspectree_prior_tensor = cn.create_data_tensors(misspec_tree_cblv, \n",
    "                                                                                   norm_misspectree_tree_length,\n",
    "                                                                                   norm_misspectree_mean_branch_length,\n",
    "                                                                                   norm_misspectree_num_tips,\n",
    "                                                                                   normalize_tree_stats = False)\n",
    "\n",
    "\n",
    "norm_truetree_tree_length = (true_tree_param_labels[:,8] - label_means[8])/label_sd[8]\n",
    "norm_truepectree_mean_branch_length = (true_tree_param_labels[:,9] - label_means[9])/label_sd[9]\n",
    "norm_truepectree_num_tips = (cn.get_num_tips(true_tree_cblv) - mean_num_tips) / sd_num_tips\n",
    "\n",
    "truetree_treeLocation_tensor, truetree_prior_tensor = cn.create_data_tensors(true_tree_cblv, \n",
    "                                                                             norm_truetree_tree_length,\n",
    "                                                                             norm_truepectree_mean_branch_length,\n",
    "                                                                             norm_truepectree_num_tips,\n",
    "                                                                             normalize_tree_stats = False)\n",
    "\n",
    "# predict\n",
    "misspec_tree_preds = mymodel.predict([misspectree_treeLocation_tensor, misspectree_prior_tensor])\n",
    "true_tree_preds = mymodel.predict([truetree_treeLocation_tensor, truetree_prior_tensor])\n",
    "\n",
    "# compute accuracy\n",
    "misspec_tree_cnn_accuracy = np.max(misspec_tree_preds * misspec_tree_param_labels[:,:5], axis = 1)\n",
    "true_tree_cnn_accuracy = np.max(true_tree_preds * misspec_tree_param_labels[:,:5], axis = 1)\n",
    "\n",
    "misspec_tree_phylo_accuracy = np.max(misspec_tree_phylo * misspec_tree_param_labels[:,:5], axis = 1)\n",
    "true_tree_phylo_accuracy = np.max(true_tree_phylo * misspec_tree_param_labels[:,:5], axis = 1)\n"
   ]
  },
  {
   "cell_type": "code",
   "execution_count": 131,
   "id": "5a35cfec",
   "metadata": {},
   "outputs": [
    {
     "data": {
      "image/png": "[encoded data removed]",
      "text/plain": [
       "<Figure size 432x288 with 1 Axes>"
      ]
     },
     "metadata": {
      "needs_background": "light"
     },
     "output_type": "display_data"
    },
    {
     "data": {
      "image/png": "[encoded data removed]",
      "text/plain": [
       "<Figure size 432x288 with 1 Axes>"
      ]
     },
     "metadata": {
      "needs_background": "light"
     },
     "output_type": "display_data"
    },
    {
     "data": {
      "image/png": "[encoded data removed]",
      "text/plain": [
       "<Figure size 432x288 with 1 Axes>"
      ]
     },
     "metadata": {
      "needs_background": "light"
     },
     "output_type": "display_data"
    },
    {
     "name": "stdout",
     "output_type": "stream",
     "text": [
      "mean change in accuracy, CNN:  -0.0519452421778963\n",
      "mean change in accuracy, phylo:  0.05727966101694914\n",
      "median change in accuracy, CNN:  -0.05771195888519287\n",
      "median change in accuracy, phylo:  0.0\n"
     ]
    },
    {
     "data": {
      "image/png": "[encoded data removed]",
      "text/plain": [
       "<Figure size 432x288 with 1 Axes>"
      ]
     },
     "metadata": {
      "needs_background": "light"
     },
     "output_type": "display_data"
    },
    {
     "data": {
      "image/png": "[encoded data removed]",
      "text/plain": [
       "<Figure size 432x288 with 1 Axes>"
      ]
     },
     "metadata": {
      "needs_background": "light"
     },
     "output_type": "display_data"
    }
   ],
   "source": [
    "# make plots\n",
    "\n",
    "plt.hist((true_tree_cnn_accuracy), bins = 20, color = 'blue')\n",
    "plt.hist((true_tree_phylo_accuracy ), bins = 20, alpha = 0.5, color = 'red')\n",
    "plt.xlabel('true tree: CNN and Phyloaccuracy')\n",
    "plt.legend(['CNN', 'Phylo'])\n",
    "plt.show()\n",
    "\n",
    "plt.hist(misspec_tree_cnn_accuracy, bins = 20, range = [0,1], color = 'blue')\n",
    "plt.xlabel('misspecified tree: CNN and Phylo accuracy')\n",
    "plt.hist(misspec_tree_phylo_accuracy, bins = 20, range = [0,1], alpha = 0.5, color = 'red')\n",
    "plt.legend(['CNN', 'Phylo'])\n",
    "plt.show()\n",
    "\n",
    "plt.hist((true_tree_cnn_accuracy - misspec_tree_cnn_accuracy), bins = 30, range = [-1,1], color = 'blue')\n",
    "plt.xlabel('accuracy true tree - misspec tree')\n",
    "plt.hist((true_tree_phylo_accuracy - misspec_tree_phylo_accuracy), bins = 30, range = [-1,1], alpha = 0.5, color = 'red')\n",
    "plt.legend(['CNN', 'Phylo'])\n",
    "plt.show()\n",
    "\n",
    "\n",
    "print(\"mean change in accuracy, CNN: \" , np.mean((true_tree_cnn_accuracy - misspec_tree_cnn_accuracy)))\n",
    "print(\"mean change in accuracy, phylo: \" , np.mean((true_tree_phylo_accuracy - misspec_tree_phylo_accuracy)))\n",
    "print(\"median change in accuracy, CNN: \" , np.median((true_tree_cnn_accuracy - misspec_tree_cnn_accuracy)))\n",
    "print(\"median change in accuracy, phylo: \" , np.median((true_tree_phylo_accuracy - misspec_tree_phylo_accuracy)))\n",
    "\n",
    "plt.scatter( misspec_tree_cnn_accuracy, true_tree_cnn_accuracy, alpha = 0.5)\n",
    "plt.axline((np.min(cnn_accuracy),np.min(cnn_accuracy)), slope = 1, color = 'red', alpha=0.75)\n",
    "plt.xlabel('CNN misspecified tree')\n",
    "plt.ylabel('CNN true tree')\n",
    "plt.show()\n",
    "plt.scatter( misspec_tree_phylo_accuracy, true_tree_phylo_accuracy, alpha = 0.5)\n",
    "plt.axline((np.min(phylo_accuracy),np.min(phylo_accuracy)), slope = 1, color = 'red', alpha=0.75)\n",
    "plt.xlabel('phylo misspecified tree')\n",
    "plt.ylabel('phylo true tree')\n",
    "plt.show()"
   ]
  },
  {
   "cell_type": "code",
   "execution_count": null,
   "id": "645c9229",
   "metadata": {},
   "outputs": [],
   "source": []
  },
  {
   "cell_type": "code",
   "execution_count": 133,
   "id": "4a0447f5",
   "metadata": {},
   "outputs": [
    {
     "name": "stdout",
     "output_type": "stream",
     "text": [
      "ERROR! Session/line number was not unique in database. History logging moved to new session 2252\n"
     ]
    }
   ],
   "source": [
    "###############################\n",
    "## analyze nadaeu 2021 trees ##\n",
    "###############################\n",
    "# read cblv data\n",
    "full_tree_cblv = pd.read_csv(\"data_files/cblv_files/full_tree_nadeau2021.cblv.csv\",\n",
    "                             header = None, error_bad_lines = False).to_numpy()\n",
    "A2_tree_cblv = pd.read_csv(\"data_files/cblv_files/A2_tree_nadeau2021.cblv.csv\",\n",
    "                    header = None, error_bad_lines = False).to_numpy()"
   ]
  },
  {
   "cell_type": "code",
   "execution_count": 134,
   "id": "e6e72d20",
   "metadata": {},
   "outputs": [],
   "source": [
    "# normalize and create tensors for full tree data and A2 clade data\n",
    "# full tree\n",
    "norm_full_tree_length = (96.36 - label_means[8])/label_sd[8]\n",
    "norm_full_mean_branch_length = (12.68 - label_means[9])/label_sd[9]\n",
    "norm_full_num_tips = (cn.get_num_tips(full_tree_cblv) - mean_num_tips) / sd_num_tips\n",
    "\n",
    "full_treeLocation_tensor, full_prior_tensor = cn.create_data_tensors(full_tree_cblv, \n",
    "                                                                       norm_full_tree_length,\n",
    "                                                                       norm_full_mean_branch_length,\n",
    "                                                                       norm_full_num_tips,\n",
    "                                                                       normalize_tree_stats = False)\n",
    "# A2 clade\n",
    "norm_a2_tree_length = (96.36 - label_means[8])/label_sd[8]\n",
    "norm_a2_mean_branch_length = (12.68 - label_means[9])/label_sd[9]\n",
    "norm_a2_num_tips = (cn.get_num_tips(A2_tree_cblv) - mean_num_tips) / sd_num_tips\n",
    "\n",
    "a2_treeLocation_tensor, a2_prior_tensor = cn.create_data_tensors(A2_tree_cblv, \n",
    "                                                                   norm_a2_tree_length,\n",
    "                                                                   norm_a2_mean_branch_length,\n",
    "                                                                   norm_a2_num_tips,\n",
    "                                                                   normalize_tree_stats = False)"
   ]
  },
  {
   "cell_type": "code",
   "execution_count": 143,
   "id": "d6c9cc3e",
   "metadata": {
    "scrolled": true
   },
   "outputs": [
    {
     "name": "stdout",
     "output_type": "stream",
     "text": [
      "full tree root locaiton predictoin\n",
      "[0.77280515 0.13807625 0.01429025 0.0166836  0.05814482]\n",
      "A2 clade root location prediction\n",
      "[0.01208613 0.37774307 0.22080249 0.24634576 0.1430226 ]\n"
     ]
    },
    {
     "data": {
      "image/png": "[encoded data removed]",
      "text/plain": [
       "<Figure size 432x288 with 1 Axes>"
      ]
     },
     "metadata": {
      "needs_background": "light"
     },
     "output_type": "display_data"
    },
    {
     "data": {
      "image/png": "[encoded data removed]",
      "text/plain": [
       "<Figure size 432x288 with 1 Axes>"
      ]
     },
     "metadata": {
      "needs_background": "light"
     },
     "output_type": "display_data"
    }
   ],
   "source": [
    "# make predictions\n",
    "full_tree_preds = mymodel.predict([full_treeLocation_tensor, full_prior_tensor])\n",
    "a2_tree_preds = mymodel.predict([a2_treeLocation_tensor, a2_prior_tensor])\n",
    "\n",
    "print(\"full tree root locaiton predictoin\")\n",
    "print(full_tree_preds[0])\n",
    "\n",
    "print(\"A2 clade root location prediction\")\n",
    "print(a2_tree_preds[0])\n",
    "\n",
    "location_label = ['Hubai', 'France', 'Germany', 'Italy', 'Other Euro']\n",
    "plt.bar(range(0,5), full_tree_preds[0], tick_label = location_label)\n",
    "plt.ylabel = \"Probability\"\n",
    "plt.xlabel = 'Location of MRCA'\n",
    "plt.show()\n",
    "\n",
    "plt.bar(range(0,5), a2_tree_preds[0], tick_label = location_label)\n",
    "plt.ylabel = \"Probability\"\n",
    "plt.xlabel = 'Location of MRCA'\n",
    "plt.show()"
   ]
  },
  {
   "cell_type": "code",
   "execution_count": null,
   "id": "bde5494c",
   "metadata": {},
   "outputs": [],
   "source": []
  }
 ],
 "metadata": {
  "kernelspec": {
   "display_name": "Python 3",
   "language": "python",
   "name": "python3"
  },
  "language_info": {
   "codemirror_mode": {
    "name": "ipython",
    "version": 3
   },
   "file_extension": ".py",
   "mimetype": "text/x-python",
   "name": "python",
   "nbconvert_exporter": "python",
   "pygments_lexer": "ipython3",
   "version": "3.6.13"
  }
 },
 "nbformat": 4,
 "nbformat_minor": 5
}
