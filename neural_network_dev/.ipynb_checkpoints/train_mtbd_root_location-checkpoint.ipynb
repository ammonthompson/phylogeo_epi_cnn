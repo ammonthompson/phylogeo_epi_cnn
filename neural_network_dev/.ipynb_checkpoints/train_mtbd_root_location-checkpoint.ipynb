{
 "cells": [
  {
   "cell_type": "code",
   "execution_count": 1,
   "id": "f4c44607",
   "metadata": {
    "scrolled": true
   },
   "outputs": [
    {
     "name": "stderr",
     "output_type": "stream",
     "text": [
      "Using TensorFlow backend.\n"
     ]
    }
   ],
   "source": [
    "import os, shutil\n",
    "from keras import models\n",
    "from keras import layers\n",
    "from keras import losses\n",
    "from keras import Input\n",
    "from keras import Model\n",
    "import tensorflow as tf\n",
    "\n",
    "import matplotlib.pyplot as plt\n",
    "import numpy as np\n",
    "import pandas as pd\n",
    "import scipy.stats as sp\n",
    "from scipy.stats import kde\n",
    "import importlib as im\n",
    "import cnn_utilities as cn"
   ]
  },
  {
   "cell_type": "code",
   "execution_count": 2,
   "id": "acbb3888",
   "metadata": {},
   "outputs": [],
   "source": [
    "full_data = pd.read_csv(\"data_files/cblv_files/mtbd.cblv.csv\", \n",
    "                   header =None, error_bad_lines = False, index_col=0).to_numpy()\n",
    "\n",
    "full_labels = pd.read_csv(\"data_files/label_files/training_mtbd_labels.csv\",\n",
    "                    header = None, error_bad_lines = False).to_numpy()"
   ]
  },
  {
   "cell_type": "code",
   "execution_count": 3,
   "id": "502c382b",
   "metadata": {},
   "outputs": [],
   "source": [
    "# log sample rate and migration rate\n",
    "full_labels[:,10:12] = np.log(full_labels[:,10:12])"
   ]
  },
  {
   "cell_type": "code",
   "execution_count": 4,
   "id": "879a5602",
   "metadata": {},
   "outputs": [],
   "source": [
    "# randomize data order\n",
    "randomized_idx = np.random.permutation(full_data.shape[0])\n",
    "full_data = full_data[randomized_idx,:]\n",
    "full_labels = full_labels[randomized_idx,:]"
   ]
  },
  {
   "cell_type": "code",
   "execution_count": 5,
   "id": "bcc37810",
   "metadata": {},
   "outputs": [],
   "source": [
    "# setting up the data shape params and aux params\n",
    "num_locs = 5\n",
    "max_tips = 502\n",
    "num_test = 5000 \n",
    "num_validation = 10000 \n",
    "num_sample = full_data.shape[0]\n",
    "\n",
    "num_tips = cn.get_num_tips(full_data)\n",
    "subsample_prop = full_data[:,(max_tips-1) * 7]\n",
    "mu = full_data[:,(max_tips - 3) * 7]\n"
   ]
  },
  {
   "cell_type": "code",
   "execution_count": 6,
   "id": "2c22e68b",
   "metadata": {},
   "outputs": [],
   "source": [
    "# make labels\n",
    "labels = full_labels[0:num_sample, 0:5]\n",
    "train_labels = labels[(num_test + num_validation):,:]\n",
    "validation_labels = labels[num_test:num_test + num_validation,]\n",
    "test_labels = labels[:num_test,]"
   ]
  },
  {
   "cell_type": "code",
   "execution_count": 7,
   "id": "90ab596f",
   "metadata": {},
   "outputs": [],
   "source": [
    "# set up auxilliary priors and normalize; tree statistics and prior known parameter values (or ranges) \n",
    "# get num_tips and normalize\n",
    "aux_priors_treestats = np.vstack((mu, subsample_prop, num_tips, \n",
    "                                  full_labels[0:num_sample,12], \n",
    "                                  full_labels[0:num_sample,13])).transpose()\n",
    "norm_train_aux_priors_treestats, train_aux_priors_means, train_aux_priors_sd = cn.normalize(aux_priors_treestats[num_test + num_validation:,:])\n",
    "\n",
    "norm_val_aux_priors_treestats = cn.normalize(aux_priors_treestats[num_test:num_test + num_validation,], \n",
    "                                            (train_aux_priors_means, train_aux_priors_sd))\n",
    "norm_test_aux_priors_treestats = cn.normalize(aux_priors_treestats[:num_test,], \n",
    "                                            (train_aux_priors_means, train_aux_priors_sd))\n",
    "\n",
    "norm_aux_priors_treestats = np.concatenate((norm_test_aux_priors_treestats, \n",
    "                                            norm_val_aux_priors_treestats, \n",
    "                                            norm_train_aux_priors_treestats))\n"
   ]
  },
  {
   "cell_type": "code",
   "execution_count": 8,
   "id": "3ebb48e4",
   "metadata": {},
   "outputs": [
    {
     "name": "stdout",
     "output_type": "stream",
     "text": [
      "(178110, 499, 7) (178110, 5, 2)\n",
      "(5000, 499, 7) (5000, 5, 2)\n",
      "(10000, 499, 7) (10000, 5, 2)\n"
     ]
    }
   ],
   "source": [
    "# create data tensors\n",
    "        \n",
    "full_treeLocation_tensor, full_prior_tensor = cn.create_data_tensors(data = full_data[0:num_sample,:], \n",
    "                                                                        mu = norm_aux_priors_treestats[:,0],\n",
    "                                                                        subsample_prop = norm_aux_priors_treestats[:,1],\n",
    "                                                                        num_tips = norm_aux_priors_treestats[:,2],\n",
    "                                                                        tmrca = norm_aux_priors_treestats[:,3],\n",
    "                                                                        mean_bl = norm_aux_priors_treestats[:,4],\n",
    "                                                                        num_locs = num_locs,\n",
    "                                                                        max_tips = max_tips,\n",
    "                                                                        cblv_contains_mu_rho = True)\n",
    "\n",
    "train_treeLocation_tensor, validation_treeLocation_tensor,  test_treeLocation_tensor = cn.create_train_val_test_tensors(full_treeLocation_tensor, \n",
    "                                                                                                                        num_validation, num_test)\n",
    "train_prior_tensor, validation_prior_tensor,  test_prior_tensor = cn.create_train_val_test_tensors(full_prior_tensor, \n",
    "                                                                                                   num_validation, num_test)\n",
    "\n",
    "print(train_treeLocation_tensor.shape, train_prior_tensor.shape)\n",
    "print(test_treeLocation_tensor.shape, test_prior_tensor.shape)\n",
    "print(validation_treeLocation_tensor.shape, validation_prior_tensor.shape)"
   ]
  },
  {
   "cell_type": "code",
   "execution_count": 17,
   "id": "b3d01bfe",
   "metadata": {},
   "outputs": [],
   "source": [
    "# tree + geographical deep conv1D\n",
    "input_treeLocation_tensor = Input(shape = train_treeLocation_tensor.shape[1:3])\n",
    "w1 = layers.Conv1D(64, 3, strides = 1, activation = 'relu', padding = 'same')(input_treeLocation_tensor)\n",
    "w = layers.Conv1D(64, 5, activation = 'relu', padding = 'same')(w1)\n",
    "#w = layers.MaxPooling1D(pool_size = 3, stride = 1)(w)\n",
    "w = layers.Conv1D(96, 5, activation = 'relu', padding = 'same')(w)\n",
    "w = layers.Conv1D(128, 5, activation = 'relu', padding = 'same')(w)\n",
    "w = layers.Conv1D(256, 7, activation = 'relu', padding = 'same')(w)\n",
    "w_global_avg = layers.GlobalAveragePooling1D(name = 'w')(w)\n",
    "\n",
    "w_stride = layers.Conv1D(64, 7, strides = 3, activation = 'relu', padding = 'same')(w1)\n",
    "w_stride = layers.Conv1D(96, 9, strides = 6, activation = 'relu', padding = 'same')(w_stride)\n",
    "w_stride_global_avg = layers.GlobalAveragePooling1D(name = 'w_stride_global_avg')(w_stride)\n",
    "\n",
    "# tree + geolocation dilated\n",
    "w_dilated = layers.Conv1D(32, 3, dilation_rate = 2, activation = 'relu', padding = \"same\")(w1)\n",
    "w_dilated = layers.Conv1D(64, 5, dilation_rate = 4, activation = 'relu', padding = \"same\")(w_dilated)\n",
    "w_dilated = layers.Conv1D(128, 7, dilation_rate = 8, activation = 'relu', padding = \"same\")(w_dilated)\n",
    "w_dilated_global_avg = layers.GlobalAveragePooling1D(name = 'w_dilated_global_avg')(w_dilated)\n",
    "\n",
    "# prior known parameters and data statistics\n",
    "input_priors_tensor = Input(shape = train_prior_tensor.shape[1:3])\n",
    "priors = layers.Flatten()(input_priors_tensor)\n",
    "priors = layers.Dense(32, activation = 'relu', kernel_initializer = 'VarianceScaling', name = 'prior1')(priors)\n",
    "\n",
    "# concatenate all above -> deep fully connected network\n",
    "concatenated_wxyz = layers.Concatenate(axis = 1, name = 'all_concatenated')([w_stride_global_avg,\n",
    "                                                                             w_global_avg,\n",
    "                                                                             w_dilated_global_avg,\n",
    "                                                                             priors])\n",
    "\n",
    "wxyz = layers.Dense(256, activation = 'relu', kernel_initializer = 'VarianceScaling')(concatenated_wxyz)\n",
    "wxyz = layers.Dense(128, activation = 'relu', kernel_initializer = 'VarianceScaling')(wxyz)\n",
    "wxyz = layers.Dense(64, activation = 'relu', kernel_initializer = 'VarianceScaling')(wxyz)\n",
    "wxyz = layers.Dense(32, activation = 'relu', kernel_initializer = 'VarianceScaling')(wxyz)\n",
    "\n",
    "\n",
    "output_root_loc_layers = layers.Dense(5, activation = 'softmax', name = 'root_loc_output')(wxyz)\n",
    "\n"
   ]
  },
  {
   "cell_type": "code",
   "execution_count": 18,
   "id": "343186d6",
   "metadata": {
    "scrolled": true
   },
   "outputs": [
    {
     "name": "stdout",
     "output_type": "stream",
     "text": [
      "Train on 178110 samples, validate on 10000 samples\n",
      "Epoch 1/5\n",
      "178110/178110 [==============================] - 379s 2ms/step - loss: 0.5636 - acc: 0.8305 - auc_3: 0.9293 - categorical_crossentropy: 0.6960 - val_loss: 0.4962 - val_acc: 0.8536 - val_auc_3: 0.9552 - val_categorical_crossentropy: 0.5618\n",
      "Epoch 2/5\n",
      "178110/178110 [==============================] - 365s 2ms/step - loss: 0.4736 - acc: 0.8615 - auc_3: 0.9588 - categorical_crossentropy: 0.5349 - val_loss: 0.4551 - val_acc: 0.8685 - val_auc_3: 0.9612 - val_categorical_crossentropy: 0.5171\n",
      "Epoch 3/5\n",
      "178110/178110 [==============================] - 365s 2ms/step - loss: 0.4588 - acc: 0.8657 - auc_3: 0.9626 - categorical_crossentropy: 0.5063 - val_loss: 0.4704 - val_acc: 0.8607 - val_auc_3: 0.9638 - val_categorical_crossentropy: 0.4976\n",
      "Epoch 4/5\n",
      "178110/178110 [==============================] - 365s 2ms/step - loss: 0.4480 - acc: 0.8687 - auc_3: 0.9646 - categorical_crossentropy: 0.4910 - val_loss: 0.4468 - val_acc: 0.8705 - val_auc_3: 0.9654 - val_categorical_crossentropy: 0.4853\n",
      "Epoch 5/5\n",
      "178110/178110 [==============================] - 365s 2ms/step - loss: 0.4375 - acc: 0.8720 - auc_3: 0.9661 - categorical_crossentropy: 0.4798 - val_loss: 0.4476 - val_acc: 0.8692 - val_auc_3: 0.9666 - val_categorical_crossentropy: 0.4757\n"
     ]
    },
    {
     "data": {
      "image/png": "[encoded data removed]",
      "text/plain": [
       "<Figure size 432x288 with 1 Axes>"
      ]
     },
     "metadata": {
      "needs_background": "light"
     },
     "output_type": "display_data"
    },
    {
     "data": {
      "image/png": "[encoded data removed]",
      "text/plain": [
       "<Figure size 432x288 with 1 Axes>"
      ]
     },
     "metadata": {
      "needs_background": "light"
     },
     "output_type": "display_data"
    },
    {
     "data": {
      "image/png": "[encoded data removed]",
      "text/plain": [
       "<Figure size 432x288 with 1 Axes>"
      ]
     },
     "metadata": {
      "needs_background": "light"
     },
     "output_type": "display_data"
    },
    {
     "data": {
      "image/png": "[encoded data removed]",
      "text/plain": [
       "<Figure size 432x288 with 1 Axes>"
      ]
     },
     "metadata": {
      "needs_background": "light"
     },
     "output_type": "display_data"
    },
    {
     "name": "stdout",
     "output_type": "stream",
     "text": [
      "5000/5000 [==============================] - 5s 942us/step\n"
     ]
    },
    {
     "data": {
      "text/plain": [
       "[0.48665204820632935,\n",
       " 0.8604000210762024,\n",
       " 0.9665971398353577,\n",
       " 0.47562915086746216]"
      ]
     },
     "execution_count": 18,
     "metadata": {},
     "output_type": "execute_result"
    }
   ],
   "source": [
    "\n",
    "\n",
    "# POWER MSE\n",
    "# def myLoss(y_true, y_pred):\n",
    "#     power = 2\n",
    "#     power_loss = tf.math.abs(y_true - y_pred)**power\n",
    "#     return tf.reduce_mean(power_loss, axis=-1)\n",
    "\n",
    "myLoss = \"categorical_crossentropy\"\n",
    "\n",
    "# NOTE: 'sparse_categorical_crossentropy' doesn't require one-hot encoding.  Consider for future...\n",
    "\n",
    "# instantiate MODEL\n",
    "mymodel = Model(inputs = [input_treeLocation_tensor, input_priors_tensor], \n",
    "                outputs = output_root_loc_layers)\n",
    "mymodel.compile(optimizer = 'adam', \n",
    "                loss = myLoss, \n",
    "                metrics = ['acc', tf.keras.metrics.AUC(), tf.keras.metrics.CategoricalCrossentropy()])\n",
    "history = mymodel.fit([train_treeLocation_tensor, train_prior_tensor], \n",
    "                      train_labels,\n",
    "                    epochs = 5, batch_size = 128, \n",
    "                    validation_data = ([validation_treeLocation_tensor, validation_prior_tensor], \n",
    "                                       validation_labels))\n",
    "\n",
    "\n",
    "# make history plots\n",
    "cn.make_history_plot(history)\n",
    "\n",
    "mymodel.evaluate([test_treeLocation_tensor, test_prior_tensor], test_labels)"
   ]
  },
  {
   "cell_type": "code",
   "execution_count": 19,
   "id": "465d1e0b",
   "metadata": {},
   "outputs": [
    {
     "name": "stdout",
     "output_type": "stream",
     "text": [
      "tip frequency accuracy:  0.565294701558371\n",
      "cnn prediction accuracy:  0.8082686564214644\n",
      "top tip prediction accuracy:  0.6872\n",
      "top cnn prediction accuracy:  0.8604\n"
     ]
    },
    {
     "data": {
      "image/png": "[encoded data removed]",
      "text/plain": [
       "<Figure size 432x288 with 1 Axes>"
      ]
     },
     "metadata": {
      "needs_background": "light"
     },
     "output_type": "display_data"
    },
    {
     "data": {
      "image/png": "[encoded data removed]",
      "text/plain": [
       "<Figure size 432x288 with 1 Axes>"
      ]
     },
     "metadata": {
      "needs_background": "light"
     },
     "output_type": "display_data"
    }
   ],
   "source": [
    "##################33\n",
    "## TEST loc pred ###\n",
    "###################\n",
    "test_preds = mymodel.predict([test_treeLocation_tensor, test_prior_tensor])\n",
    "nt_nv = num_test + num_validation\n",
    "test_pred_labels = test_labels[:, 0:5]\n",
    "\n",
    "\n",
    "# how predictive are just counts without any phylo info?\n",
    "tip_loc_counts = np.zeros((test_treeLocation_tensor.shape[0],num_locs))\n",
    "tip_loc_distro = np.zeros((test_treeLocation_tensor.shape[0],num_locs))\n",
    "accuracy_tipfreq = np.zeros((test_treeLocation_tensor.shape[0]))\n",
    "accuracy_pred = np.zeros((test_treeLocation_tensor.shape[0]))\n",
    "acc_top_pred = np.zeros((test_treeLocation_tensor.shape[0]))\n",
    "acc_top_tipfreq = np.zeros((test_treeLocation_tensor.shape[0]))\n",
    "\n",
    "for i in range(0, test_treeLocation_tensor.shape[0]):    \n",
    "    tip_loc_counts[i,:] = sum(test_treeLocation_tensor[i,:,2:2+num_locs])\n",
    "    tip_loc_distro[i,:] = tip_loc_counts[i,:] / sum(tip_loc_counts[i,:])\n",
    "    accuracy_tipfreq[i] = sum(tip_loc_distro[i,:] * test_labels[i,:])\n",
    "    accuracy_pred[i] = sum(test_preds[i,:] * test_labels[i,:])\n",
    "    acc_top_tipfreq[i] = 1 * (np.argmax(tip_loc_distro[i,:]) == np.argmax(test_labels[i,:]))\n",
    "    acc_top_pred[i] = 1 * (np.argmax(test_preds[i,:]) == np.argmax(test_labels[i,:]))\n",
    "\n",
    "print(\"tip frequency accuracy: \", np.mean(accuracy_tipfreq))\n",
    "print(\"cnn prediction accuracy: \", np.mean(accuracy_pred))\n",
    "print(\"top tip prediction accuracy: \", np.mean(acc_top_tipfreq))\n",
    "print(\"top cnn prediction accuracy: \", np.mean(acc_top_pred))\n",
    "\n",
    " \n",
    "\n",
    "test_accuracy = np.max(test_preds * test_labels, axis = 1)\n",
    "plt.hist(test_accuracy, bins = 20, range = [0,1])\n",
    "plt.show()\n",
    "plt.hist(accuracy_tipfreq, bins = 20, range = [0,1])\n",
    "plt.show()\n",
    "\n",
    "import csv\n",
    "mymodel.save(\"saved_models/MTBD_128batch_12epoch_root_location.hdf5\")\n",
    "# mymodel.save(\"saved_models/train_largerRange_128batch_10epoch_root_location.hdf5\")\n"
   ]
  },
  {
   "cell_type": "code",
   "execution_count": null,
   "id": "4d00f81a",
   "metadata": {},
   "outputs": [],
   "source": []
  },
  {
   "cell_type": "code",
   "execution_count": null,
   "id": "6f3af893",
   "metadata": {},
   "outputs": [],
   "source": []
  }
 ],
 "metadata": {
  "celltoolbar": "Raw Cell Format",
  "kernelspec": {
   "display_name": "Python 3",
   "language": "python",
   "name": "python3"
  },
  "language_info": {
   "codemirror_mode": {
    "name": "ipython",
    "version": 3
   },
   "file_extension": ".py",
   "mimetype": "text/x-python",
   "name": "python",
   "nbconvert_exporter": "python",
   "pygments_lexer": "ipython3",
   "version": "3.6.13"
  }
 },
 "nbformat": 4,
 "nbformat_minor": 5
}
