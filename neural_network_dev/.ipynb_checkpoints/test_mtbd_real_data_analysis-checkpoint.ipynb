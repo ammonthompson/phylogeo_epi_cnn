{
 "cells": [
  {
   "cell_type": "code",
   "execution_count": 1,
   "id": "db4b6cb2",
   "metadata": {},
   "outputs": [
    {
     "name": "stderr",
     "output_type": "stream",
     "text": [
      "Using TensorFlow backend.\n"
     ]
    }
   ],
   "source": [
    "import os, shutil\n",
    "from keras import models\n",
    "import tensorflow as tf\n",
    "import matplotlib.pyplot as plt\n",
    "import numpy as np\n",
    "import pandas as pd\n",
    "import scipy.stats as sp\n",
    "from scipy.stats import kde\n",
    "import importlib as im\n",
    "import cnn_utilities as cn"
   ]
  },
  {
   "cell_type": "code",
   "execution_count": 2,
   "id": "44a55707",
   "metadata": {},
   "outputs": [],
   "source": [
    "###############################\n",
    "## analyze nadaeu 2021 trees ##\n",
    "###############################\n",
    "# read cblv data\n",
    "full_tree_cblv = pd.read_csv(\"../real_data_analysis/full_tree_0.5dayUnits_nadeau2021.cblv.csv\",\n",
    "                             header = None, error_bad_lines = False).to_numpy()\n",
    "A2_tree_cblv = pd.read_csv(\"../real_data_analysis/A2_tree_0.5dayUnits_nadeau2021.cblv.csv\",\n",
    "                    header = None, error_bad_lines = False).to_numpy()\n",
    "\n"
   ]
  },
  {
   "cell_type": "code",
   "execution_count": 3,
   "id": "8cc4e3f7",
   "metadata": {},
   "outputs": [],
   "source": [
    "# load trained model and normalization values\n",
    "mymodel = models.load_model(\"saved_models/MTBD_128batch_20epoch.hdf5\")\n",
    "mean_sd = pd.read_csv(\"saved_models/train_mtbd_128batch_20epoch_normalization_label_mean_sd.csv\", \n",
    "                     index_col = 0).to_numpy()\n",
    "\n",
    "# load root location model\n",
    "my_root_model = models.load_model(\"saved_models/MTBD_128batch_12epoch_root_location.hdf5\", compile = False)\n",
    "\n",
    "my_root_model.compile(loss = 'categorical_crossentropy', optimizer = 'rmsprop', \n",
    "                      metrics = ['acc', tf.keras.metrics.AUC(), tf.keras.metrics.CategoricalCrossentropy()])\n",
    "\n",
    "\n",
    "train_means = mean_sd[0,:]\n",
    "train_sd = mean_sd[1,:]\n",
    "train_aux_priors_means = train_means[7:,]\n",
    "train_aux_priors_sd = train_sd[7:,]\n",
    "\n",
    "num_locs = 5\n",
    "max_tips = 502\n"
   ]
  },
  {
   "cell_type": "code",
   "execution_count": 4,
   "id": "b9b6d767",
   "metadata": {},
   "outputs": [],
   "source": [
    "# revbayes output\n",
    "# compute and gather auxilliary prior data\n",
    "full_tree_subsample_prop = full_tree_cblv[:,(max_tips-1) * 7]\n",
    "full_tree_mu = full_tree_cblv[:,(max_tips - 3) * 7]\n",
    "full_tree_num_tips = cn.get_num_tips(full_tree_cblv)\n",
    "\n",
    "aux_full_tree = np.vstack((full_tree_mu, full_tree_subsample_prop, full_tree_num_tips,\n",
    "                          192.72, 25.36)).transpose()\n",
    "\n",
    "norm_aux_full_tree = cn.normalize(aux_full_tree, (train_aux_priors_means, train_aux_priors_sd))\n",
    "\n",
    "\n",
    "# create input tensors\n",
    "full_treeLocation_tensor, full_prior_tensor = cn.create_data_tensors(data = full_tree_cblv, \n",
    "                                                                        mu = norm_aux_full_tree[:,0],\n",
    "                                                                        subsample_prop = norm_aux_full_tree[:,1],\n",
    "                                                                        num_tips = norm_aux_full_tree[:,2],\n",
    "                                                                        tmrca = norm_aux_full_tree[:,3],\n",
    "                                                                        mean_bl = norm_aux_full_tree[:,4],\n",
    "                                                                        num_locs = num_locs,\n",
    "                                                                        max_tips = max_tips,\n",
    "                                                                        cblv_contains_mu_rho = True)\n",
    "\n",
    "\n",
    "a2_tree_subsample_prop = A2_tree_cblv[:,(max_tips-1) * 7]\n",
    "a2_treep_mu = A2_tree_cblv[:,(max_tips - 3) * 7]\n",
    "a2_tree_num_tips = cn.get_num_tips(A2_tree_cblv)\n",
    "\n",
    "aux_a2_tree = np.vstack((a2_treep_mu, a2_tree_subsample_prop, a2_tree_num_tips,\n",
    "                          109.14, 22.06)).transpose()\n",
    "\n",
    "norm_aux_a2 = cn.normalize(aux_a2_tree, (train_aux_priors_means, train_aux_priors_sd))\n",
    "\n",
    "\n",
    "# create input tensors\n",
    "a2_treeLocation_tensor, a2_prior_tensor = cn.create_data_tensors(data = A2_tree_cblv, \n",
    "                                                                    mu = norm_aux_a2[:,0],\n",
    "                                                                    subsample_prop = norm_aux_a2[:,1],\n",
    "                                                                    num_tips = norm_aux_a2[:,2],\n",
    "                                                                    tmrca = norm_aux_a2[:,3],\n",
    "                                                                    mean_bl = norm_aux_a2[:,4],\n",
    "                                                                    num_locs = num_locs,\n",
    "                                                                    max_tips = max_tips,\n",
    "                                                                    cblv_contains_mu_rho = True)\n",
    "\n"
   ]
  },
  {
   "cell_type": "code",
   "execution_count": null,
   "id": "53c3b2ab",
   "metadata": {},
   "outputs": [],
   "source": []
  },
  {
   "cell_type": "code",
   "execution_count": 5,
   "id": "77995db5",
   "metadata": {},
   "outputs": [],
   "source": [
    "# make phylodynammic pramater predictions\n",
    "full_tree_normed_preds = mymodel.predict([full_treeLocation_tensor, full_prior_tensor])\n",
    "a2_tree_normed_preds = mymodel.predict([a2_treeLocation_tensor, a2_prior_tensor])\n",
    "\n",
    "full_tree_preds = cn.denormalize(full_tree_normed_preds, train_means[0:7], train_sd[0:7])\n",
    "a2_tree_preds = cn.denormalize(a2_tree_normed_preds, train_means[0:7], train_sd[0:7])\n",
    "\n",
    "full_tree_preds[0] = np.exp(full_tree_preds[0])  # what is up with the [0] here????????????????????????\n",
    "a2_tree_preds[0] = np.exp(a2_tree_preds[0])\n"
   ]
  },
  {
   "cell_type": "code",
   "execution_count": 8,
   "id": "dbc38f64",
   "metadata": {},
   "outputs": [
    {
     "name": "stdout",
     "output_type": "stream",
     "text": [
      "full tree root locaiton predictoin\n",
      "[0.9264996  0.02284984 0.01496492 0.01426512 0.02142064]\n",
      "A2 clade root location prediction\n",
      "[0.06331375 0.03123724 0.5368568  0.28471044 0.08388177]\n"
     ]
    },
    {
     "data": {
      "image/png": "[encoded data removed]",
      "text/plain": [
       "<Figure size 432x288 with 1 Axes>"
      ]
     },
     "metadata": {
      "needs_background": "light"
     },
     "output_type": "display_data"
    },
    {
     "data": {
      "image/png": "[encoded data removed]",
      "text/plain": [
       "<Figure size 432x288 with 1 Axes>"
      ]
     },
     "metadata": {
      "needs_background": "light"
     },
     "output_type": "display_data"
    }
   ],
   "source": [
    "# make root location predictions\n",
    "full_tree_root_preds = my_root_model.predict([full_treeLocation_tensor, full_prior_tensor])\n",
    "a2_tree_root_preds = my_root_model.predict([a2_treeLocation_tensor, a2_prior_tensor])\n",
    "\n",
    "location_label = ['Hubai', 'France', 'Germany', 'Italy', 'Other Euro']\n",
    "plt.bar(range(0,5), full_tree_root_preds[0], tick_label = location_label)\n",
    "plt.ylabel = \"Probability\"\n",
    "plt.xlabel = 'Location of outbreak'\n",
    "plt.show()\n",
    "\n",
    "plt.bar(range(0,5), a2_tree_root_preds[0], tick_label = location_label)\n",
    "plt.ylabel = \"Probability\"\n",
    "plt.xlabel = 'Location of outbreak'\n",
    "plt.show()"
   ]
  },
  {
   "cell_type": "code",
   "execution_count": 9,
   "id": "c96ea143",
   "metadata": {},
   "outputs": [],
   "source": [
    "results = pd.DataFrame(np.concatenate((np.concatenate((full_tree_preds, full_tree_root_preds), axis =1),\n",
    "                                     np.concatenate((a2_tree_preds, a2_tree_root_preds), axis = 1)), axis = 0),\n",
    "                           columns = [\"R0_0\", \"R0_1\", \"R0_2\", \"R0_3\", \"R0_4\", \"sample_rate\", \"migration_rate\", \n",
    "                                 \"Loc0\",\"Loc1\", \"Loc2\", \"Loc3\", \"Loc4\"], index = [\"full_tree\", \"A2 clade\"])\n",
    "results.to_csv(\"output/mtbd_nadeau2021_cnn_preds_full_and_a2.tsv\", sep = \"\\t\", index = False)"
   ]
  },
  {
   "cell_type": "code",
   "execution_count": 10,
   "id": "3ec32c14",
   "metadata": {},
   "outputs": [
    {
     "data": {
      "text/html": [
       "<div>\n",
       "<style scoped>\n",
       "    .dataframe tbody tr th:only-of-type {\n",
       "        vertical-align: middle;\n",
       "    }\n",
       "\n",
       "    .dataframe tbody tr th {\n",
       "        vertical-align: top;\n",
       "    }\n",
       "\n",
       "    .dataframe thead th {\n",
       "        text-align: right;\n",
       "    }\n",
       "</style>\n",
       "<table border=\"1\" class=\"dataframe\">\n",
       "  <thead>\n",
       "    <tr style=\"text-align: right;\">\n",
       "      <th></th>\n",
       "      <th>R0_0</th>\n",
       "      <th>R0_1</th>\n",
       "      <th>R0_2</th>\n",
       "      <th>R0_3</th>\n",
       "      <th>R0_4</th>\n",
       "      <th>sample_rate</th>\n",
       "      <th>migration_rate</th>\n",
       "      <th>Loc0</th>\n",
       "      <th>Loc1</th>\n",
       "      <th>Loc2</th>\n",
       "      <th>Loc3</th>\n",
       "      <th>Loc4</th>\n",
       "    </tr>\n",
       "  </thead>\n",
       "  <tbody>\n",
       "    <tr>\n",
       "      <th>full_tree</th>\n",
       "      <td>1.292896</td>\n",
       "      <td>3.416028</td>\n",
       "      <td>3.008875</td>\n",
       "      <td>2.187521</td>\n",
       "      <td>3.120212</td>\n",
       "      <td>0.00044</td>\n",
       "      <td>0.000633</td>\n",
       "      <td>0.926500</td>\n",
       "      <td>0.022850</td>\n",
       "      <td>0.014965</td>\n",
       "      <td>0.014265</td>\n",
       "      <td>0.021421</td>\n",
       "    </tr>\n",
       "    <tr>\n",
       "      <th>A2 clade</th>\n",
       "      <td>1.542503</td>\n",
       "      <td>3.872497</td>\n",
       "      <td>2.001673</td>\n",
       "      <td>2.543917</td>\n",
       "      <td>3.460597</td>\n",
       "      <td>0.00027</td>\n",
       "      <td>0.001431</td>\n",
       "      <td>0.063314</td>\n",
       "      <td>0.031237</td>\n",
       "      <td>0.536857</td>\n",
       "      <td>0.284710</td>\n",
       "      <td>0.083882</td>\n",
       "    </tr>\n",
       "  </tbody>\n",
       "</table>\n",
       "</div>"
      ],
      "text/plain": [
       "               R0_0      R0_1      R0_2      R0_3      R0_4  sample_rate  \\\n",
       "full_tree  1.292896  3.416028  3.008875  2.187521  3.120212      0.00044   \n",
       "A2 clade   1.542503  3.872497  2.001673  2.543917  3.460597      0.00027   \n",
       "\n",
       "           migration_rate      Loc0      Loc1      Loc2      Loc3      Loc4  \n",
       "full_tree        0.000633  0.926500  0.022850  0.014965  0.014265  0.021421  \n",
       "A2 clade         0.001431  0.063314  0.031237  0.536857  0.284710  0.083882  "
      ]
     },
     "execution_count": 10,
     "metadata": {},
     "output_type": "execute_result"
    }
   ],
   "source": [
    "results\n"
   ]
  },
  {
   "cell_type": "code",
   "execution_count": null,
   "id": "78dc9b42",
   "metadata": {},
   "outputs": [],
   "source": []
  }
 ],
 "metadata": {
  "kernelspec": {
   "display_name": "Python 3",
   "language": "python",
   "name": "python3"
  },
  "language_info": {
   "codemirror_mode": {
    "name": "ipython",
    "version": 3
   },
   "file_extension": ".py",
   "mimetype": "text/x-python",
   "name": "python",
   "nbconvert_exporter": "python",
   "pygments_lexer": "ipython3",
   "version": "3.6.13"
  }
 },
 "nbformat": 4,
 "nbformat_minor": 5
}
