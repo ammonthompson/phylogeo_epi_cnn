{
 "cells": [
  {
   "cell_type": "code",
   "execution_count": 1,
   "id": "f4c44607",
   "metadata": {},
   "outputs": [
    {
     "name": "stderr",
     "output_type": "stream",
     "text": [
      "Using TensorFlow backend.\n"
     ]
    }
   ],
   "source": [
    "import os, shutil\n",
    "import io\n",
    "from io import StringIO\n",
    "import re\n",
    "import sys\n",
    "from contextlib import redirect_stdout\n",
    "from keras import models\n",
    "import tensorflow as tf\n",
    "import matplotlib.pyplot as plt\n",
    "import pandas as pd\n",
    "from keras import backend as K\n",
    "\n",
    "import time\n",
    "\n",
    "import numpy as np\n",
    "import scipy.optimize as opt\n",
    "import scipy.stats as sp\n",
    "from scipy.stats import kde\n",
    "import importlib as im\n",
    "from sklearn import metrics\n",
    "import csv\n",
    "\n",
    "# my utilities\n",
    "import cnn_utilities as cn\n",
    "import uq_utilities_2 as uq"
   ]
  },
  {
   "cell_type": "code",
   "execution_count": 12,
   "id": "d3d7247a",
   "metadata": {},
   "outputs": [
    {
     "name": "stdout",
     "output_type": "stream",
     "text": [
      "ERROR! Session/line number was not unique in database. History logging moved to new session 4146\n"
     ]
    }
   ],
   "source": [
    "# LOAD trained models and normalization values\n",
    "# point est model\n",
    "\n",
    "mtbd_mean_sd = pd.read_csv(\"trained_quantile_CNN/cqr_trained_mtbd_normalization_label_mean_sd.csv\",\n",
    "                           index_col=0).to_numpy()\n",
    "\n",
    "\n",
    "# quantile models\n",
    "q95_model = models.load_model(\"trained_quantile_CNN/cqr95_MTBD.hdf5\", compile = False)\n",
    "\n",
    "\n"
   ]
  },
  {
   "cell_type": "code",
   "execution_count": 13,
   "id": "8af05e68",
   "metadata": {},
   "outputs": [],
   "source": [
    "\n",
    "############ checking coverage #################\n"
   ]
  },
  {
   "cell_type": "code",
   "execution_count": 100,
   "id": "537fd9ad",
   "metadata": {},
   "outputs": [
    {
     "name": "stdout",
     "output_type": "stream",
     "text": [
      "ERROR! Session/line number was not unique in database. History logging moved to new session 4165\n"
     ]
    }
   ],
   "source": [
    "##########################\n",
    "# calibration data set ###\n",
    "##########################\n",
    "uq_mtbd_cblv_data = pd.read_csv(\"data_files/labels_and_preds/uq_calibration_mtbd_sets_0to15.cblv.csv\",\n",
    "                            header =None, error_bad_lines = False, index_col = 0).to_numpy()\n",
    "uq_labels = pd.read_table(\"data_files/labels_and_preds/uq_calibration_mtbd_sets_0to15_labels.tsv\", header = 0).to_numpy()\n"
   ]
  },
  {
   "cell_type": "code",
   "execution_count": 101,
   "id": "6b94ccf3",
   "metadata": {},
   "outputs": [],
   "source": [
    "# log R0 sample rate and migration rate\n",
    "\n",
    "# setting up the data shape params and aux params\n",
    "train_means = mtbd_mean_sd[0,:]\n",
    "train_sd = mtbd_mean_sd[1,:]\n",
    "train_aux_priors_means = train_means[7:,]\n",
    "train_aux_priors_sd = train_sd[7:,]\n",
    "\n",
    "num_locs = 5\n",
    "max_tips = 502\n"
   ]
  },
  {
   "cell_type": "code",
   "execution_count": 103,
   "id": "13e51870",
   "metadata": {},
   "outputs": [],
   "source": [
    "mtbd_subsample_prop = uq_mtbd_cblv_data[:,(max_tips-1) * 7]\n",
    "mtbd_mu = uq_mtbd_cblv_data[:,(max_tips - 3) * 7]\n",
    "mtbd_num_tips = cn.get_num_tips(uq_mtbd_cblv_data)\n",
    "\n",
    "aux_mtbd = np.vstack((mtbd_mu, mtbd_subsample_prop, mtbd_num_tips,\n",
    "                          uq_labels[:,12], uq_labels[:,13])).transpose()\n",
    "\n",
    "norm_aux_mtbd = cn.normalize(aux_mtbd, (train_aux_priors_means, train_aux_priors_sd))\n",
    "\n",
    "\n",
    "# create input tensors\n",
    "mtbd_treeLocation_tensor, mtbd_prior_tensor = cn.create_data_tensors(data = uq_mtbd_cblv_data, \n",
    "                                                                        mu = norm_aux_mtbd[:,0],\n",
    "                                                                        subsample_prop = norm_aux_mtbd[:,1],\n",
    "                                                                        num_tips = norm_aux_mtbd[:,2],\n",
    "                                                                        tmrca = norm_aux_mtbd[:,3],\n",
    "                                                                        mean_bl = norm_aux_mtbd[:,4],\n",
    "                                                                        num_locs = num_locs,\n",
    "                                                                        max_tips = max_tips,\n",
    "                                                                        cblv_contains_mu_rho = True)\n",
    "\n",
    "\n"
   ]
  },
  {
   "cell_type": "code",
   "execution_count": 104,
   "id": "bf9bbdb6",
   "metadata": {},
   "outputs": [
    {
     "name": "stdout",
     "output_type": "stream",
     "text": [
      "done\n"
     ]
    }
   ],
   "source": [
    "# PREDICT R0, sample rate, migration rate\n",
    "cnn_norm_preds =  np.array(q95_model.predict([mtbd_treeLocation_tensor, mtbd_prior_tensor]))\n",
    "\n",
    "uq_normalized_labels = cn.normalize(np.log(uq_labels[:,0:7]), mtbd_mean_sd[:,0:7])\n",
    "\n",
    "print(\"done\")"
   ]
  },
  {
   "cell_type": "code",
   "execution_count": 105,
   "id": "dc681a76",
   "metadata": {},
   "outputs": [
    {
     "name": "stdout",
     "output_type": "stream",
     "text": [
      "done\n"
     ]
    }
   ],
   "source": [
    "# holdout a validation set for after calibration\n",
    "# split calibration prediction dat for conformal prediction interval estimation and validation\n",
    "uq_num_val = 5000\n",
    "\n",
    "cal_uq_normalized_labels = uq_normalized_labels[uq_num_val:,:]\n",
    "cal_norm_preds = cnn_norm_preds[:,uq_num_val:,:]\n",
    "\n",
    "dj_norm_cqr = uq.get_CQR_constant(cal_norm_preds, cal_uq_normalized_labels, \n",
    "                                          inner_quantile=0.95, symmetric = False)\n",
    "\n",
    "\n",
    "print(\"done\")"
   ]
  },
  {
   "cell_type": "code",
   "execution_count": 128,
   "id": "e4e98e95",
   "metadata": {},
   "outputs": [
    {
     "name": "stdout",
     "output_type": "stream",
     "text": [
      "done\n"
     ]
    }
   ],
   "source": [
    "# function for computing all quantiles for calibration validation and \n",
    "# each experiment and populating an output dictionary\n",
    "\n",
    "# uniform prior boundaries. Use for fair comparison against Bayesian method\n",
    "prior_bounds = np.array([[2, 8],[0.0001, 0.005], [0.0001, 0.005]])\n",
    "\n",
    "def get_adj_ci(pred, adj):\n",
    "    if(len(adj.shape) > 1):\n",
    "        return np.array((pred[0] + adj[0,:], pred[1] + adj[1,:]))\n",
    "    else:\n",
    "        return np.array((pred[0] - adj, pred[1] + adj))\n",
    "\n",
    "    \n",
    "def get_cqr_ci(treeloc_tensor, prior_tensor, adj_CQR):\n",
    "    tm = train_means[0:7]\n",
    "    tsd = train_sd[0:7]\n",
    "    \n",
    "    # PREDICT R0, sample rate, migration rate\n",
    "    preds = np.array(q95_model.predict([treeloc_tensor, prior_tensor]))\n",
    "    \n",
    "    adj_uq = get_adj_ci(preds, adj_CQR)\n",
    "        \n",
    "    # denormalize\n",
    "    adj_lin_uq = np.exp(cn.denormalize(adj_uq, tm, tsd))\n",
    "    \n",
    "        \n",
    "    # set quantiles that extend beyond the prior bounds to the boundary value\n",
    "    prior_bounds = np.array([[0.9,15],[0.9,15],[0.9,15],[0.9,15],[0.9,15],[0.0001,0.005],[0.0001,0.005]])\n",
    "    for i in range(prior_bounds.shape[0]):\n",
    "        # adjust prior violating intervals to boundary value\n",
    "        too_low_idx = np.where(adj_lin_uq[0,:,i] < prior_bounds[i,0])\n",
    "        too_high_idx = np.where(adj_lin_uq[1,:,i] > prior_bounds[i,1])\n",
    "        adj_lin_uq[0,too_low_idx,i] = prior_bounds[i,0]\n",
    "        adj_lin_uq[1,too_high_idx,i] = prior_bounds[i,1]\n",
    "\n",
    "    \n",
    "    return(adj_lin_uq)\n",
    "    \n",
    "\n",
    "    \n",
    "print(\"done\")"
   ]
  },
  {
   "cell_type": "code",
   "execution_count": 107,
   "id": "f32695e8",
   "metadata": {},
   "outputs": [],
   "source": [
    "# get coverages and output files for CQR validation set\n",
    "uq_val_labels  =  np.exp(cn.denormalize(uq_normalized_labels[:uq_num_val,:], train_means[0:7], train_sd[0:7]))\n",
    "adj_val_uq = get_cqr_ci(mtbd_treeLocation_tensor[:uq_num_val,:,:], mtbd_prior_tensor[:uq_num_val,:], dj_norm_cqr)"
   ]
  },
  {
   "cell_type": "code",
   "execution_count": 108,
   "id": "b5913d86",
   "metadata": {
    "scrolled": true
   },
   "outputs": [
    {
     "data": {
      "image/png": "[encoded data removed]",
      "text/plain": [
       "<Figure size 432x288 with 1 Axes>"
      ]
     },
     "metadata": {
      "needs_background": "light"
     },
     "output_type": "display_data"
    },
    {
     "data": {
      "image/png": "[encoded data removed]",
      "text/plain": [
       "<Figure size 432x288 with 1 Axes>"
      ]
     },
     "metadata": {
      "needs_background": "light"
     },
     "output_type": "display_data"
    },
    {
     "data": {
      "image/png": "[encoded data removed]",
      "text/plain": [
       "<Figure size 432x288 with 1 Axes>"
      ]
     },
     "metadata": {
      "needs_background": "light"
     },
     "output_type": "display_data"
    },
    {
     "data": {
      "image/png": "[encoded data removed]",
      "text/plain": [
       "<Figure size 432x288 with 1 Axes>"
      ]
     },
     "metadata": {
      "needs_background": "light"
     },
     "output_type": "display_data"
    },
    {
     "data": {
      "image/png": "[encoded data removed]",
      "text/plain": [
       "<Figure size 432x288 with 1 Axes>"
      ]
     },
     "metadata": {
      "needs_background": "light"
     },
     "output_type": "display_data"
    },
    {
     "data": {
      "image/png": "[encoded data removed]",
      "text/plain": [
       "<Figure size 432x288 with 1 Axes>"
      ]
     },
     "metadata": {
      "needs_background": "light"
     },
     "output_type": "display_data"
    }
   ],
   "source": [
    "# checking stuff before I'm wrecking stuff\n",
    "\n",
    "check_preds = np.exp(cn.denormalize(cnn_norm_preds[:,:uq_num_val,:], train_means[0:7], train_sd[0:7]))\n",
    "plt.hist(uq_val_labels[:,0])\n",
    "plt.show()\n",
    "\n",
    "plt.hist(np.exp(cn.denormalize(cal_uq_normalized_labels[:,0], train_means[0], train_sd[0])))\n",
    "plt.show()\n",
    "plt.plot(check_preds[1,:,0], uq_val_labels[:,0], 'o')\n",
    "plt.plot((0,4),(2,16), color = \"red\")\n",
    "plt.show()\n",
    "plt.hist(check_preds[0,:,0], bins = 100)\n",
    "plt.hist(check_preds[1,:,0], alpha = 0.5, bins = 100)\n",
    "plt.show()\n",
    "\n",
    "\n",
    "uq.plot_QI(check_preds[0,0:100,0:1].T, check_preds[1,0:100,:1].T, uq_val_labels[0:100,0:1].T, \n",
    "                     param_names = [\"R_\" + str(i) for i in range(2)])\n",
    "\n",
    "uq.plot_QI(adj_val_uq[0,0:100,0:1].T, adj_val_uq[1,0:100,:1].T, uq_val_labels[0:100,0:1].T, \n",
    "                     param_names = [\"R_\" + str(i) for i in range(2)])\n",
    "\n"
   ]
  },
  {
   "cell_type": "code",
   "execution_count": 109,
   "id": "2033bdc3",
   "metadata": {},
   "outputs": [
    {
     "name": "stdout",
     "output_type": "stream",
     "text": [
      "before:\n",
      "94.1\n",
      "95.19999999999999\n",
      "94.86\n",
      "94.98\n",
      "91.47999999999999\n",
      "96.84\n",
      "95.44\n",
      "\n",
      "after:\n",
      "95.19999999999999\n",
      "94.94\n",
      "94.5\n",
      "94.8\n",
      "94.86\n",
      "94.96\n",
      "95.16\n"
     ]
    }
   ],
   "source": [
    "# check coverage\n",
    "#before comform\n",
    "print(\"before:\")\n",
    "for n in range(adj_val_uq.shape[2]):\n",
    "    count = 0\n",
    "    for i in range(adj_val_uq.shape[1]):\n",
    "        if check_preds[0,i,n] <= uq_val_labels[i,n] <= check_preds[1,i,n]:\n",
    "            count += 1\n",
    "\n",
    "    percentage = count / adj_val_uq[:,:,0].shape[1] * 100\n",
    "    print(percentage)\n",
    "# after\n",
    "print(\"\\nafter:\")\n",
    "for n in range(adj_val_uq.shape[2]):\n",
    "    count = 0\n",
    "    for i in range(adj_val_uq.shape[1]):\n",
    "        if adj_val_uq[0,i,n] <= uq_val_labels[i,n] <= adj_val_uq[1,i,n]:\n",
    "            count += 1\n",
    "\n",
    "    percentage = count / adj_val_uq[:,:,0].shape[1] * 100\n",
    "    print(percentage)\n"
   ]
  },
  {
   "cell_type": "code",
   "execution_count": 19,
   "id": "4ab57074",
   "metadata": {},
   "outputs": [
    {
     "name": "stdout",
     "output_type": "stream",
     "text": [
      "ERROR! Session/line number was not unique in database. History logging moved to new session 4151\n"
     ]
    }
   ],
   "source": [
    "\n",
    "\n",
    "#####################################\n",
    "## get coverages from experimente ###\n",
    "#####################################\n",
    "\n"
   ]
  },
  {
   "cell_type": "code",
   "execution_count": 131,
   "id": "44a55707",
   "metadata": {},
   "outputs": [],
   "source": [
    "###############################\n",
    "## analyze nadaeu 2021 trees ##\n",
    "###############################\n",
    "# read cblv data\n",
    "full_tree_cblv = pd.read_csv(\"../../real_data_analysis/full_tree_0.5dayUnits_nadeau2021.cblv.csv\",\n",
    "                             header = None, error_bad_lines = False).to_numpy()\n",
    "A2_tree_cblv = pd.read_csv(\"../../real_data_analysis/A2_tree_0.5dayUnits_nadeau2021.cblv.csv\",\n",
    "                    header = None, error_bad_lines = False).to_numpy()\n",
    "\n"
   ]
  },
  {
   "cell_type": "code",
   "execution_count": 132,
   "id": "5e546c6c",
   "metadata": {},
   "outputs": [],
   "source": [
    "# revbayes output\n",
    "# compute and gather auxilliary prior data\n",
    "full_tree_subsample_prop = full_tree_cblv[:,(max_tips-1) * 7]\n",
    "full_tree_mu = full_tree_cblv[:,(max_tips - 3) * 7]\n",
    "full_tree_num_tips = cn.get_num_tips(full_tree_cblv)\n",
    "\n",
    "aux_full_tree = np.vstack((full_tree_mu, full_tree_subsample_prop, full_tree_num_tips,\n",
    "                          192.72, 25.36)).transpose()\n",
    "\n",
    "norm_aux_full_tree = cn.normalize(aux_full_tree, (train_aux_priors_means, train_aux_priors_sd))"
   ]
  },
  {
   "cell_type": "code",
   "execution_count": 133,
   "id": "88a1b891",
   "metadata": {},
   "outputs": [],
   "source": [
    "# create input tensors\n",
    "full_treeLocation_tensor, full_prior_tensor = cn.create_data_tensors(data = full_tree_cblv, \n",
    "                                                                        mu = norm_aux_full_tree[:,0],\n",
    "                                                                        subsample_prop = norm_aux_full_tree[:,1],\n",
    "                                                                        num_tips = norm_aux_full_tree[:,2],\n",
    "                                                                        tmrca = norm_aux_full_tree[:,3],\n",
    "                                                                        mean_bl = norm_aux_full_tree[:,4],\n",
    "                                                                        num_locs = num_locs,\n",
    "                                                                        max_tips = max_tips,\n",
    "                                                                        cblv_contains_mu_rho = True)\n",
    "\n",
    "\n",
    "a2_tree_subsample_prop = A2_tree_cblv[:,(max_tips-1) * 7]\n",
    "a2_treep_mu = A2_tree_cblv[:,(max_tips - 3) * 7]\n",
    "a2_tree_num_tips = cn.get_num_tips(A2_tree_cblv)\n",
    "\n",
    "aux_a2_tree = np.vstack((a2_treep_mu, a2_tree_subsample_prop, a2_tree_num_tips,\n",
    "                          109.14, 22.06)).transpose()\n",
    "\n",
    "norm_aux_a2 = cn.normalize(aux_a2_tree, (train_aux_priors_means, train_aux_priors_sd))\n",
    "\n",
    "\n",
    "# create input tensors\n",
    "a2_treeLocation_tensor, a2_prior_tensor = cn.create_data_tensors(data = A2_tree_cblv, \n",
    "                                                                    mu = norm_aux_a2[:,0],\n",
    "                                                                    subsample_prop = norm_aux_a2[:,1],\n",
    "                                                                    num_tips = norm_aux_a2[:,2],\n",
    "                                                                    tmrca = norm_aux_a2[:,3],\n",
    "                                                                    mean_bl = norm_aux_a2[:,4],\n",
    "                                                                    num_locs = num_locs,\n",
    "                                                                    max_tips = max_tips,\n",
    "                                                                    cblv_contains_mu_rho = True)"
   ]
  },
  {
   "cell_type": "code",
   "execution_count": 173,
   "id": "3522787d",
   "metadata": {},
   "outputs": [],
   "source": [
    "# make phylodynammic pramater predictions\n",
    "fulltree_q = get_cqr_ci(full_treeLocation_tensor, full_prior_tensor, dj_norm_cqr)[:,0,0:7]\n",
    "a2_q = get_cqr_ci(a2_treeLocation_tensor, a2_prior_tensor, dj_norm_cqr)[:,0,0:7]"
   ]
  },
  {
   "cell_type": "code",
   "execution_count": 174,
   "id": "5538e9a4",
   "metadata": {},
   "outputs": [],
   "source": [
    "fulltree_q_a2_q = np.hstack((np.array(fulltree_q).T, np.array(a2_q).T))\n",
    "df_mtbd_ci = pd.DataFrame(fulltree_q_a2_q, \n",
    "                          index = np.concatenate(([\"R_\" + str(i) for i in range(5)], [\"sample_rate\", \"m_rate\"])), \n",
    "                               columns = [\"fulltree_lower_q\", \"fulltree_upper_q\", \"A2_lower_q\", \"A2_upper_q\"])\n",
    "df_mtbd_ci.to_csv('../output/nadeau2021_mtbd_95ci.tsv', sep = \"\\t\", index = True)"
   ]
  },
  {
   "cell_type": "code",
   "execution_count": 136,
   "id": "6a78bec0",
   "metadata": {},
   "outputs": [
    {
     "data": {
      "text/plain": [
       "array([[0.9       , 3.2182912 , 1.24991776, 1.82313602, 2.88469105],\n",
       "       [3.51583513, 5.39781686, 4.11112323, 3.39781418, 4.87449873]])"
      ]
     },
     "execution_count": 136,
     "metadata": {},
     "output_type": "execute_result"
    }
   ],
   "source": [
    "a2_q"
   ]
  },
  {
   "cell_type": "code",
   "execution_count": 138,
   "id": "0184ecdc",
   "metadata": {},
   "outputs": [
    {
     "data": {
      "text/plain": [
       "array([[0.9       , 2.16909828, 1.73645946, 1.24575759, 2.42475544],\n",
       "       [1.98768632, 4.12552657, 3.9663805 , 2.77541435, 3.84654932]])"
      ]
     },
     "execution_count": 138,
     "metadata": {},
     "output_type": "execute_result"
    }
   ],
   "source": [
    "fulltree_q"
   ]
  },
  {
   "cell_type": "code",
   "execution_count": 137,
   "id": "47a21f54",
   "metadata": {},
   "outputs": [
    {
     "data": {
      "text/plain": [
       "array([[[8.07777917e-01, 3.11188743e+00, 1.21762456e+00, 1.76268395e+00,\n",
       "         2.73291379e+00, 1.57074387e-04, 5.22408826e-04]],\n",
       "\n",
       "       [[3.39295939e+00, 5.34473089e+00, 4.07488040e+00, 3.35054020e+00,\n",
       "         4.68917906e+00, 4.00155825e-04, 3.81094927e-03]]])"
      ]
     },
     "execution_count": 137,
     "metadata": {},
     "output_type": "execute_result"
    }
   ],
   "source": [
    "np.exp(cn.denormalize(q95_model.predict([a2_treeLocation_tensor, a2_prior_tensor]), train_means[0:7], train_sd[0:7]))"
   ]
  },
  {
   "cell_type": "code",
   "execution_count": 139,
   "id": "17d8702c",
   "metadata": {},
   "outputs": [
    {
     "data": {
      "text/plain": [
       "array([[[6.99791867e-01, 2.09738313e+00, 1.69159583e+00, 1.20445040e+00,\n",
       "         2.29717757e+00, 2.47102752e-04, 4.19909318e-04]],\n",
       "\n",
       "       [[1.91821821e+00, 4.08495321e+00, 3.93141370e+00, 2.73679985e+00,\n",
       "         3.70031044e+00, 1.01241339e-03, 1.86634696e-03]]])"
      ]
     },
     "execution_count": 139,
     "metadata": {},
     "output_type": "execute_result"
    }
   ],
   "source": [
    "np.exp(cn.denormalize(q95_model.predict([full_treeLocation_tensor, full_prior_tensor]), train_means[0:7], train_sd[0:7]))"
   ]
  },
  {
   "cell_type": "code",
   "execution_count": 147,
   "id": "162aa405",
   "metadata": {},
   "outputs": [
    {
     "name": "stdout",
     "output_type": "stream",
     "text": [
      "full tree 95% sampling proportion: delta/mu\n",
      "[0.004939999999999999, 0.02]\n",
      "note that Nadeau et al. 2021 estimates for each region and ranges \n",
      "from about 0.0025 to 0.12 and is strongly influenced by their informed prior\n"
     ]
    }
   ],
   "source": [
    "print(\"full tree 95% sampling proportion: delta/mu\")\n",
    "print([0.000247/0.05, 0.001/0.05])\n",
    "print(\"\"\"note that Nadeau et al. 2021 estimates for each region and ranges \n",
    "from about 0.0025 to 0.12 and is strongly influenced by their informed prior\"\"\")"
   ]
  },
  {
   "cell_type": "code",
   "execution_count": 154,
   "id": "d6e83ec3",
   "metadata": {},
   "outputs": [
    {
     "name": "stdout",
     "output_type": "stream",
     "text": [
      "migration proportion: m/mu\n",
      "[0.0084, 0.038]\n",
      "this means our CNN thinks that between 1 and 4% of infected individuals travels to one of the other regions\n",
      "Our simulations assumed the migration proportion was between: \n",
      "[0.002, 0.09999999999999999]\n"
     ]
    }
   ],
   "source": [
    "print(\"migration proportion: m/mu\")\n",
    "print([0.00042/0.05, 0.0019/0.05])\n",
    "print(\"this means our CNN thinks that between 1 and 4% of infected individuals travels to one of the other regions\")\n",
    "print(\"\"\"Our simulations assumed the migration proportion was between: \"\"\" )\n",
    "print([0.0001/0.05, 0.005/0.05])"
   ]
  },
  {
   "cell_type": "code",
   "execution_count": 153,
   "id": "2c0a8695",
   "metadata": {},
   "outputs": [
    {
     "name": "stdout",
     "output_type": "stream",
     "text": [
      "nudaeu's migration rate estimates are in the neighborhood of 0.1 to 10 \n",
      "and their assumed recovery rate is: 36.5 per year. taking m/mu: \n",
      "[0.0027397260273972603, 0.273972602739726]\n"
     ]
    }
   ],
   "source": [
    "print(\"\"\"nudaeu's migration rate estimates are in the neighborhood of 0.1 to 10 \n",
    "and their assumed recovery rate is: 36.5 per year. taking m/mu: \"\"\")\n",
    "print([0.1/36.5, 10/36.5])\n",
    "print(\"\"\"Our simulations assumed the migration proportion was between: \"\"\" )\n",
    "print([])"
   ]
  },
  {
   "cell_type": "code",
   "execution_count": null,
   "id": "744b28a7",
   "metadata": {},
   "outputs": [],
   "source": []
  }
 ],
 "metadata": {
  "celltoolbar": "Raw Cell Format",
  "kernelspec": {
   "display_name": "Python 3",
   "language": "python",
   "name": "python3"
  },
  "language_info": {
   "codemirror_mode": {
    "name": "ipython",
    "version": 3
   },
   "file_extension": ".py",
   "mimetype": "text/x-python",
   "name": "python",
   "nbconvert_exporter": "python",
   "pygments_lexer": "ipython3",
   "version": "3.6.13"
  }
 },
 "nbformat": 4,
 "nbformat_minor": 5
}
