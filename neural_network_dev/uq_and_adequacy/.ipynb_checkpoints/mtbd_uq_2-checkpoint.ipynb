{
 "cells": [
  {
   "cell_type": "code",
   "execution_count": 1,
   "id": "0a9618a6",
   "metadata": {},
   "outputs": [
    {
     "name": "stderr",
     "output_type": "stream",
     "text": [
      "Using TensorFlow backend.\n"
     ]
    }
   ],
   "source": [
    "import os, shutil\n",
    "import io\n",
    "from io import StringIO\n",
    "import re\n",
    "import sys\n",
    "from contextlib import redirect_stdout\n",
    "from keras import models\n",
    "import tensorflow as tf\n",
    "import matplotlib.pyplot as plt\n",
    "import pandas as pd\n",
    "\n",
    "import numpy as np\n",
    "import scipy.optimize as opt\n",
    "import scipy.stats as sp\n",
    "from scipy.stats import kde\n",
    "import importlib as im\n",
    "from sklearn import metrics\n",
    "import csv\n",
    "\n",
    "import cnn_utilities as cn\n",
    "import uq_utilities_2 as uq"
   ]
  },
  {
   "cell_type": "code",
   "execution_count": 109,
   "id": "2812a365",
   "metadata": {},
   "outputs": [],
   "source": [
    "####### MTBD ###############\n",
    "\n",
    "#### multitype bds model\n",
    "# load trained model and normalization values\n",
    "mtbd_mymodel = models.load_model(\"../saved_models/MTBD_128batch_20epoch.hdf5\")\n",
    "mtbd_mean_sd = pd.read_csv(\"../saved_models/train_mtbd_128batch_20epoch_normalization_label_mean_sd.csv\", \n",
    "                     index_col = 0).to_numpy()"
   ]
  },
  {
   "cell_type": "code",
   "execution_count": 117,
   "id": "d697f7f9",
   "metadata": {},
   "outputs": [],
   "source": [
    "mtbd_train_means = mtbd_mean_sd[0,:]\n",
    "mtbd_train_sd = mtbd_mean_sd[1,:]\n",
    "mtbd_train_aux_priors_means = mtbd_train_means[7:,]\n",
    "mtbd_train_aux_priors_sd = mtbd_train_sd[7:,]\n",
    "\n",
    "num_locs = 5\n",
    "max_tips = 502"
   ]
  },
  {
   "cell_type": "code",
   "execution_count": 118,
   "id": "5a707169",
   "metadata": {},
   "outputs": [],
   "source": [
    "train_mtbd_data = pd.read_csv(\"../data_files/training_mtbd.cblv.csv\", \n",
    "                   header =None, error_bad_lines = False, index_col = 0).to_numpy()\n"
   ]
  },
  {
   "cell_type": "code",
   "execution_count": 119,
   "id": "ba4322dd",
   "metadata": {},
   "outputs": [],
   "source": [
    "train_mtbd_labels = pd.read_csv(\"../data_files/training_mtbd_labels.csv\",\n",
    "                    header = None, error_bad_lines = False).to_numpy()"
   ]
  },
  {
   "cell_type": "code",
   "execution_count": 121,
   "id": "8e2cfdf6",
   "metadata": {},
   "outputs": [],
   "source": [
    "# num tips and mu data\n",
    "mtbd_data_mu_ntips = pd.read_table(\"data_files/labels_and_preds/mtbd_param_values_numtips_propsamp.txt\", \n",
    "                                  header = 0).to_numpy()\n",
    "mtbd_data_mu_ntips = np.column_stack((mtbd_data_mu_ntips[:,0], mtbd_data_mu_ntips[:,1]/mtbd_data_mu_ntips[:,2]))"
   ]
  },
  {
   "cell_type": "code",
   "execution_count": 122,
   "id": "1a9dcea7",
   "metadata": {},
   "outputs": [],
   "source": [
    "# log R0 sample rate and migration rate\n",
    "train_mtbd_labels[:,5:12] = np.log(train_mtbd_labels[:,5:12])\n",
    "\n",
    "# setting up the data shape params and aux params\n",
    "num_locs = 5\n",
    "max_tips = 502\n",
    "num_sample = train_mtbd_data.shape[0]\n",
    "\n",
    "num_tips = cn.get_num_tips(train_mtbd_data)\n",
    "subsample_prop = train_mtbd_data[:,(max_tips-1) * 7]\n",
    "mu = train_mtbd_data[:,(max_tips - 3) * 7]"
   ]
  },
  {
   "cell_type": "code",
   "execution_count": 123,
   "id": "b8494425",
   "metadata": {},
   "outputs": [
    {
     "name": "stdout",
     "output_type": "stream",
     "text": [
      "(193110, 3514)\n",
      "(193110, 14)\n"
     ]
    }
   ],
   "source": [
    "print(train_mtbd_data.shape)\n",
    "print(train_mtbd_labels.shape)"
   ]
  },
  {
   "cell_type": "code",
   "execution_count": 124,
   "id": "6047f26a",
   "metadata": {},
   "outputs": [
    {
     "name": "stdout",
     "output_type": "stream",
     "text": [
      "(193110, 499, 7) (193110, 5, 2)\n"
     ]
    }
   ],
   "source": [
    "# normalize labels\n",
    "labels = train_mtbd_labels[:,5:12]\n",
    "\n",
    "\n",
    "# set up auxilliary priors and normalize; tree statistics and prior known parameter values (or ranges) \n",
    "# get num_tips and normalize\n",
    "aux_priors_treestats = np.vstack((mu, subsample_prop, num_tips, \n",
    "                                  train_mtbd_labels[0:num_sample,12], \n",
    "                                  train_mtbd_labels[0:num_sample,13])).transpose()\n",
    "norm_train_aux_priors_treestats, train_aux_priors_means, train_aux_priors_sd = cn.normalize(aux_priors_treestats)\n",
    "\n",
    "\n",
    "\n",
    "# create data tensors\n",
    "        \n",
    "full_treeLocation_tensor, full_prior_tensor = cn.create_data_tensors(data = train_mtbd_data[0:num_sample,:], \n",
    "                                                                        mu = norm_train_aux_priors_treestats[:,0],\n",
    "                                                                        subsample_prop = norm_train_aux_priors_treestats[:,1],\n",
    "                                                                        num_tips = norm_train_aux_priors_treestats[:,2],\n",
    "                                                                        tmrca = norm_train_aux_priors_treestats[:,3],\n",
    "                                                                        mean_bl = norm_train_aux_priors_treestats[:,4],\n",
    "                                                                        num_locs = num_locs,\n",
    "                                                                        max_tips = max_tips,\n",
    "                                                                        cblv_contains_mu_rho = True)\n",
    "\n",
    "\n",
    "print(full_treeLocation_tensor.shape, full_prior_tensor.shape)\n"
   ]
  },
  {
   "cell_type": "code",
   "execution_count": 125,
   "id": "a173c0a1",
   "metadata": {},
   "outputs": [],
   "source": [
    "# make preds\n",
    "# PREDICT R0_i, sample rate, migration rate\n",
    "test_mtbd_normalized_preds = mtbd_mymodel.predict([full_treeLocation_tensor, full_prior_tensor])"
   ]
  },
  {
   "cell_type": "code",
   "execution_count": 126,
   "id": "f45e736a",
   "metadata": {},
   "outputs": [],
   "source": [
    "# reversing normalization\n",
    "test_cnn_mtbd_preds = cn.denormalize(test_mtbd_normalized_preds, mtbd_train_means[0:7], mtbd_train_sd[0:7])\n",
    "\n",
    "test_cnn_mtbd_preds = np.column_stack((test_cnn_mtbd_preds[:,0:5], mtbd_data_mu_ntips))\n"
   ]
  },
  {
   "cell_type": "code",
   "execution_count": 128,
   "id": "c3613989",
   "metadata": {},
   "outputs": [],
   "source": [
    "mtbd_tree_preds = pd.read_table(\"../output/mtbd_nadeau2021_cnn_preds_full_and_a2.tsv\",\n",
    "                             header = 0, error_bad_lines = False).to_numpy()\n",
    "mtbd_tree_preds = np.column_stack((np.log(mtbd_tree_preds[:,0:5]), [0.05,0.05], [145,93]))\n",
    "fulltree_R0_preds = mtbd_tree_preds[0][0:5]\n",
    "a2_R0_preds = mtbd_tree_preds[1][0:5]"
   ]
  },
  {
   "cell_type": "code",
   "execution_count": 133,
   "id": "fc4373c7",
   "metadata": {},
   "outputs": [
    {
     "name": "stdout",
     "output_type": "stream",
     "text": [
      "ERROR! Session/line number was not unique in database. History logging moved to new session 3583\n",
      "0 complete. time: 778.6270086765289\n",
      "1 complete. time: 791.5997529029846\n",
      "2 complete. time: 794.1539669036865\n",
      "3 complete. time: 758.9245924949646\n",
      "4 complete. time: 764.7643220424652\n",
      "[(0.7343874837402257, 2.171132993213971), (1.8610547435058888, 5.141123125398311), (1.5999830221621079, 4.28523398388738), (1.2135657797670807, 3.427455760866178), (1.729673311458659, 4.690564784262948)]\n",
      "[(0.8787991436790704, 2.5758834786684566), (2.1577433254191805, 5.783425265993652), (1.0269365969073618, 2.8818193636558753), (1.4265221390890723, 3.970213434935342), (1.934718098419388, 5.183774367836716)]\n"
     ]
    }
   ],
   "source": [
    "import time\n",
    "\n",
    "\n",
    "nn = test_cnn_mtbd_preds.shape[0]\n",
    "\n",
    "fulltree_q = []\n",
    "a2_q = []\n",
    "for k in range(5):\n",
    "    start_time = time.time()\n",
    "    m, lower_q, upper_q = uq.get_CPI(test_cnn_mtbd_preds[0:nn,[k,5,6]], labels[0:nn,k], frac=0.05, inner_quantile=0.95)\n",
    "    q = (lower_q(mtbd_tree_preds[:,[k,5,6]]), upper_q(mtbd_tree_preds[:,[k,5,6]]))    \n",
    "    \n",
    "    fulltree_q.append((q[0][0], q[1][0]))  \n",
    "    a2_q.append((q[0][1], q[1][1]))\n",
    "    \n",
    "    print(str(k) + \" complete. time: \" + str(time.time() - start_time))\n",
    "\n",
    "print(fulltree_q)\n",
    "print(a2_q)"
   ]
  },
  {
   "cell_type": "code",
   "execution_count": 134,
   "id": "5c62dc4d",
   "metadata": {},
   "outputs": [],
   "source": [
    "# write to file\n",
    "fulltree_q_a2_q = np.hstack((np.array(fulltree_q).reshape((5,2)), np.array(a2_q).reshape((5,2))))\n",
    "df_mtbd_ci = pd.DataFrame(fulltree_q_a2_q, index = [\"R_\" + str(i) for i in range(5)], \n",
    "                               columns = [\"fulltree_lower_q\", \"fulltree_upper_q\", \"A2_lower_q\", \"A2_upper_q\"])\n",
    "df_mtbd_ci.to_csv('../output/nadeau2021_mtbd_95ci.tsv', sep = \"\\t\", index = True)"
   ]
  },
  {
   "cell_type": "code",
   "execution_count": null,
   "id": "637dbb45",
   "metadata": {},
   "outputs": [],
   "source": []
  }
 ],
 "metadata": {
  "kernelspec": {
   "display_name": "Python 3",
   "language": "python",
   "name": "python3"
  },
  "language_info": {
   "codemirror_mode": {
    "name": "ipython",
    "version": 3
   },
   "file_extension": ".py",
   "mimetype": "text/x-python",
   "name": "python",
   "nbconvert_exporter": "python",
   "pygments_lexer": "ipython3",
   "version": "3.6.13"
  }
 },
 "nbformat": 4,
 "nbformat_minor": 5
}
