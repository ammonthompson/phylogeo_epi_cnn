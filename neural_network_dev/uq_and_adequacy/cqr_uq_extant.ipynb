{
 "cells": [
  {
   "cell_type": "code",
   "execution_count": 1,
   "id": "f4c44607",
   "metadata": {},
   "outputs": [
    {
     "name": "stderr",
     "output_type": "stream",
     "text": [
      "Using TensorFlow backend.\n"
     ]
    }
   ],
   "source": [
    "import os, shutil\n",
    "import io\n",
    "from io import StringIO\n",
    "import re\n",
    "import sys\n",
    "from contextlib import redirect_stdout\n",
    "from keras import models\n",
    "import tensorflow as tf\n",
    "import matplotlib.pyplot as plt\n",
    "import pandas as pd\n",
    "from keras import backend as K\n",
    "\n",
    "import time\n",
    "\n",
    "import numpy as np\n",
    "import scipy.optimize as opt\n",
    "import scipy.stats as sp\n",
    "from scipy.stats import kde\n",
    "import importlib as im\n",
    "from sklearn import metrics\n",
    "import csv\n",
    "\n",
    "# my utilities\n",
    "import cnn_utilities as cn\n",
    "import uq_utilities_2 as uq"
   ]
  },
  {
   "cell_type": "code",
   "execution_count": 4,
   "id": "1ded20db",
   "metadata": {},
   "outputs": [
    {
     "name": "stdout",
     "output_type": "stream",
     "text": [
      "ERROR! Session/line number was not unique in database. History logging moved to new session 3722\n"
     ]
    }
   ],
   "source": []
  },
  {
   "cell_type": "code",
   "execution_count": 3,
   "id": "fd0a340d",
   "metadata": {},
   "outputs": [
    {
     "name": "stdout",
     "output_type": "stream",
     "text": [
      "ERROR! Session/line number was not unique in database. History logging moved to new session 3721\n"
     ]
    }
   ],
   "source": [
    "## define pinball loss functions\n",
    "qq = 0.75\n",
    "def pinball_loss(y_true, y_pred, tau):\n",
    "    err = y_true - y_pred\n",
    "    return K.mean(K.maximum(tau*err, (tau-1)*err), axis=-1)\n",
    "\n",
    "def pinball_loss_lower(y_true, y_pred):\n",
    "    return pinball_loss(y_true, y_pred, tau = (1-qq)/2)\n",
    "\n",
    "def pinball_loss_upper(y_true, y_pred):\n",
    "    return pinball_loss(y_true, y_pred, tau = 1 - (1-qq)/2)"
   ]
  },
  {
   "cell_type": "code",
   "execution_count": 18,
   "id": "bb3b325e",
   "metadata": {},
   "outputs": [],
   "source": [
    "# LOAD trained models and normalization values\n",
    "# point est model\n",
    "point_est_model = models.load_model(\"../saved_models/train_extant_R0_sampleRate_migrationRate.hdf5\")\n",
    "\n",
    "mean_sd = pd.read_csv(\"trained_quantile_CNN/cqr_train_extant_normalization_label_mean_sd.csv\",\n",
    "                           index_col=0).to_numpy()\n",
    "\n",
    "\n",
    "# quantile models\n",
    "q95_model = models.load_model(\"trained_quantile_CNN/cqr95_train_extant_R0_sampleRate_migrationRate.hdf5\",\n",
    "                              custom_objects = {'pinball_loss_lower': pinball_loss_lower, \n",
    "                                                'pinball_loss_upper': pinball_loss_upper})\n",
    "\n",
    "q90_model = models.load_model(\"trained_quantile_CNN/cqr90_train_extant_R0_sampleRate_migrationRate.hdf5\",\n",
    "                              custom_objects = {'pinball_loss_lower': pinball_loss_lower, \n",
    "                                                'pinball_loss_upper': pinball_loss_upper})\n",
    "\n",
    "\n",
    "q75_model = models.load_model(\"trained_quantile_CNN/cqr75_train_extant_R0_sampleRate_migrationRate.hdf5\",\n",
    "                              custom_objects = {'pinball_loss_lower': pinball_loss_lower, \n",
    "                                                'pinball_loss_upper': pinball_loss_upper})\n",
    "\n",
    "q50_model = models.load_model(\"trained_quantile_CNN/cqr50_train_extant_R0_sampleRate_migrationRate.hdf5\",\n",
    "                              custom_objects = {'pinball_loss_lower': pinball_loss_lower, \n",
    "                                                'pinball_loss_upper': pinball_loss_upper})\n",
    "\n",
    "\n",
    "q25_model = models.load_model(\"trained_quantile_CNN/cqr25_train_extant_R0_sampleRate_migrationRate.hdf5\",\n",
    "                              custom_objects = {'pinball_loss_lower': pinball_loss_lower, \n",
    "                                                'pinball_loss_upper': pinball_loss_upper})\n",
    "\n",
    "q10_model = models.load_model(\"trained_quantile_CNN/cqr10_train_extant_R0_sampleRate_migrationRate.hdf5\",\n",
    "                              custom_objects = {'pinball_loss_lower': pinball_loss_lower, \n",
    "                                                'pinball_loss_upper': pinball_loss_upper})\n",
    "\n",
    "\n",
    "q05_model = models.load_model(\"trained_quantile_CNN/cqr05_train_extant_R0_sampleRate_migrationRate.hdf5\",\n",
    "                              custom_objects = {'pinball_loss_lower': pinball_loss_lower, \n",
    "                                                'pinball_loss_upper': pinball_loss_upper})\n",
    "\n",
    "\n",
    "\n",
    "\n"
   ]
  },
  {
   "cell_type": "code",
   "execution_count": 6,
   "id": "6b94ccf3",
   "metadata": {},
   "outputs": [],
   "source": [
    "# load trained model and normalization values\n",
    "train_means = mean_sd[0,:]\n",
    "train_sd = mean_sd[1,:]\n",
    "train_aux_priors_means = train_means[3:,]\n",
    "train_aux_priors_sd = train_sd[3:,]\n",
    "\n",
    "num_locs = 5\n",
    "max_tips = 502\n"
   ]
  },
  {
   "cell_type": "code",
   "execution_count": 7,
   "id": "8af05e68",
   "metadata": {},
   "outputs": [],
   "source": [
    "\n",
    "############ checking coverage #################\n"
   ]
  },
  {
   "cell_type": "code",
   "execution_count": 19,
   "id": "537fd9ad",
   "metadata": {},
   "outputs": [],
   "source": [
    "# calibration data set\n",
    "uq_cal_data = pd.read_csv(\"data_files/labels_and_preds/uq_calibration_sets_0to40.cblv.csv\",\n",
    "                            header =None, error_bad_lines = False, index_col = 0).to_numpy()\n",
    "uq_cal_labels = pd.read_table(\"data_files/labels_and_preds/uq_calibration_sets_0to40_labels.tsv\", header = 0).to_numpy()\n",
    "uq_cal_mutips = pd.read_table(\"data_files/labels_and_preds/uq_calibration_sets_0to40_numtips_propsamp.txt\", header = 0).to_numpy()\n",
    "uq_cal_mutips = np.column_stack((uq_cal_mutips[:,0], uq_cal_mutips[:,1]/uq_cal_mutips[:,2]))"
   ]
  },
  {
   "cell_type": "code",
   "execution_count": null,
   "id": "92a619c2",
   "metadata": {},
   "outputs": [],
   "source": [
    "# split calibration prediction dat for conformal prediction interval estimation and validation\n",
    "uq_num_val = 5000\n",
    "\n",
    "# for measuring resulting coverage\n",
    "cal_val_preds = cnn_uq_cal_log_preds[0:uq_num_val,:]\n",
    "cal_val_labels = uq_cal_labels[0:uq_num_val,:]\n",
    "\n",
    "# for creating UQ\n",
    "cal_preds = cnn_uq_cal_log_preds[uq_num_val:,:]\n",
    "cal_labels = uq_cal_labels[uq_num_val:,:]"
   ]
  },
  {
   "cell_type": "code",
   "execution_count": 20,
   "id": "d63855b7",
   "metadata": {},
   "outputs": [],
   "source": [
    "# create input tensors\n",
    "uq_cal_subsample_prop = uq_cal_data[:,(max_tips-1) * 7]\n",
    "uq_cal_mu = uq_cal_data[:,(max_tips - 3) * 7]\n",
    "uq_cal_num_tips = cn.get_num_tips(uq_cal_data)\n",
    "\n",
    "aux_uq_cal = np.vstack((uq_cal_mu, uq_cal_subsample_prop, uq_cal_num_tips,\n",
    "                          uq_cal_labels[:,8], uq_cal_labels[:,9])).transpose()\n",
    "\n",
    "norm_aux_uq_cal = cn.normalize(aux_uq_cal, (train_aux_priors_means, train_aux_priors_sd))\n",
    "\n",
    "# create input tensors\n",
    "aux_uq_cal_treeLocation_tensor, aux_uq_cal_prior_tensor = cn.create_data_tensors(data = uq_cal_data, \n",
    "                                                                                    mu = norm_aux_uq_cal[:,0],\n",
    "                                                                                    subsample_prop = norm_aux_uq_cal[:,1],\n",
    "                                                                                    num_tips = norm_aux_uq_cal[:,2],\n",
    "                                                                                    tmrca = norm_aux_uq_cal[:,3],\n",
    "                                                                                    mean_bl = norm_aux_uq_cal[:,4],\n",
    "                                                                                    num_locs = num_locs,\n",
    "                                                                                    max_tips = max_tips,\n",
    "                                                                                    cblv_contains_mu_rho = True)"
   ]
  },
  {
   "cell_type": "code",
   "execution_count": 37,
   "id": "bf9bbdb6",
   "metadata": {},
   "outputs": [
    {
     "name": "stdout",
     "output_type": "stream",
     "text": [
      "ERROR! Session/line number was not unique in database. History logging moved to new session 3733\n"
     ]
    }
   ],
   "source": [
    "# PREDICT R0, sample rate, migration rate\n",
    "uq95_normalized_preds = q95_model.predict([aux_uq_cal_treeLocation_tensor, aux_uq_cal_prior_tensor])\n",
    "uq90_normalized_preds = q90_model.predict([aux_uq_cal_treeLocation_tensor, aux_uq_cal_prior_tensor])\n",
    "uq75_normalized_preds = q75_model.predict([aux_uq_cal_treeLocation_tensor, aux_uq_cal_prior_tensor])\n",
    "uq50_normalized_preds = q50_model.predict([aux_uq_cal_treeLocation_tensor, aux_uq_cal_prior_tensor])\n",
    "uq25_normalized_preds = q25_model.predict([aux_uq_cal_treeLocation_tensor, aux_uq_cal_prior_tensor])\n",
    "uq10_normalized_preds = q10_model.predict([aux_uq_cal_treeLocation_tensor, aux_uq_cal_prior_tensor])\n",
    "uq05_normalized_preds = q05_model.predict([aux_uq_cal_treeLocation_tensor, aux_uq_cal_prior_tensor])\n",
    "\n",
    "# reversing normalization\n",
    "cnn_uq95_preds = np.exp(cn.denormalize(uq95_normalized_preds, train_means[0:3], train_sd[0:3]))\n",
    "cnn_uq90_preds = np.exp(cn.denormalize(uq90_normalized_preds, train_means[0:3], train_sd[0:3]))\n",
    "cnn_uq75_preds = np.exp(cn.denormalize(uq75_normalized_preds, train_means[0:3], train_sd[0:3]))\n",
    "cnn_uq50_preds = np.exp(cn.denormalize(uq50_normalized_preds, train_means[0:3], train_sd[0:3]))\n",
    "cnn_uq25_preds = np.exp(cn.denormalize(uq25_normalized_preds, train_means[0:3], train_sd[0:3]))\n",
    "cnn_uq10_preds = np.exp(cn.denormalize(uq10_normalized_preds, train_means[0:3], train_sd[0:3]))\n",
    "cnn_uq05_preds = np.exp(cn.denormalize(uq05_normalized_preds, train_means[0:3], train_sd[0:3]))\n"
   ]
  },
  {
   "cell_type": "code",
   "execution_count": 195,
   "id": "a659d52d",
   "metadata": {},
   "outputs": [
    {
     "name": "stdout",
     "output_type": "stream",
     "text": [
      "(2, 108559, 3)\n",
      "(2, 5000, 3)\n"
     ]
    }
   ],
   "source": [
    "# holdout a validation set for after calibration\n",
    "# split calibration prediction dat for conformal prediction interval estimation and validation\n",
    "uq_num_val = 5000\n",
    "\n",
    "cal_uq_labels = uq_cal_labels[uq_num_val:,:]\n",
    "cal_uq95_preds = cnn_uq95_preds[:,uq_num_val:,:]\n",
    "cal_uq90_preds = cnn_uq90_preds[:,uq_num_val:,:]\n",
    "cal_uq75_preds = cnn_uq75_preds[:,uq_num_val:,:]\n",
    "cal_uq50_preds = cnn_uq50_preds[:,uq_num_val:,:]\n",
    "cal_uq25_preds = cnn_uq25_preds[:,uq_num_val:,:]\n",
    "cal_uq10_preds = cnn_uq10_preds[:,uq_num_val:,:]\n",
    "cal_uq05_preds = cnn_uq05_preds[:,uq_num_val:,:]\n",
    "\n",
    "uq_val_labels = uq_cal_labels[:uq_num_val,:]\n",
    "val_uq95_preds = cnn_uq95_preds[:,:uq_num_val,:]\n",
    "val_uq90_preds = cnn_uq90_preds[:,:uq_num_val,:]\n",
    "val_uq75_preds = cnn_uq75_preds[:,:uq_num_val,:]\n",
    "val_uq50_preds = cnn_uq50_preds[:,:uq_num_val,:]\n",
    "val_uq25_preds = cnn_uq25_preds[:,:uq_num_val,:]\n",
    "val_uq10_preds = cnn_uq10_preds[:,:uq_num_val,:]\n",
    "val_uq05_preds = cnn_uq05_preds[:,:uq_num_val,:]\n"
   ]
  },
  {
   "cell_type": "code",
   "execution_count": null,
   "id": "39975988",
   "metadata": {},
   "outputs": [],
   "source": [
    "# conformally adjust pinball estimates of ci\n",
    "def get_adj_ci(pred, adj):\n",
    "    return np.array((pred[0] - adj, pred[1] + adj))\n"
   ]
  },
  {
   "cell_type": "code",
   "execution_count": 196,
   "id": "f1e7911e",
   "metadata": {},
   "outputs": [],
   "source": [
    "# get quantile adjustment scalars for the three rate params\n",
    "adj_cqr95 = uq.get_CQR(cal_uq95_preds, cal_uq_labels, inner_quantile=0.95)\n",
    "adj_cqr90 = uq.get_CQR(cal_uq90_preds, cal_uq_labels, inner_quantile=0.90)\n",
    "adj_cqr75 = uq.get_CQR(cal_uq75_preds, cal_uq_labels, inner_quantile=0.75)\n",
    "adj_cqr50 = uq.get_CQR(cal_uq50_preds, cal_uq_labels, inner_quantile=0.50)\n",
    "adj_cqr25 = uq.get_CQR(cal_uq25_preds, cal_uq_labels, inner_quantile=0.25)\n",
    "adj_cqr10 = uq.get_CQR(cal_uq10_preds, cal_uq_labels, inner_quantile=0.10)\n",
    "adj_cqr05 = uq.get_CQR(cal_uq05_preds, cal_uq_labels, inner_quantile=0.05)\n",
    "\n",
    "# get validation quantiles\n",
    "adj_val_uq = {}\n",
    "adj_val_uq[0.05] = get_adj_ci(val_uq05_preds, adj_cqr05)\n",
    "adj_val_uq[0.10] = get_adj_ci(val_uq10_preds, adj_cqr10)\n",
    "adj_val_uq[0.25] = get_adj_ci(val_uq25_preds, adj_cqr25)\n",
    "adj_val_uq[0.50] = get_adj_ci(val_uq50_preds, adj_cqr50)\n",
    "adj_val_uq[0.75] = get_adj_ci(val_uq75_preds, adj_cqr75)\n",
    "adj_val_uq[0.90] = get_adj_ci(val_uq90_preds, adj_cqr90)\n",
    "adj_val_uq[0.95] = get_adj_ci(val_uq95_preds, adj_cqr95)\n"
   ]
  },
  {
   "cell_type": "code",
   "execution_count": 260,
   "id": "61675fc1",
   "metadata": {
    "collapsed": true
   },
   "outputs": [
    {
     "name": "stdout",
     "output_type": "stream",
     "text": [
      "Quantile 0.05, parameter 0 finished: 4.44\n",
      "Quantile 0.05, parameter 1 finished: 4.68\n",
      "Quantile 0.05, parameter 2 finished: 4.56\n",
      "Quantile 0.1, parameter 0 finished: 10.34\n",
      "Quantile 0.1, parameter 1 finished: 10.68\n",
      "Quantile 0.1, parameter 2 finished: 9.54\n",
      "Quantile 0.25, parameter 0 finished: 25.76\n",
      "Quantile 0.25, parameter 1 finished: 25.08\n",
      "Quantile 0.25, parameter 2 finished: 25.1\n",
      "Quantile 0.5, parameter 0 finished: 50.8\n",
      "Quantile 0.5, parameter 1 finished: 50.08\n",
      "Quantile 0.5, parameter 2 finished: 50.48\n",
      "Quantile 0.75, parameter 0 finished: 75.48\n",
      "Quantile 0.75, parameter 1 finished: 75.64\n",
      "Quantile 0.75, parameter 2 finished: 74.86\n",
      "Quantile 0.9, parameter 0 finished: 91.18\n",
      "Quantile 0.9, parameter 1 finished: 89.9\n",
      "Quantile 0.9, parameter 2 finished: 89.98\n",
      "Quantile 0.95, parameter 0 finished: 95.42\n",
      "Quantile 0.95, parameter 1 finished: 94.84\n",
      "Quantile 0.95, parameter 2 finished: 95.32\n",
      "ERROR! Session/line number was not unique in database. History logging moved to new session 3810\n"
     ]
    }
   ],
   "source": [
    "# get coverages and output files\n",
    "val_coverage = uq.make_cqr_coverage_set(adj_val_uq, uq_val_labels[:,0:3])\n",
    "make_output_files(val_coverage, adj_val_uq, \"output/validation_CQR\")\n",
    "\n",
    "df_uq_val_labels = pd.DataFrame(uq_val_labels[:,0:3],\n",
    "                             columns = [\"R0\", \"delta\", \"m\"])\n",
    "df_uq_val_labels.to_csv(\"output/validation_CQR_labels.tsv\", sep = \"\\t\", index = False)"
   ]
  },
  {
   "cell_type": "code",
   "execution_count": 289,
   "id": "e9128dec",
   "metadata": {},
   "outputs": [],
   "source": [
    "im.reload(uq)\n",
    "test_lq, test_uq = uq.get_adaptive_CQR(cal_uq75_preds, cal_uq_labels, num_grid_points = 10, inner_quantile=0.75)"
   ]
  },
  {
   "cell_type": "code",
   "execution_count": 290,
   "id": "59a9b42f",
   "metadata": {},
   "outputs": [
    {
     "name": "stdout",
     "output_type": "stream",
     "text": [
      "[[4.2293116  6.27413291 4.50434221 ... 4.13068002 3.79668342 4.63846012]\n",
      " [4.61054962 6.8225571  5.84031886 ... 4.45836557 4.28433088 5.24517167]]\n"
     ]
    },
    {
     "data": {
      "text/plain": [
       "(array([4.20988418, 6.24898493, 4.48304618, ..., 4.11273994, 3.78377994,\n",
       "        4.61643641]),\n",
       " array([4.63229266, 6.8422885 , 5.86791624, ..., 4.47928292, 4.30422878,\n",
       "        5.27020281]))"
      ]
     },
     "execution_count": 290,
     "metadata": {},
     "output_type": "execute_result"
    }
   ],
   "source": [
    "print(adj_val_uq[0.75][:,:,0])\n",
    "(test_lq['R0'](val_uq75_preds[0][:,0]), test_uq['R0'](val_uq75_preds[1][:,0]))\n"
   ]
  },
  {
   "cell_type": "code",
   "execution_count": null,
   "id": "ac810d84",
   "metadata": {},
   "outputs": [],
   "source": [
    "\n",
    "\n",
    "#####################################\n",
    "## get coverages from experimente ###\n",
    "#####################################\n",
    "\n"
   ]
  },
  {
   "cell_type": "code",
   "execution_count": 259,
   "id": "f7f0046b",
   "metadata": {},
   "outputs": [],
   "source": [
    "# function for computing all quantiles and populating an output dictionary\n",
    "def get_cqr_ci(treeloc_tensor, prior_tensor):\n",
    "    tm = train_means[0:3]\n",
    "    tsd = train_sd[0:3]\n",
    "    \n",
    "    # PREDICT R0, sample rate, migration rate\n",
    "    uq95 = q95_model.predict([treeloc_tensor, prior_tensor])\n",
    "    uq90 = q90_model.predict([treeloc_tensor, prior_tensor])\n",
    "    uq75 = q75_model.predict([treeloc_tensor, prior_tensor])\n",
    "    uq50 = q50_model.predict([treeloc_tensor, prior_tensor])\n",
    "    uq25 = q25_model.predict([treeloc_tensor, prior_tensor])\n",
    "    uq10 = q10_model.predict([treeloc_tensor, prior_tensor])\n",
    "    uq05 = q05_model.predict([treeloc_tensor, prior_tensor])\n",
    "    \n",
    "    # reversing normalization\n",
    "    lin_uq95_preds = np.exp(cn.denormalize(uq95, tm, tsd))\n",
    "    lin_uq90_preds = np.exp(cn.denormalize(uq90, tm, tsd))\n",
    "    lin_uq75_preds = np.exp(cn.denormalize(uq75, tm, tsd))\n",
    "    lin_uq50_preds = np.exp(cn.denormalize(uq50, tm, tsd))\n",
    "    lin_uq25_preds = np.exp(cn.denormalize(uq25, tm, tsd))\n",
    "    lin_uq10_preds = np.exp(cn.denormalize(uq10, tm, tsd))\n",
    "    lin_uq05_preds = np.exp(cn.denormalize(uq05, tm, tsd))\n",
    "    \n",
    "    # adjust\n",
    "    adj_uq = {}\n",
    "    adj_uq[0.05] = get_adj_ci(lin_uq05_preds, adj_cqr05)\n",
    "    adj_uq[0.10] = get_adj_ci(lin_uq10_preds, adj_cqr10)\n",
    "    adj_uq[0.25] = get_adj_ci(lin_uq25_preds, adj_cqr25)\n",
    "    adj_uq[0.50] = get_adj_ci(lin_uq50_preds, adj_cqr50)\n",
    "    adj_uq[0.75] = get_adj_ci(lin_uq75_preds, adj_cqr75)\n",
    "    adj_uq[0.90] = get_adj_ci(lin_uq90_preds, adj_cqr90)\n",
    "    adj_uq[0.95] = get_adj_ci(lin_uq95_preds, adj_cqr95)\n",
    "    \n",
    "    return(adj_uq)\n",
    "    "
   ]
  },
  {
   "cell_type": "code",
   "execution_count": 261,
   "id": "8adc18a4",
   "metadata": {},
   "outputs": [],
   "source": [
    "########################################\n",
    "# compare APE of CNN to that of phylo ##\n",
    "########################################\n",
    "\n",
    "extant_data = pd.read_csv(\"../data_files/extant_phylocomp.cblv.csv\", \n",
    "                   header =None, error_bad_lines = False, index_col = 0).to_numpy()\n",
    "\n",
    "extant_labels = pd.read_csv(\"../data_files/extant_phylocomp_labels.csv\",\n",
    "                    header = None, error_bad_lines = False).to_numpy()\n",
    "\n",
    "\n",
    "\n",
    "\n",
    "# compute and gather auxilliary prior data\n",
    "extant_subsample_prop = extant_data[:,(max_tips-1) * 7]\n",
    "phylocomp_mu = extant_data[:,(max_tips - 3) * 7]\n",
    "extant_num_tips = cn.get_num_tips(extant_data)\n",
    "\n",
    "aux_phylocomp = np.vstack((phylocomp_mu, extant_subsample_prop, extant_num_tips,\n",
    "                          extant_labels[:,8], extant_labels[:,9])).transpose()\n",
    "\n",
    "norm_aux_phylocomp = cn.normalize(aux_phylocomp, (train_aux_priors_means, train_aux_priors_sd))\n",
    "\n",
    "\n",
    "# create input tensors\n",
    "extant_treeLocation_tensor, extant_prior_tensor = cn.create_data_tensors(data = extant_data, \n",
    "                                                                                    mu = norm_aux_phylocomp[:,0],\n",
    "                                                                                    subsample_prop = norm_aux_phylocomp[:,1],\n",
    "                                                                                    num_tips = norm_aux_phylocomp[:,2],\n",
    "                                                                                    tmrca = norm_aux_phylocomp[:,3],\n",
    "                                                                                    mean_bl = norm_aux_phylocomp[:,4],\n",
    "                                                                                    num_locs = num_locs,\n",
    "                                                                                    max_tips = max_tips,\n",
    "                                                                                    cblv_contains_mu_rho = True)\n",
    "\n"
   ]
  },
  {
   "cell_type": "code",
   "execution_count": 262,
   "id": "3da41220",
   "metadata": {},
   "outputs": [],
   "source": [
    "# compute CQR and make files\n",
    "phylocomp_cqr = get_cqr_ci(extant_treeLocation_tensor, extant_prior_tensor)\n",
    "phylocomp_coverage = uq.make_cqr_coverage_set(phylocomp_cqr, extant_labels[:,5:8])\n",
    "make_output_files(phylocomp_coverage, phylocomp_cqr, \"output/phylocomp_CQR\")"
   ]
  },
  {
   "cell_type": "code",
   "execution_count": 265,
   "id": "3005aa74",
   "metadata": {},
   "outputs": [
    {
     "name": "stdout",
     "output_type": "stream",
     "text": [
      "Quantile 0.05, parameter 0 finished: 5.8\n",
      "Quantile 0.05, parameter 1 finished: 6.52\n",
      "Quantile 0.05, parameter 2 finished: 5.8\n",
      "Quantile 0.1, parameter 0 finished: 10.14\n",
      "Quantile 0.1, parameter 1 finished: 13.77\n",
      "Quantile 0.1, parameter 2 finished: 11.59\n",
      "Quantile 0.25, parameter 0 finished: 25.36\n",
      "Quantile 0.25, parameter 1 finished: 23.19\n",
      "Quantile 0.25, parameter 2 finished: 23.91\n",
      "Quantile 0.5, parameter 0 finished: 58.7\n",
      "Quantile 0.5, parameter 1 finished: 55.8\n",
      "Quantile 0.5, parameter 2 finished: 52.17\n",
      "Quantile 0.75, parameter 0 finished: 82.61\n",
      "Quantile 0.75, parameter 1 finished: 81.16\n",
      "Quantile 0.75, parameter 2 finished: 79.71\n",
      "Quantile 0.9, parameter 0 finished: 94.2\n",
      "Quantile 0.9, parameter 1 finished: 89.86\n",
      "Quantile 0.9, parameter 2 finished: 89.13\n",
      "Quantile 0.95, parameter 0 finished: 97.1\n",
      "Quantile 0.95, parameter 1 finished: 94.2\n",
      "Quantile 0.95, parameter 2 finished: 94.2\n"
     ]
    }
   ],
   "source": []
  },
  {
   "cell_type": "code",
   "execution_count": null,
   "id": "7c8c32ae",
   "metadata": {},
   "outputs": [],
   "source": []
  },
  {
   "cell_type": "code",
   "execution_count": null,
   "id": "24efc247",
   "metadata": {},
   "outputs": [],
   "source": []
  },
  {
   "cell_type": "code",
   "execution_count": null,
   "id": "0cf227f8",
   "metadata": {},
   "outputs": [],
   "source": []
  },
  {
   "cell_type": "code",
   "execution_count": null,
   "id": "5ec6b432",
   "metadata": {},
   "outputs": [],
   "source": []
  },
  {
   "cell_type": "code",
   "execution_count": null,
   "id": "ac92c359",
   "metadata": {},
   "outputs": [],
   "source": []
  },
  {
   "cell_type": "code",
   "execution_count": null,
   "id": "dbdae42b",
   "metadata": {},
   "outputs": [],
   "source": []
  }
 ],
 "metadata": {
  "celltoolbar": "Raw Cell Format",
  "kernelspec": {
   "display_name": "Python 3",
   "language": "python",
   "name": "python3"
  },
  "language_info": {
   "codemirror_mode": {
    "name": "ipython",
    "version": 3
   },
   "file_extension": ".py",
   "mimetype": "text/x-python",
   "name": "python",
   "nbconvert_exporter": "python",
   "pygments_lexer": "ipython3",
   "version": "3.6.13"
  }
 },
 "nbformat": 4,
 "nbformat_minor": 5
}
