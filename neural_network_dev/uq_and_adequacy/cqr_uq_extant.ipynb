{
 "cells": [
  {
   "cell_type": "code",
   "execution_count": 1,
   "id": "f4c44607",
   "metadata": {},
   "outputs": [
    {
     "name": "stderr",
     "output_type": "stream",
     "text": [
      "Using TensorFlow backend.\n"
     ]
    }
   ],
   "source": [
    "import os, shutil\n",
    "import io\n",
    "from io import StringIO\n",
    "import re\n",
    "import sys\n",
    "from contextlib import redirect_stdout\n",
    "from keras import models\n",
    "import tensorflow as tf\n",
    "import matplotlib.pyplot as plt\n",
    "import pandas as pd\n",
    "from keras import backend as K\n",
    "\n",
    "import time\n",
    "\n",
    "import numpy as np\n",
    "import scipy.optimize as opt\n",
    "import scipy.stats as sp\n",
    "from scipy.stats import kde\n",
    "import importlib as im\n",
    "from sklearn import metrics\n",
    "import csv\n",
    "\n",
    "# my utilities\n",
    "import cnn_utilities as cn\n",
    "import uq_utilities_2 as uq"
   ]
  },
  {
   "cell_type": "code",
   "execution_count": 4,
   "id": "31214e75",
   "metadata": {},
   "outputs": [
    {
     "name": "stdout",
     "output_type": "stream",
     "text": [
      "ERROR! Session/line number was not unique in database. History logging moved to new session 3722\n"
     ]
    }
   ],
   "source": []
  },
  {
   "cell_type": "code",
   "execution_count": 3,
   "id": "26f897c3",
   "metadata": {},
   "outputs": [
    {
     "name": "stdout",
     "output_type": "stream",
     "text": [
      "ERROR! Session/line number was not unique in database. History logging moved to new session 3721\n"
     ]
    }
   ],
   "source": [
    "## define pinball loss functions\n",
    "qq = 0.75\n",
    "def pinball_loss(y_true, y_pred, tau):\n",
    "    err = y_true - y_pred\n",
    "    return K.mean(K.maximum(tau*err, (tau-1)*err), axis=-1)\n",
    "\n",
    "def pinball_loss_lower(y_true, y_pred):\n",
    "    return pinball_loss(y_true, y_pred, tau = (1-qq)/2)\n",
    "\n",
    "def pinball_loss_upper(y_true, y_pred):\n",
    "    return pinball_loss(y_true, y_pred, tau = 1 - (1-qq)/2)"
   ]
  },
  {
   "cell_type": "code",
   "execution_count": 18,
   "id": "bc62754a",
   "metadata": {},
   "outputs": [],
   "source": [
    "# LOAD trained models and normalization values\n",
    "# point est model\n",
    "point_est_model = models.load_model(\"../saved_models/train_extant_R0_sampleRate_migrationRate.hdf5\")\n",
    "\n",
    "mean_sd = pd.read_csv(\"trained_quantile_CNN/cqr_train_extant_normalization_label_mean_sd.csv\",\n",
    "                           index_col=0).to_numpy()\n",
    "\n",
    "\n",
    "# quantile models\n",
    "q95_model = models.load_model(\"trained_quantile_CNN/cqr95_train_extant_R0_sampleRate_migrationRate.hdf5\",\n",
    "                              custom_objects = {'pinball_loss_lower': pinball_loss_lower, \n",
    "                                                'pinball_loss_upper': pinball_loss_upper})\n",
    "\n",
    "q90_model = models.load_model(\"trained_quantile_CNN/cqr90_train_extant_R0_sampleRate_migrationRate.hdf5\",\n",
    "                              custom_objects = {'pinball_loss_lower': pinball_loss_lower, \n",
    "                                                'pinball_loss_upper': pinball_loss_upper})\n",
    "\n",
    "\n",
    "q75_model = models.load_model(\"trained_quantile_CNN/cqr75_train_extant_R0_sampleRate_migrationRate.hdf5\",\n",
    "                              custom_objects = {'pinball_loss_lower': pinball_loss_lower, \n",
    "                                                'pinball_loss_upper': pinball_loss_upper})\n",
    "\n",
    "q50_model = models.load_model(\"trained_quantile_CNN/cqr50_train_extant_R0_sampleRate_migrationRate.hdf5\",\n",
    "                              custom_objects = {'pinball_loss_lower': pinball_loss_lower, \n",
    "                                                'pinball_loss_upper': pinball_loss_upper})\n",
    "\n",
    "\n",
    "q25_model = models.load_model(\"trained_quantile_CNN/cqr25_train_extant_R0_sampleRate_migrationRate.hdf5\",\n",
    "                              custom_objects = {'pinball_loss_lower': pinball_loss_lower, \n",
    "                                                'pinball_loss_upper': pinball_loss_upper})\n",
    "\n",
    "q10_model = models.load_model(\"trained_quantile_CNN/cqr10_train_extant_R0_sampleRate_migrationRate.hdf5\",\n",
    "                              custom_objects = {'pinball_loss_lower': pinball_loss_lower, \n",
    "                                                'pinball_loss_upper': pinball_loss_upper})\n",
    "\n",
    "\n",
    "q05_model = models.load_model(\"trained_quantile_CNN/cqr05_train_extant_R0_sampleRate_migrationRate.hdf5\",\n",
    "                              custom_objects = {'pinball_loss_lower': pinball_loss_lower, \n",
    "                                                'pinball_loss_upper': pinball_loss_upper})\n",
    "\n",
    "\n",
    "\n",
    "\n"
   ]
  },
  {
   "cell_type": "code",
   "execution_count": 6,
   "id": "6b94ccf3",
   "metadata": {},
   "outputs": [],
   "source": [
    "# load trained model and normalization values\n",
    "train_means = mean_sd[0,:]\n",
    "train_sd = mean_sd[1,:]\n",
    "train_aux_priors_means = train_means[3:,]\n",
    "train_aux_priors_sd = train_sd[3:,]\n",
    "\n",
    "num_locs = 5\n",
    "max_tips = 502\n"
   ]
  },
  {
   "cell_type": "code",
   "execution_count": 7,
   "id": "8af05e68",
   "metadata": {},
   "outputs": [],
   "source": [
    "\n",
    "############ checking coverage #################\n"
   ]
  },
  {
   "cell_type": "code",
   "execution_count": 19,
   "id": "537fd9ad",
   "metadata": {},
   "outputs": [],
   "source": [
    "# calibration data set\n",
    "uq_cal_data = pd.read_csv(\"data_files/labels_and_preds/uq_calibration_sets_0to40.cblv.csv\",\n",
    "                            header =None, error_bad_lines = False, index_col = 0).to_numpy()\n",
    "uq_cal_labels = pd.read_table(\"data_files/labels_and_preds/uq_calibration_sets_0to40_labels.tsv\", header = 0).to_numpy()\n",
    "uq_cal_mutips = pd.read_table(\"data_files/labels_and_preds/uq_calibration_sets_0to40_numtips_propsamp.txt\", header = 0).to_numpy()\n",
    "uq_cal_mutips = np.column_stack((uq_cal_mutips[:,0], uq_cal_mutips[:,1]/uq_cal_mutips[:,2]))"
   ]
  },
  {
   "cell_type": "code",
   "execution_count": null,
   "id": "27c0b7e9",
   "metadata": {},
   "outputs": [],
   "source": [
    "# split calibration prediction dat for conformal prediction interval estimation and validation\n",
    "uq_num_val = 5000\n",
    "\n",
    "# for measuring resulting coverage\n",
    "cal_val_preds = cnn_uq_cal_log_preds[0:uq_num_val,:]\n",
    "cal_val_labels = uq_cal_labels[0:uq_num_val,:]\n",
    "\n",
    "# for creating UQ\n",
    "cal_preds = cnn_uq_cal_log_preds[uq_num_val:,:]\n",
    "cal_labels = uq_cal_labels[uq_num_val:,:]"
   ]
  },
  {
   "cell_type": "code",
   "execution_count": 20,
   "id": "f8ae92d7",
   "metadata": {},
   "outputs": [],
   "source": [
    "# create input tensors\n",
    "uq_cal_subsample_prop = uq_cal_data[:,(max_tips-1) * 7]\n",
    "uq_cal_mu = uq_cal_data[:,(max_tips - 3) * 7]\n",
    "uq_cal_num_tips = cn.get_num_tips(uq_cal_data)\n",
    "\n",
    "aux_uq_cal = np.vstack((uq_cal_mu, uq_cal_subsample_prop, uq_cal_num_tips,\n",
    "                          uq_cal_labels[:,8], uq_cal_labels[:,9])).transpose()\n",
    "\n",
    "norm_aux_uq_cal = cn.normalize(aux_uq_cal, (train_aux_priors_means, train_aux_priors_sd))\n",
    "\n",
    "# create input tensors\n",
    "aux_uq_cal_treeLocation_tensor, aux_uq_cal_prior_tensor = cn.create_data_tensors(data = uq_cal_data, \n",
    "                                                                                    mu = norm_aux_uq_cal[:,0],\n",
    "                                                                                    subsample_prop = norm_aux_uq_cal[:,1],\n",
    "                                                                                    num_tips = norm_aux_uq_cal[:,2],\n",
    "                                                                                    tmrca = norm_aux_uq_cal[:,3],\n",
    "                                                                                    mean_bl = norm_aux_uq_cal[:,4],\n",
    "                                                                                    num_locs = num_locs,\n",
    "                                                                                    max_tips = max_tips,\n",
    "                                                                                    cblv_contains_mu_rho = True)"
   ]
  },
  {
   "cell_type": "code",
   "execution_count": 37,
   "id": "bf9bbdb6",
   "metadata": {},
   "outputs": [
    {
     "name": "stdout",
     "output_type": "stream",
     "text": [
      "ERROR! Session/line number was not unique in database. History logging moved to new session 3733\n"
     ]
    }
   ],
   "source": [
    "# PREDICT R0, sample rate, migration rate\n",
    "uq95_normalized_preds = q95_model.predict([aux_uq_cal_treeLocation_tensor, aux_uq_cal_prior_tensor])\n",
    "uq90_normalized_preds = q90_model.predict([aux_uq_cal_treeLocation_tensor, aux_uq_cal_prior_tensor])\n",
    "uq75_normalized_preds = q75_model.predict([aux_uq_cal_treeLocation_tensor, aux_uq_cal_prior_tensor])\n",
    "uq50_normalized_preds = q50_model.predict([aux_uq_cal_treeLocation_tensor, aux_uq_cal_prior_tensor])\n",
    "uq25_normalized_preds = q25_model.predict([aux_uq_cal_treeLocation_tensor, aux_uq_cal_prior_tensor])\n",
    "uq10_normalized_preds = q10_model.predict([aux_uq_cal_treeLocation_tensor, aux_uq_cal_prior_tensor])\n",
    "uq05_normalized_preds = q05_model.predict([aux_uq_cal_treeLocation_tensor, aux_uq_cal_prior_tensor])\n",
    "\n",
    "# reversing normalization\n",
    "cnn_uq95_preds = np.exp(cn.denormalize(uq95_normalized_preds, train_means[0:3], train_sd[0:3]))\n",
    "cnn_uq90_preds = np.exp(cn.denormalize(uq90_normalized_preds, train_means[0:3], train_sd[0:3]))\n",
    "cnn_uq75_preds = np.exp(cn.denormalize(uq75_normalized_preds, train_means[0:3], train_sd[0:3]))\n",
    "cnn_uq50_preds = np.exp(cn.denormalize(uq50_normalized_preds, train_means[0:3], train_sd[0:3]))\n",
    "cnn_uq25_preds = np.exp(cn.denormalize(uq25_normalized_preds, train_means[0:3], train_sd[0:3]))\n",
    "cnn_uq10_preds = np.exp(cn.denormalize(uq10_normalized_preds, train_means[0:3], train_sd[0:3]))\n",
    "cnn_uq05_preds = np.exp(cn.denormalize(uq05_normalized_preds, train_means[0:3], train_sd[0:3]))\n",
    "\n"
   ]
  },
  {
   "cell_type": "code",
   "execution_count": 195,
   "id": "260d56a7",
   "metadata": {},
   "outputs": [
    {
     "name": "stdout",
     "output_type": "stream",
     "text": [
      "(2, 108559, 3)\n",
      "(2, 5000, 3)\n"
     ]
    }
   ],
   "source": [
    "# holdout a validation set for after calibration\n",
    "# split calibration prediction dat for conformal prediction interval estimation and validation\n",
    "uq_num_val = 5000\n",
    "\n",
    "cal_uq_labels = uq_cal_labels[uq_num_val:,:]\n",
    "cal_uq95_preds = cnn_uq95_preds[:,uq_num_val:,:]\n",
    "cal_uq90_preds = cnn_uq90_preds[:,uq_num_val:,:]\n",
    "cal_uq75_preds = cnn_uq75_preds[:,uq_num_val:,:]\n",
    "cal_uq50_preds = cnn_uq50_preds[:,uq_num_val:,:]\n",
    "cal_uq25_preds = cnn_uq25_preds[:,uq_num_val:,:]\n",
    "cal_uq10_preds = cnn_uq10_preds[:,uq_num_val:,:]\n",
    "cal_uq05_preds = cnn_uq05_preds[:,uq_num_val:,:]\n",
    "\n",
    "uq_val_labels = uq_cal_labels[:uq_num_val,:]\n",
    "val_uq95_preds = cnn_uq95_preds[:,:uq_num_val,:]\n",
    "val_uq90_preds = cnn_uq90_preds[:,:uq_num_val,:]\n",
    "val_uq75_preds = cnn_uq75_preds[:,:uq_num_val,:]\n",
    "val_uq50_preds = cnn_uq50_preds[:,:uq_num_val,:]\n",
    "val_uq25_preds = cnn_uq25_preds[:,:uq_num_val,:]\n",
    "val_uq10_preds = cnn_uq10_preds[:,:uq_num_val,:]\n",
    "val_uq05_preds = cnn_uq05_preds[:,:uq_num_val,:]\n",
    "\n",
    "print(cal_uq50_preds.shape)\n",
    "print(val_uq50_preds.shape)\n"
   ]
  },
  {
   "cell_type": "code",
   "execution_count": 196,
   "id": "da36f8fb",
   "metadata": {},
   "outputs": [],
   "source": [
    "# get quantile adjustment scalars for the three rate params\n",
    "adj_cqr95 = uq.get_CQR(cal_uq95_preds, cal_uq_labels, inner_quantile=0.95)\n",
    "adj_cqr90 = uq.get_CQR(cal_uq90_preds, cal_uq_labels, inner_quantile=0.90)\n",
    "adj_cqr75 = uq.get_CQR(cal_uq75_preds, cal_uq_labels, inner_quantile=0.75)\n",
    "adj_cqr50 = uq.get_CQR(cal_uq50_preds, cal_uq_labels, inner_quantile=0.50)\n",
    "adj_cqr25 = uq.get_CQR(cal_uq25_preds, cal_uq_labels, inner_quantile=0.25)\n",
    "adj_cqr10 = uq.get_CQR(cal_uq10_preds, cal_uq_labels, inner_quantile=0.10)\n",
    "adj_cqr05 = uq.get_CQR(cal_uq05_preds, cal_uq_labels, inner_quantile=0.05)\n",
    "\n",
    "# get validation quantiles\n",
    "adj_val_uq = {}\n",
    "adj_val_uq[0.95] = get_adj_ci(val_uq95_preds, adj_cqr95)\n",
    "adj_val_uq[0.90] = get_adj_ci(val_uq90_preds, adj_cqr90)\n",
    "adj_val_uq[0.75] = get_adj_ci(val_uq75_preds, adj_cqr75)\n",
    "adj_val_uq[0.50] = get_adj_ci(val_uq50_preds, adj_cqr50)\n",
    "adj_val_uq[0.25] = get_adj_ci(val_uq25_preds, adj_cqr25)\n",
    "adj_val_uq[0.10] = get_adj_ci(val_uq10_preds, adj_cqr10)\n",
    "adj_val_uq[0.05] = get_adj_ci(val_uq05_preds, adj_cqr05)\n"
   ]
  },
  {
   "cell_type": "code",
   "execution_count": 235,
   "id": "b3e4101f",
   "metadata": {},
   "outputs": [
    {
     "name": "stdout",
     "output_type": "stream",
     "text": [
      "Quantile 0.95, parameter 0 finished: 95.42\n",
      "Quantile 0.95, parameter 1 finished: 94.84\n",
      "Quantile 0.95, parameter 2 finished: 95.32\n",
      "Quantile 0.9, parameter 0 finished: 91.18\n",
      "Quantile 0.9, parameter 1 finished: 89.9\n",
      "Quantile 0.9, parameter 2 finished: 89.98\n",
      "Quantile 0.75, parameter 0 finished: 75.48\n",
      "Quantile 0.75, parameter 1 finished: 75.64\n",
      "Quantile 0.75, parameter 2 finished: 74.86\n",
      "Quantile 0.5, parameter 0 finished: 50.8\n",
      "Quantile 0.5, parameter 1 finished: 50.08\n",
      "Quantile 0.5, parameter 2 finished: 50.48\n",
      "Quantile 0.25, parameter 0 finished: 25.76\n",
      "Quantile 0.25, parameter 1 finished: 25.08\n",
      "Quantile 0.25, parameter 2 finished: 25.1\n",
      "Quantile 0.1, parameter 0 finished: 10.34\n",
      "Quantile 0.1, parameter 1 finished: 10.68\n",
      "Quantile 0.1, parameter 2 finished: 9.54\n",
      "Quantile 0.05, parameter 0 finished: 4.44\n",
      "Quantile 0.05, parameter 1 finished: 4.68\n",
      "Quantile 0.05, parameter 2 finished: 4.56\n"
     ]
    }
   ],
   "source": [
    "im.reload(uq)\n",
    "val_coverage = uq.make_cqr_coverage_set(adj_val_uq, uq_val_labels[:,0:3])"
   ]
  },
  {
   "cell_type": "code",
   "execution_count": 242,
   "id": "9eae28ee",
   "metadata": {},
   "outputs": [
    {
     "data": {
      "text/plain": [
       "array([[95.42, 94.84, 95.32],\n",
       "       [91.18, 89.9 , 89.98],\n",
       "       [75.48, 75.64, 74.86],\n",
       "       [50.8 , 50.08, 50.48],\n",
       "       [25.76, 25.08, 25.1 ],\n",
       "       [10.34, 10.68,  9.54],\n",
       "       [ 4.44,  4.68,  4.56]])"
      ]
     },
     "execution_count": 242,
     "metadata": {},
     "output_type": "execute_result"
    }
   ],
   "source": [
    "np.array([v for k, v in val_coverage.items()])"
   ]
  },
  {
   "cell_type": "code",
   "execution_count": null,
   "id": "bd0a86d3",
   "metadata": {},
   "outputs": [],
   "source": [
    "def make_output_files(coverage_dict, ci_dict, filename):\n",
    "    df_caltest_coverage = pd.DataFrame(np.array([v for k, v in coverage_dict.items()]), \n",
    "                                            columns = [\"R0\", \"sample_rate\", \"migration_rate\"], \n",
    "                               index = [\"5\", \"10\", \"25\", \"50\", \"75\", \"90\", \"95\"])\n",
    "    df_caltest_coverage.to_csv(filename, sep = \"\\t\", index = True)"
   ]
  },
  {
   "cell_type": "code",
   "execution_count": 228,
   "id": "8bfdcd2b",
   "metadata": {},
   "outputs": [
    {
     "name": "stdout",
     "output_type": "stream",
     "text": [
      "Quantile 0.95, parameter 0 finished: 95.42\n",
      "Quantile 0.95, parameter 1 finished: 94.84\n",
      "Quantile 0.95, parameter 2 finished: 95.32\n",
      "Quantile 0.9, parameter 0 finished: 91.18\n",
      "Quantile 0.9, parameter 1 finished: 89.9\n",
      "Quantile 0.9, parameter 2 finished: 89.98\n",
      "Quantile 0.75, parameter 0 finished: 75.48\n",
      "Quantile 0.75, parameter 1 finished: 75.64\n",
      "Quantile 0.75, parameter 2 finished: 74.86\n",
      "Quantile 0.5, parameter 0 finished: 50.8\n",
      "Quantile 0.5, parameter 1 finished: 50.08\n",
      "Quantile 0.5, parameter 2 finished: 50.48\n",
      "Quantile 0.25, parameter 0 finished: 25.76\n",
      "Quantile 0.25, parameter 1 finished: 25.08\n",
      "Quantile 0.25, parameter 2 finished: 25.1\n",
      "Quantile 0.1, parameter 0 finished: 10.34\n",
      "Quantile 0.1, parameter 1 finished: 10.68\n",
      "Quantile 0.1, parameter 2 finished: 9.54\n",
      "Quantile 0.05, parameter 0 finished: 4.44\n",
      "Quantile 0.05, parameter 1 finished: 4.68\n",
      "Quantile 0.05, parameter 2 finished: 4.56\n"
     ]
    }
   ],
   "source": [
    "val_coverage = uq.make_cqr_coverage_set(adj_val_uq, uq_val_labels[:,0:3])\n",
    "\n",
    "# write to file\n",
    "df_caltest_coverage = pd.DataFrame(np.transpose(np.vstack((uq_cal_R0_coverage, uq_cal_delta_coverage, uq_cal_m_coverage))), \n",
    "                                            columns = [\"R0\", \"sample_rate\", \"migration_rate\"], \n",
    "                               index = [\"5\", \"10\", \"25\", \"50\", \"75\", \"90\", \"95\"])\n",
    "df_caltest_coverage.to_csv('../data_files/caltest_coverage.tsv', sep = \"\\t\", index = True)\n",
    "\n",
    "df_caltest_labels = pd.DataFrame(cal_val_labels[:,0:3], columns = ['R0', 'sample_rate', 'migration_rate'])\n",
    "df_caltest_labels.to_csv(\"output/caltest_labels.tsv\", sep = \"\\t\", index = False)\n",
    "\n",
    "# write 95% quantiles to file\n",
    "caltest_R0_95_q = np.array([R0_cpi_fun[0.95][0](cal_val_preds[:,[0,3,4]]), R0_cpi_fun[0.95][1](cal_val_preds[:,[0,3,4]])]).transpose()\n",
    "caltest_delta_95_q = np.array([delta_cpi_fun[0.95][0](cal_val_preds[:,[1,3,4]]), delta_cpi_fun[0.95][1](cal_val_preds[:,[1,3,4]])]).transpose()\n",
    "caltest_m_95_q = np.array([m_cpi_fun[0.95][0](cal_val_preds[:,[2,3,4]]), m_cpi_fun[0.95][1](cal_val_preds[:,[2,3,4]])]).transpose()\n",
    "\n",
    "df_caltest_95q = pd.DataFrame(np.hstack((caltest_R0_95_q, caltest_delta_95_q, caltest_m_95_q)),\n",
    "                         columns = [\"R0_lq\", \"R0_uq\", \"delta_lq\", \"delta_uq\", \"m_lq\", \"m_uq\"])\n",
    "df_caltest_95q.to_csv('output/caltest_95q.tsv', sep = \"\\t\", index = False)"
   ]
  },
  {
   "cell_type": "code",
   "execution_count": 202,
   "id": "ec1d09d2",
   "metadata": {},
   "outputs": [],
   "source": [
    "# function for computing all quantiles and populating an output dictionary\n",
    "def get_adj_ci(pred, adj):\n",
    "    return np.array((pred[0] - adj, pred[1] + adj))\n",
    "\n",
    "def get_cqr_ci(treeloc_tensor, prior_tensor):\n",
    "    tm = train_means[0:3]\n",
    "    tsd = train_sd[0:3]\n",
    "    \n",
    "    # PREDICT R0, sample rate, migration rate\n",
    "    uq95 = q95_model.predict([treeloc_tensor, prior_tensor])\n",
    "    uq90 = q90_model.predict([treeloc_tensor, prior_tensor])\n",
    "    uq75 = q75_model.predict([treeloc_tensor, prior_tensor])\n",
    "    uq50 = q50_model.predict([treeloc_tensor, prior_tensor])\n",
    "    uq25 = q25_model.predict([treeloc_tensor, prior_tensor])\n",
    "    uq10 = q10_model.predict([treeloc_tensor, prior_tensor])\n",
    "    uq05 = q05_model.predict([treeloc_tensor, prior_tensor])\n",
    "    \n",
    "    # reversing normalization\n",
    "    lin_uq95_preds = np.exp(cn.denormalize(uq95, tm, tsd))\n",
    "    lin_uq90_preds = np.exp(cn.denormalize(uq90, tm, tsd))\n",
    "    lin_uq75_preds = np.exp(cn.denormalize(uq75, tm, tsd))\n",
    "    lin_uq50_preds = np.exp(cn.denormalize(uq50, tm, tsd))\n",
    "    lin_uq25_preds = np.exp(cn.denormalize(uq25, tm, tsd))\n",
    "    lin_uq10_preds = np.exp(cn.denormalize(uq10, tm, tsd))\n",
    "    lin_uq05_preds = np.exp(cn.denormalize(uq05, tm, tsd))\n",
    "    \n",
    "    # adjust\n",
    "    adj_uq = {}\n",
    "    adj_uq[0.95] = get_adj_ci(lin_uq95_preds, adj_cqr95)\n",
    "    adj_uq[0.90] = get_adj_ci(lin_uq90_preds, adj_cqr90)\n",
    "    adj_uq[0.75] = get_adj_ci(lin_uq75_preds, adj_cqr75)\n",
    "    adj_uq[0.50] = get_adj_ci(lin_uq50_preds, adj_cqr50)\n",
    "    adj_uq[0.25] = get_adj_ci(lin_uq25_preds, adj_cqr25)\n",
    "    adj_uq[0.10] = get_adj_ci(lin_uq10_preds, adj_cqr10)\n",
    "    adj_uq[0.05] = get_adj_ci(lin_uq05_preds, adj_cqr05)\n",
    "    \n",
    "    return(adj_uq)\n",
    "    "
   ]
  },
  {
   "cell_type": "code",
   "execution_count": null,
   "id": "c114fe69",
   "metadata": {},
   "outputs": [],
   "source": [
    "\n",
    "\n",
    "#####################################\n",
    "## get coverages from experimente ###\n",
    "#####################################\n",
    "\n"
   ]
  },
  {
   "cell_type": "code",
   "execution_count": null,
   "id": "b0bb771d",
   "metadata": {},
   "outputs": [],
   "source": []
  },
  {
   "cell_type": "code",
   "execution_count": null,
   "id": "16db5375",
   "metadata": {},
   "outputs": [],
   "source": []
  },
  {
   "cell_type": "code",
   "execution_count": null,
   "id": "93927024",
   "metadata": {},
   "outputs": [],
   "source": []
  },
  {
   "cell_type": "code",
   "execution_count": null,
   "id": "f8fa025f",
   "metadata": {},
   "outputs": [],
   "source": []
  },
  {
   "cell_type": "code",
   "execution_count": null,
   "id": "b93071c9",
   "metadata": {},
   "outputs": [],
   "source": []
  },
  {
   "cell_type": "code",
   "execution_count": null,
   "id": "e7510e3a",
   "metadata": {},
   "outputs": [],
   "source": []
  },
  {
   "cell_type": "code",
   "execution_count": null,
   "id": "df1606d0",
   "metadata": {},
   "outputs": [],
   "source": []
  },
  {
   "cell_type": "code",
   "execution_count": null,
   "id": "ac92c359",
   "metadata": {},
   "outputs": [],
   "source": []
  },
  {
   "cell_type": "code",
   "execution_count": null,
   "id": "dbdae42b",
   "metadata": {},
   "outputs": [],
   "source": []
  }
 ],
 "metadata": {
  "celltoolbar": "Raw Cell Format",
  "kernelspec": {
   "display_name": "Python 3",
   "language": "python",
   "name": "python3"
  },
  "language_info": {
   "codemirror_mode": {
    "name": "ipython",
    "version": 3
   },
   "file_extension": ".py",
   "mimetype": "text/x-python",
   "name": "python",
   "nbconvert_exporter": "python",
   "pygments_lexer": "ipython3",
   "version": "3.6.13"
  }
 },
 "nbformat": 4,
 "nbformat_minor": 5
}
