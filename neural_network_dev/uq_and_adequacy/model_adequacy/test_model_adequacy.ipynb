{
 "cells": [
  {
   "cell_type": "code",
   "execution_count": 1,
   "id": "6debbcfa",
   "metadata": {},
   "outputs": [
    {
     "name": "stderr",
     "output_type": "stream",
     "text": [
      "Using TensorFlow backend.\n"
     ]
    }
   ],
   "source": [
    "import os, shutil\n",
    "import io\n",
    "from io import StringIO\n",
    "import re\n",
    "import sys\n",
    "from contextlib import redirect_stdout\n",
    "from keras import models\n",
    "import tensorflow as tf\n",
    "import matplotlib.pyplot as plt\n",
    "import numpy as np\n",
    "import pandas as pd\n",
    "import scipy.stats as sp\n",
    "from scipy.stats import kde\n",
    "import importlib as im\n",
    "import cnn_utilities as cn\n",
    "from sklearn import metrics\n",
    "import csv"
   ]
  },
  {
   "cell_type": "code",
   "execution_count": 3,
   "id": "bb7c4a5c",
   "metadata": {},
   "outputs": [
    {
     "name": "stdout",
     "output_type": "stream",
     "text": [
      "ERROR! Session/line number was not unique in database. History logging moved to new session 3240\n"
     ]
    }
   ],
   "source": [
    "# load trained model and normalization values\n",
    "my_model = models.load_model(\"saved_models/train_extant_R0_sampleRate_migrationRate.hdf5\")\n",
    "\n",
    "my_root_model = models.load_model(\"saved_models/train_extant_root_location.hdf5\", compile = False)\n",
    "my_root_model.compile(loss = 'categorical_crossentropy', optimizer = 'rmsprop', \n",
    "                      metrics = ['acc', tf.keras.metrics.AUC(), tf.keras.metrics.CategoricalCrossentropy()])\n",
    "\n",
    "mean_sd = pd.read_csv(\"saved_models/train_extant_normalization_label_mean_sd.csv\", \n",
    "                     index_col = 0).to_numpy()\n",
    "\n",
    "train_means = mean_sd[0,:]\n",
    "train_sd = mean_sd[1,:]\n",
    "train_aux_priors_means = train_means[3:,]\n",
    "train_aux_priors_sd = train_sd[3:,]\n",
    "\n",
    "num_locs = 5\n",
    "max_tips = 502\n",
    "\n",
    "\n",
    "extant_data = pd.read_csv(\"../model_adequacy/misspec_R0_seir.cblv.csv\", \n",
    "                   header =None, error_bad_lines = False, index_col = 0).to_numpy()\n",
    "\n",
    "extant_labels = pd.read_csv(\"../model_adequacy/misspec_R0_seir_labels.csv\",\n",
    "                    header = None, index_col = 0, error_bad_lines = False).to_numpy()"
   ]
  },
  {
   "cell_type": "code",
   "execution_count": 4,
   "id": "1d1adc24",
   "metadata": {},
   "outputs": [],
   "source": [
    "########################################\n",
    "# comapre APE of CNN to that of phylo ##\n",
    "########################################\n",
    "\n",
    "# compute and gather auxilliary prior data\n",
    "extant_subsample_prop = extant_data[:,(max_tips-1) * 7]\n",
    "phylocomp_mu = extant_data[:,(max_tips - 3) * 7]\n",
    "extant_num_tips = cn.get_num_tips(extant_data)\n",
    "\n",
    "aux_phylocomp = np.vstack((phylocomp_mu, extant_subsample_prop, extant_num_tips,\n",
    "                          extant_labels[:,8], extant_labels[:,9])).transpose()\n",
    "\n",
    "norm_aux_phylocomp = cn.normalize(aux_phylocomp, (train_aux_priors_means, train_aux_priors_sd))\n",
    "\n",
    "\n",
    "# create input tensors\n",
    "extant_treeLocation_tensor, extant_prior_tensor = cn.create_data_tensors(data = extant_data, \n",
    "                                                                                    mu = norm_aux_phylocomp[:,0],\n",
    "                                                                                    subsample_prop = norm_aux_phylocomp[:,1],\n",
    "                                                                                    num_tips = norm_aux_phylocomp[:,2],\n",
    "                                                                                    tmrca = norm_aux_phylocomp[:,3],\n",
    "                                                                                    mean_bl = norm_aux_phylocomp[:,4],\n",
    "                                                                                    num_locs = num_locs,\n",
    "                                                                                    max_tips = max_tips,\n",
    "                                                                                    cblv_contains_mu_rho = True)"
   ]
  },
  {
   "cell_type": "code",
   "execution_count": 5,
   "id": "b6a9eeb9",
   "metadata": {},
   "outputs": [],
   "source": [
    "# PREDICT R0, sample rate, migration rate\n",
    "extant_normalized_preds = my_model.predict([extant_treeLocation_tensor, extant_prior_tensor])\n",
    "\n",
    "# reversing normalization\n",
    "cnn_extant_preds = cn.denormalize(extant_normalized_preds, train_means[0:3], train_sd[0:3])\n",
    "cnn_extant_preds = np.exp(cnn_extant_preds)\n",
    "\n",
    "# PREDICT root location\n",
    "extant_root_loc_preds = my_root_model.predict([extant_treeLocation_tensor, extant_prior_tensor])"
   ]
  },
  {
   "cell_type": "code",
   "execution_count": 8,
   "id": "eb12986d",
   "metadata": {},
   "outputs": [
    {
     "data": {
      "text/plain": [
       "array([0.00000000e+00, 1.00000000e+00, 0.00000000e+00, 0.00000000e+00,\n",
       "       0.00000000e+00, 7.13095000e+00, 4.76000000e-03, 4.78000000e-03,\n",
       "       1.00000010e+02, 1.72711036e+01])"
      ]
     },
     "execution_count": 8,
     "metadata": {},
     "output_type": "execute_result"
    }
   ],
   "source": [
    "extant_labels[9,:]\n"
   ]
  },
  {
   "cell_type": "code",
   "execution_count": 10,
   "id": "8de2b76f",
   "metadata": {},
   "outputs": [
    {
     "data": {
      "text/plain": [
       "array([5.04224774e+00, 4.33535826e-03, 3.79363173e-03])"
      ]
     },
     "execution_count": 10,
     "metadata": {},
     "output_type": "execute_result"
    }
   ],
   "source": [
    "cnn_extant_preds[8,:]"
   ]
  },
  {
   "cell_type": "code",
   "execution_count": null,
   "id": "6d617434",
   "metadata": {},
   "outputs": [],
   "source": []
  }
 ],
 "metadata": {
  "kernelspec": {
   "display_name": "Python 3",
   "language": "python",
   "name": "python3"
  },
  "language_info": {
   "codemirror_mode": {
    "name": "ipython",
    "version": 3
   },
   "file_extension": ".py",
   "mimetype": "text/x-python",
   "name": "python",
   "nbconvert_exporter": "python",
   "pygments_lexer": "ipython3",
   "version": "3.6.13"
  }
 },
 "nbformat": 4,
 "nbformat_minor": 5
}
