{
 "cells": [
  {
   "cell_type": "code",
   "execution_count": 1,
   "id": "ae088086",
   "metadata": {},
   "outputs": [
    {
     "name": "stderr",
     "output_type": "stream",
     "text": [
      "Using TensorFlow backend.\n"
     ]
    }
   ],
   "source": [
    "import os, shutil\n",
    "from keras import Input\n",
    "from keras import Model\n",
    "from keras import models\n",
    "from keras import layers\n",
    "from keras import losses\n",
    "import matplotlib.pyplot as plt\n",
    "import numpy as np\n",
    "import pandas as pd\n",
    "import scipy.stats as sp\n",
    "import importlib as im\n",
    "import cnn_utilities as cn\n",
    "import tensorflow as tf\n",
    "from sklearn import metrics\n"
   ]
  },
  {
   "cell_type": "code",
   "execution_count": 3,
   "id": "7fbeb5de",
   "metadata": {},
   "outputs": [
    {
     "name": "stdout",
     "output_type": "stream",
     "text": [
      "ERROR! Session/line number was not unique in database. History logging moved to new session 3160\n"
     ]
    }
   ],
   "source": [
    "full_data = pd.read_csv(\"data_files/extant_training_set_0to40.cblv.csv\", \n",
    "                   header =None, error_bad_lines = False, index_col = 0).to_numpy()\n",
    "\n",
    "full_labels = pd.read_csv(\"data_files/extant_training_set_0to40_labels.csv\",\n",
    "                    header = None, error_bad_lines = False).to_numpy()\n",
    "\n"
   ]
  },
  {
   "cell_type": "code",
   "execution_count": 4,
   "id": "96898047",
   "metadata": {},
   "outputs": [
    {
     "data": {
      "text/plain": [
       "(111157, 3514)"
      ]
     },
     "execution_count": 4,
     "metadata": {},
     "output_type": "execute_result"
    }
   ],
   "source": [
    "# randomize data order\n",
    "randomized_idx = np.random.permutation(full_data.shape[0])\n",
    "full_data = full_data[randomized_idx,:]\n",
    "full_labels = full_labels[randomized_idx,:]\n",
    "full_data.shape\n",
    "\n"
   ]
  },
  {
   "cell_type": "code",
   "execution_count": 5,
   "id": "bcc37810",
   "metadata": {},
   "outputs": [],
   "source": [
    "# setting up the data shape params and aux params\n",
    "num_locs = 5\n",
    "max_tips = 502\n",
    "num_test = 1000 \n",
    "num_validation = 2000  # found early stoping epoch number using 10000 validation\n",
    "num_sample = full_data.shape[0]\n",
    "\n",
    "num_tips = cn.get_num_tips(full_data)\n",
    "subsample_prop = full_data[:,(max_tips-1) * 7]\n",
    "mu = full_data[:,(max_tips - 3) * 7]\n"
   ]
  },
  {
   "cell_type": "code",
   "execution_count": 6,
   "id": "2c22e68b",
   "metadata": {},
   "outputs": [],
   "source": [
    "# make labels\n",
    "labels = full_labels[0:num_sample, 0:5]\n",
    "train_labels = labels[(num_test + num_validation):,:]\n",
    "validation_labels = labels[num_test:num_test + num_validation,]\n",
    "test_labels = labels[:num_test,]"
   ]
  },
  {
   "cell_type": "code",
   "execution_count": 7,
   "id": "90ab596f",
   "metadata": {},
   "outputs": [],
   "source": [
    "# set up auxilliary priors and normalize; tree statistics and prior known parameter values (or ranges) \n",
    "# get num_tips and normalize\n",
    "aux_priors_treestats = np.vstack((mu, subsample_prop, num_tips, \n",
    "                                  full_labels[0:num_sample,8], \n",
    "                                  full_labels[0:num_sample,9])).transpose()\n",
    "norm_train_aux_priors_treestats, train_aux_priors_means, train_aux_priors_sd = cn.normalize(aux_priors_treestats[num_test + num_validation:,:])\n",
    "\n",
    "norm_val_aux_priors_treestats = cn.normalize(aux_priors_treestats[num_test:num_test + num_validation,], \n",
    "                                            (train_aux_priors_means, train_aux_priors_sd))\n",
    "norm_test_aux_priors_treestats = cn.normalize(aux_priors_treestats[:num_test,], \n",
    "                                            (train_aux_priors_means, train_aux_priors_sd))\n",
    "\n",
    "norm_aux_priors_treestats = np.concatenate((norm_test_aux_priors_treestats, \n",
    "                                            norm_val_aux_priors_treestats, \n",
    "                                            norm_train_aux_priors_treestats))\n"
   ]
  },
  {
   "cell_type": "code",
   "execution_count": 8,
   "id": "3ebb48e4",
   "metadata": {},
   "outputs": [
    {
     "name": "stdout",
     "output_type": "stream",
     "text": [
      "(108157, 499, 7) (108157, 5, 2)\n",
      "(1000, 499, 7) (1000, 5, 2)\n",
      "(2000, 499, 7) (2000, 5, 2)\n"
     ]
    }
   ],
   "source": [
    "# dev create data tensors\n",
    "        \n",
    "full_treeLocation_tensor, full_prior_tensor = cn.create_data_tensors(data = full_data[0:num_sample,:], \n",
    "                                                                        mu = norm_aux_priors_treestats[:,0],\n",
    "                                                                        subsample_prop = norm_aux_priors_treestats[:,1],\n",
    "                                                                        num_tips = norm_aux_priors_treestats[:,2],\n",
    "                                                                        tmrca = norm_aux_priors_treestats[:,3],\n",
    "                                                                        mean_bl = norm_aux_priors_treestats[:,4],\n",
    "                                                                        num_locs = num_locs,\n",
    "                                                                        max_tips = max_tips,\n",
    "                                                                        cblv_contains_mu_rho = True)\n",
    "\n",
    "train_treeLocation_tensor, validation_treeLocation_tensor,  test_treeLocation_tensor = cn.create_train_val_test_tensors(full_treeLocation_tensor, \n",
    "                                                                                                                        num_validation, num_test)\n",
    "train_prior_tensor, validation_prior_tensor,  test_prior_tensor = cn.create_train_val_test_tensors(full_prior_tensor, \n",
    "                                                                                                   num_validation, num_test)\n",
    "\n",
    "print(train_treeLocation_tensor.shape, train_prior_tensor.shape)\n",
    "print(test_treeLocation_tensor.shape, test_prior_tensor.shape)\n",
    "print(validation_treeLocation_tensor.shape, validation_prior_tensor.shape)"
   ]
  },
  {
   "cell_type": "code",
   "execution_count": 9,
   "id": "186991d4",
   "metadata": {},
   "outputs": [
    {
     "data": {
      "text/plain": [
       "<module 'cnn_utilities' from 'C:\\\\Users\\\\ammon_work\\\\Desktop\\\\git_repos\\\\epi_geo_simulation\\\\neural_network_dev\\\\cnn_utilities.py'>"
      ]
     },
     "execution_count": 9,
     "metadata": {},
     "output_type": "execute_result"
    }
   ],
   "source": [
    "im.reload(cn)"
   ]
  },
  {
   "cell_type": "code",
   "execution_count": 16,
   "id": "61e10e74",
   "metadata": {},
   "outputs": [],
   "source": [
    "# multi input cnn\n",
    "input_treeLocation_tensor = Input(shape = train_treeLocation_tensor.shape[1:3])\n",
    "w1 = layers.Conv1D(64, 3, strides = 1, activation = 'relu', padding = 'same')(input_treeLocation_tensor)\n",
    "w = layers.Conv1D(64, 5, activation = 'relu', padding = 'same')(w1)\n",
    "#w = layers.MaxPooling1D(pool_size = 3, stride = 1)(w)\n",
    "w = layers.Conv1D(96, 5, activation = 'relu', padding = 'same')(w)\n",
    "w = layers.Conv1D(128, 5, activation = 'relu', padding = 'same')(w)\n",
    "w = layers.Conv1D(256, 7, activation = 'relu', padding = 'same')(w)\n",
    "w_global_avg = layers.GlobalAveragePooling1D(name = 'w')(w)\n",
    "\n",
    "w_stride = layers.Conv1D(64, 7, strides = 3, activation = 'relu', padding = 'same')(w1)\n",
    "w_stride = layers.Conv1D(96, 9, strides = 6, activation = 'relu', padding = 'same')(w_stride)\n",
    "w_stride_global_avg = layers.GlobalAveragePooling1D(name = 'w_stride_global_avg')(w_stride)\n",
    "\n",
    "# tree + geolocation dilated\n",
    "w_dilated = layers.Conv1D(32, 3, dilation_rate = 2, activation = 'relu', padding = \"same\")(w1)\n",
    "w_dilated = layers.Conv1D(64, 5, dilation_rate = 4, activation = 'relu', padding = \"same\")(w_dilated)\n",
    "w_dilated = layers.Conv1D(128, 7, dilation_rate = 8, activation = 'relu', padding = \"same\")(w_dilated)\n",
    "w_dilated_global_avg = layers.GlobalAveragePooling1D(name = 'w_dilated_global_avg')(w_dilated)\n",
    "\n",
    "# prior known parameters and data statistics\n",
    "input_priors_tensor = Input(shape = train_prior_tensor.shape[1:3])\n",
    "priors = layers.Flatten()(input_priors_tensor)\n",
    "priors = layers.Dense(32, activation = 'relu', kernel_initializer = 'VarianceScaling', name = 'prior1')(priors)\n",
    "\n",
    "# concatenate all above -> deep fully connected network\n",
    "concatenated_wxyz = layers.Concatenate(axis = 1, name = 'all_concatenated')([w_stride_global_avg,\n",
    "                                                                             w_global_avg,\n",
    "                                                                             w_dilated_global_avg,\n",
    "                                                                             priors])\n",
    "\n",
    "wxyz = layers.Dense(256, activation = 'relu', kernel_initializer = 'VarianceScaling')(concatenated_wxyz)\n",
    "wxyz = layers.Dense(128, activation = 'relu', kernel_initializer = 'VarianceScaling')(wxyz)\n",
    "wxyz = layers.Dense(64, activation = 'relu', kernel_initializer = 'VarianceScaling')(wxyz)\n",
    "wxyz = layers.Dense(32, activation = 'relu', kernel_initializer = 'VarianceScaling')(wxyz)\n",
    "\n",
    "\n",
    "output_root_loc_layers = layers.Dense(5, activation = 'softmax', name = 'root_loc_output')(wxyz)\n",
    "\n"
   ]
  },
  {
   "cell_type": "code",
   "execution_count": 17,
   "id": "f485ef10",
   "metadata": {
    "scrolled": false
   },
   "outputs": [
    {
     "name": "stdout",
     "output_type": "stream",
     "text": [
      "Train on 108157 samples, validate on 2000 samples\n",
      "Epoch 1/10\n",
      "108157/108157 [==============================] - 219s 2ms/step - loss: 0.7998 - acc: 0.7416 - auc_2: 0.8596 - categorical_crossentropy: 0.9929 - val_loss: 0.6963 - val_acc: 0.7875 - val_auc_2: 0.9164 - val_categorical_crossentropy: 0.7986\n",
      "Epoch 2/10\n",
      "108157/108157 [==============================] - 219s 2ms/step - loss: 0.6658 - acc: 0.7987 - auc_2: 0.9230 - categorical_crossentropy: 0.7591 - val_loss: 0.7011 - val_acc: 0.7870 - val_auc_2: 0.9273 - val_categorical_crossentropy: 0.7322\n",
      "Epoch 3/10\n",
      "108157/108157 [==============================] - 219s 2ms/step - loss: 0.6485 - acc: 0.8032 - auc_2: 0.9298 - categorical_crossentropy: 0.7169 - val_loss: 0.6549 - val_acc: 0.8010 - val_auc_2: 0.9318 - val_categorical_crossentropy: 0.7044\n",
      "Epoch 4/10\n",
      "108157/108157 [==============================] - 219s 2ms/step - loss: 0.6358 - acc: 0.8073 - auc_2: 0.9334 - categorical_crossentropy: 0.6952 - val_loss: 0.6648 - val_acc: 0.7985 - val_auc_2: 0.9347 - val_categorical_crossentropy: 0.6873\n",
      "Epoch 5/10\n",
      "108157/108157 [==============================] - 220s 2ms/step - loss: 0.6227 - acc: 0.8112 - auc_2: 0.9358 - categorical_crossentropy: 0.6804 - val_loss: 0.6553 - val_acc: 0.7985 - val_auc_2: 0.9368 - val_categorical_crossentropy: 0.6745\n",
      "Epoch 6/10\n",
      "108157/108157 [==============================] - 219s 2ms/step - loss: 0.6135 - acc: 0.8146 - auc_2: 0.9377 - categorical_crossentropy: 0.6693 - val_loss: 0.6548 - val_acc: 0.8020 - val_auc_2: 0.9385 - val_categorical_crossentropy: 0.6644\n",
      "Epoch 7/10\n",
      "108157/108157 [==============================] - 219s 2ms/step - loss: 0.6019 - acc: 0.8186 - auc_2: 0.9393 - categorical_crossentropy: 0.6597 - val_loss: 0.6474 - val_acc: 0.8050 - val_auc_2: 0.9400 - val_categorical_crossentropy: 0.6556\n",
      "Epoch 8/10\n",
      "108157/108157 [==============================] - 219s 2ms/step - loss: 0.5911 - acc: 0.8208 - auc_2: 0.9407 - categorical_crossentropy: 0.6514 - val_loss: 0.6440 - val_acc: 0.8035 - val_auc_2: 0.9414 - val_categorical_crossentropy: 0.6477\n",
      "Epoch 9/10\n",
      "108157/108157 [==============================] - 219s 2ms/step - loss: 0.5762 - acc: 0.8270 - auc_2: 0.9421 - categorical_crossentropy: 0.6435 - val_loss: 0.6422 - val_acc: 0.8070 - val_auc_2: 0.9427 - val_categorical_crossentropy: 0.6398\n",
      "Epoch 10/10\n",
      "108157/108157 [==============================] - 219s 2ms/step - loss: 0.5630 - acc: 0.8309 - auc_2: 0.9433 - categorical_crossentropy: 0.6360 - val_loss: 0.6469 - val_acc: 0.8040 - val_auc_2: 0.9440 - val_categorical_crossentropy: 0.6323\n"
     ]
    },
    {
     "data": {
      "image/png": "[encoded data removed]",
      "text/plain": [
       "<Figure size 432x288 with 1 Axes>"
      ]
     },
     "metadata": {
      "needs_background": "light"
     },
     "output_type": "display_data"
    },
    {
     "data": {
      "image/png": "[encoded data removed]",
      "text/plain": [
       "<Figure size 432x288 with 1 Axes>"
      ]
     },
     "metadata": {
      "needs_background": "light"
     },
     "output_type": "display_data"
    },
    {
     "data": {
      "image/png": "[encoded data removed]",
      "text/plain": [
       "<Figure size 432x288 with 1 Axes>"
      ]
     },
     "metadata": {
      "needs_background": "light"
     },
     "output_type": "display_data"
    },
    {
     "data": {
      "image/png": "[encoded data removed]",
      "text/plain": [
       "<Figure size 432x288 with 1 Axes>"
      ]
     },
     "metadata": {
      "needs_background": "light"
     },
     "output_type": "display_data"
    },
    {
     "name": "stdout",
     "output_type": "stream",
     "text": [
      "1000/1000 [==============================] - 1s 1ms/step\n"
     ]
    },
    {
     "data": {
      "text/plain": [
       "[0.7214768300056458, 0.7799999713897705, 0.9439368844032288, 0.632399320602417]"
      ]
     },
     "execution_count": 17,
     "metadata": {},
     "output_type": "execute_result"
    }
   ],
   "source": [
    "# POWER MSE\n",
    "# def myLoss(y_true, y_pred):\n",
    "#     power = 2\n",
    "#     power_loss = tf.math.abs(y_true - y_pred)**power\n",
    "#     return tf.reduce_mean(power_loss, axis=-1)\n",
    "\n",
    "myLoss = \"categorical_crossentropy\"\n",
    "\n",
    "# NOTE: 'sparse_categorical_crossentropy' doesn't require one-hot encoding.  Consider for future...\n",
    "\n",
    "# instantiate MODEL\n",
    "mymodel = Model(inputs = [input_treeLocation_tensor, input_priors_tensor], \n",
    "                outputs = output_root_loc_layers)\n",
    "mymodel.compile(optimizer = 'adam', \n",
    "                loss = myLoss, \n",
    "                metrics = ['acc', tf.keras.metrics.AUC(), tf.keras.metrics.CategoricalCrossentropy()])\n",
    "\n",
    "history = mymodel.fit([train_treeLocation_tensor, train_prior_tensor], \n",
    "                      train_labels,\n",
    "                    epochs = 10, batch_size = 128, \n",
    "                    validation_data = ([validation_treeLocation_tensor, validation_prior_tensor], \n",
    "                                       validation_labels))\n",
    "\n",
    "\n",
    "# make history plots\n",
    "cn.make_history_plot(history)\n",
    "\n",
    "mymodel.evaluate([test_treeLocation_tensor, test_prior_tensor], test_labels)"
   ]
  },
  {
   "cell_type": "code",
   "execution_count": 18,
   "id": "a52d4741",
   "metadata": {},
   "outputs": [],
   "source": [
    "##################33\n",
    "## TEST loc pred ###\n",
    "###################\n",
    "test_preds = mymodel.predict([test_treeLocation_tensor, test_prior_tensor])\n",
    "nt_nv = num_test + num_validation\n",
    "test_pred_labels = test_labels[:, 0:5]\n"
   ]
  },
  {
   "cell_type": "code",
   "execution_count": 19,
   "id": "b4f592b1",
   "metadata": {},
   "outputs": [
    {
     "name": "stdout",
     "output_type": "stream",
     "text": [
      "tip frequency accuracy:  0.49103005801569566\n",
      "cnn prediction accuracy:  0.6907151683708653\n",
      "top tip prediction accuracy:  0.752\n",
      "top cnn prediction accuracy:  0.78\n"
     ]
    }
   ],
   "source": [
    "# how predictive are just counts without any phylo info?\n",
    "tip_loc_counts = np.zeros((test_treeLocation_tensor.shape[0],num_locs))\n",
    "tip_loc_distro = np.zeros((test_treeLocation_tensor.shape[0],num_locs))\n",
    "accuracy_tipfreq = np.zeros((test_treeLocation_tensor.shape[0]))\n",
    "accuracy_pred = np.zeros((test_treeLocation_tensor.shape[0]))\n",
    "acc_top_pred = np.zeros((test_treeLocation_tensor.shape[0]))\n",
    "acc_top_tipfreq = np.zeros((test_treeLocation_tensor.shape[0]))\n",
    "\n",
    "for i in range(0, test_treeLocation_tensor.shape[0]):    \n",
    "    tip_loc_counts[i,:] = sum(test_treeLocation_tensor[i,:,2:2+num_locs])\n",
    "    tip_loc_distro[i,:] = tip_loc_counts[i,:] / sum(tip_loc_counts[i,:])\n",
    "    accuracy_tipfreq[i] = sum(tip_loc_distro[i,:] * test_labels[i,:])\n",
    "    accuracy_pred[i] = sum(test_preds[i,:] * test_labels[i,:])\n",
    "    acc_top_tipfreq[i] = 1 * (np.argmax(tip_loc_distro[i,:]) == np.argmax(test_labels[i,:]))\n",
    "    acc_top_pred[i] = 1 * (np.argmax(test_preds[i,:]) == np.argmax(test_labels[i,:]))\n",
    "\n",
    "print(\"tip frequency accuracy: \", np.mean(accuracy_tipfreq))\n",
    "print(\"cnn prediction accuracy: \", np.mean(accuracy_pred))\n",
    "print(\"top tip prediction accuracy: \", np.mean(acc_top_tipfreq))\n",
    "print(\"top cnn prediction accuracy: \", np.mean(acc_top_pred))\n",
    "\n",
    " "
   ]
  },
  {
   "cell_type": "code",
   "execution_count": 20,
   "id": "3a0b3672",
   "metadata": {},
   "outputs": [
    {
     "data": {
      "image/png": "[encoded data removed]",
      "text/plain": [
       "<Figure size 432x288 with 1 Axes>"
      ]
     },
     "metadata": {
      "needs_background": "light"
     },
     "output_type": "display_data"
    },
    {
     "data": {
      "image/png": "[encoded data removed]",
      "text/plain": [
       "<Figure size 432x288 with 1 Axes>"
      ]
     },
     "metadata": {
      "needs_background": "light"
     },
     "output_type": "display_data"
    }
   ],
   "source": [
    "test_accuracy = np.max(test_preds * test_labels, axis = 1)\n",
    "plt.hist(test_accuracy, bins = 20, range = [0,1])\n",
    "plt.show()\n",
    "plt.hist(accuracy_tipfreq, bins = 20, range = [0,1])\n",
    "plt.show()"
   ]
  },
  {
   "cell_type": "code",
   "execution_count": 21,
   "id": "bbfd58de",
   "metadata": {},
   "outputs": [],
   "source": [
    "import csv\n",
    "mymodel.save(\"saved_models/train_extant_root_location.hdf5\")\n",
    "# mymodel.save(\"saved_models/train_largerRange_128batch_10epoch_root_location.hdf5\")\n"
   ]
  },
  {
   "cell_type": "code",
   "execution_count": null,
   "id": "f876dd48",
   "metadata": {},
   "outputs": [],
   "source": [
    "\n",
    "\n",
    "\n",
    "\n",
    "\n"
   ]
  }
 ],
 "metadata": {
  "kernelspec": {
   "display_name": "Python 3",
   "language": "python",
   "name": "python3"
  },
  "language_info": {
   "codemirror_mode": {
    "name": "ipython",
    "version": 3
   },
   "file_extension": ".py",
   "mimetype": "text/x-python",
   "name": "python",
   "nbconvert_exporter": "python",
   "pygments_lexer": "ipython3",
   "version": "3.6.13"
  }
 },
 "nbformat": 4,
 "nbformat_minor": 5
}
